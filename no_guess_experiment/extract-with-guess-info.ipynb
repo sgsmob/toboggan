{
 "cells": [
  {
   "cell_type": "code",
   "execution_count": 2,
   "metadata": {
    "collapsed": false,
    "deletable": true,
    "editable": true
   },
   "outputs": [
    {
     "name": "stdout",
     "output_type": "stream",
     "text": [
      "Working on zebra...\n",
      "\tdone getting keys...\n",
      "\tdone.\n",
      "Working on human...\n",
      "\tdone getting keys...\n",
      "\tdone.\n",
      "Working on mouse...\n",
      "\tdone getting keys...\n",
      "\tdone.\n",
      "Working on salmon...\n",
      "\tdone getting keys...\n",
      "\tdone.\n"
     ]
    }
   ],
   "source": [
    "\"\"\"\n",
    "    For each no-guess datapoint, extract its info from the\n",
    "    with-guess data as well.\n",
    "\"\"\"\n",
    "\n",
    "\n",
    "# First build NO_GUESS dictionary\n",
    "\n",
    "\n",
    "froots = ['zebra', 'human', 'mouse', 'salmon']\n",
    "no_guess_dir = './'\n",
    "regular_dir = '../make-figures/data/'\n",
    "\n",
    "for froot in froots:\n",
    "    # first load NO_GUESS\n",
    "    print( \"Working on {}...\".format(froot) )\n",
    "    noguess_keys = {}\n",
    "    with open(no_guess_dir + 'random-samples-' + froot + '.txt', 'r') as inputf:\n",
    "        for line in inputf:\n",
    "            parts = line.strip().split()\n",
    "            keyg = parts[0] + '.graph ' + parts[1]\n",
    "            noguess_keys[keyg] = 1\n",
    "    \n",
    "    print(\"\\tdone getting keys...\")\n",
    "    # then load WITH_GUESS\n",
    "    # extract, and write to file\n",
    "    with open(regular_dir + 'all-' + froot + '.txt', 'r') as guessf:\n",
    "        with open(no_guess_dir + 'with-guess-' + froot + '.txt', 'w') as outputf:\n",
    "            for line in guessf:\n",
    "                parts = line.strip().split()\n",
    "                keyg = parts[0] + ' ' + parts[1]\n",
    "                timeout_flag = int(parts[12])\n",
    "                if keyg in noguess_keys and timeout_flag == 0:\n",
    "                    outputf.write(line)\n",
    "                    \n",
    "    print(\"\\tdone.\")\n",
    "\n",
    "\n",
    "#    For Reference\n",
    "#    this is how a row of 'condensed-stats' or 'all-' is structured:\n",
    "    \n",
    "#    [filename, instance num,\n",
    "#     n_input, m_input, n_reduced, m_reduced,\n",
    "#     k_groundtruth, cutset_bound, improved_bound, k_optimal,\n",
    "#     time_weights, time_path, timeout_flag, timeout_limit,\n",
    "#     graphname]"
   ]
  }
 ],
 "metadata": {
  "kernelspec": {
   "display_name": "Python 3",
   "language": "python",
   "name": "python3"
  },
  "language_info": {
   "codemirror_mode": {
    "name": "ipython",
    "version": 3
   },
   "file_extension": ".py",
   "mimetype": "text/x-python",
   "name": "python",
   "nbconvert_exporter": "python",
   "pygments_lexer": "ipython3",
   "version": "3.6.0"
  }
 },
 "nbformat": 4,
 "nbformat_minor": 2
}
