{
 "cells": [
  {
   "cell_type": "code",
   "execution_count": 16,
   "metadata": {
    "collapsed": false,
    "deletable": true,
    "editable": true
   },
   "outputs": [
    {
     "name": "stdout",
     "output_type": "stream",
     "text": [
      "\\zebra  &  1.03  &  1.16  &  1.29  &  51 \\\\\n",
      "\\human  &  1.02  &  1.15  &  1.25  & 123 \\\\\n",
      "\\mouse  &  1.02  &  1.15  &  1.29  & 307 \\\\\n",
      "\\salmon  &  1.00  &  1.13  &  1.29  & 303 \\\\\n",
      "\\texttt{all}  &  1.01  &  1.15  &  1.29 & 307 \\\\\n"
     ]
    }
   ],
   "source": [
    "\"\"\"\n",
    "    Analyze runtime results for the 'no-guess' version of toboggan.\n",
    "\"\"\"\n",
    "\n",
    "import numpy as np\n",
    "\n",
    "small_perc = 5\n",
    "large_perc = 95\n",
    "\n",
    "froots = ['zebra', 'human', 'mouse', 'salmon']\n",
    "\n",
    "# first load NO_GUESS\n",
    "no_guess_times = {}\n",
    "\n",
    "for froot in froots:\n",
    "    temp_times = {}\n",
    "    with open('./results/condensed-stats-' + froot + '.txt', 'r') as inputf:\n",
    "        for line in inputf:\n",
    "            parts = line.strip().split()\n",
    "            keyg = parts[0] + ' ' + parts[1]\n",
    "            temp_times[keyg] = float(parts[10])\n",
    "    no_guess_times[froot] = temp_times\n",
    "    \n",
    "# now load WITH_GUESS\n",
    "with_guess_times = {}\n",
    "for froot in froots:\n",
    "    temp_times = {}\n",
    "    with open('./results/with-guess-' + froot + '.txt', 'r') as inputf:\n",
    "        for line in inputf:\n",
    "            parts = line.strip().split()\n",
    "            keyg = parts[0] + ' ' + parts[1]\n",
    "            temp_times[keyg] = float(parts[10])\n",
    "    with_guess_times[froot] = temp_times\n",
    "    \n",
    "# make table of ratios\n",
    "all_ratios = []\n",
    "for froot in froots:\n",
    "    ratios_for_froot = []\n",
    "    for key, val in no_guess_times[froot].items():\n",
    "        if key in with_guess_times[froot]:\n",
    "            if with_guess_times[froot][key] > 0:\n",
    "                ratio = val / with_guess_times[froot][key]\n",
    "                ratios_for_froot.append(ratio)\n",
    "                all_ratios.append(ratio)\n",
    "    print(\"\\\\{}  &  {:>3.2f}  &  {:>3.2f}  &  {:>3.2f}  & {:3.0f} \\\\\\\\\".format( froot,\n",
    "                                                                    np.percentile(ratios_for_froot, small_perc),\n",
    "                                                                    np.percentile(ratios_for_froot, 50),\n",
    "                                                                    np.percentile(ratios_for_froot, large_perc),\n",
    "                                                                    max(ratios_for_froot)  ) )\n",
    "\n",
    "print(\"\\\\{}  &  {:>3.2f}  &  {:>3.2f}  &  {:>3.2f} & {:>3.0f} \\\\\\\\\".format( \"texttt{all}\",\n",
    "                                                                np.percentile(all_ratios, small_perc),\n",
    "                                                                np.percentile(all_ratios, 50),\n",
    "                                                                np.percentile(ratios_for_froot, large_perc),\n",
    "                                                                max(all_ratios)\n",
    "                                                               ) )"
   ]
  }
 ],
 "metadata": {
  "kernelspec": {
   "display_name": "Python 3",
   "language": "python",
   "name": "python3"
  },
  "language_info": {
   "codemirror_mode": {
    "name": "ipython",
    "version": 3
   },
   "file_extension": ".py",
   "mimetype": "text/x-python",
   "name": "python",
   "nbconvert_exporter": "python",
   "pygments_lexer": "ipython3",
   "version": "3.6.0"
  }
 },
 "nbformat": 4,
 "nbformat_minor": 2
}
