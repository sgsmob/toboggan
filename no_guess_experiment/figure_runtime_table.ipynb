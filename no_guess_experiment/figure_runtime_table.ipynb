{
 "cells": [
  {
   "cell_type": "code",
   "execution_count": 6,
   "metadata": {
    "collapsed": false,
    "deletable": true,
    "editable": true
   },
   "outputs": [
    {
     "name": "stdout",
     "output_type": "stream",
     "text": [
      "1000 1000 319\n",
      "zebra  &  0.692  &  1.846  &  93.832 \\\\\n",
      "999 999 471\n",
      "human  &  0.781  &  1.613  &  76.539 \\\\\n",
      "998 998 369\n",
      "mouse  &  0.886  &  2.977  &  177.680 \\\\\n",
      "979 979 547\n",
      "salmon  &  0.502  &  2.049  &  195.431 \\\\\n"
     ]
    }
   ],
   "source": [
    "\"\"\"\n",
    "    Analyze runtime results for the 'no-guess' version of toboggan.\n",
    "\"\"\"\n",
    "\n",
    "froots = ['zebra', 'human', 'mouse', 'salmon']\n",
    "\n",
    "# first load NO_GUESS\n",
    "no_guess_times = {}\n",
    "for froot in froots:\n",
    "    temp_times = {}\n",
    "    with open('./results/condensed-stats-' + froot + '.txt', 'r') as inputf:\n",
    "        for line in inputf:\n",
    "            parts = line.strip().split()\n",
    "            keyg = parts[0] + ' ' + parts[1]\n",
    "            temp_times[keyg] = float(parts[10])\n",
    "    no_guess_times[froot] = temp_times\n",
    "    \n",
    "# now load WITH_GUESS\n",
    "with_guess_times = {}\n",
    "for froot in froots:\n",
    "    temp_times = {}\n",
    "    with open('./results/with-guess-' + froot + '.txt', 'r') as inputf:\n",
    "        for line in inputf:\n",
    "            parts = line.strip().split()\n",
    "            keyg = parts[0] + ' ' + parts[1]\n",
    "            temp_times[keyg] = float(parts[10])\n",
    "    with_guess_times[froot] = temp_times\n",
    "    \n",
    "# make table of ratios\n",
    "for froot in froots:\n",
    "    ratios_for_froot = []\n",
    "    for key, val in no_guess_times[froot].items():\n",
    "        if key in with_guess_times[froot]:\n",
    "            if with_guess_times[froot][key] > 0:\n",
    "                ratios_for_froot.append(val / with_guess_times[froot][key])\n",
    "    print(len(with_guess_times[froot]), len(with_guess_times[froot]), len(ratios_for_froot) )\n",
    "    print(\"{}  &  {:>3.3f}  &  {:>3.3f}  &  {:>3.3f} \\\\\\\\\".format( froot, min(ratios_for_froot), sum(ratios_for_froot)/len(ratios_for_froot), max(ratios_for_froot) ) )\n"
   ]
  }
 ],
 "metadata": {
  "kernelspec": {
   "display_name": "Python 3",
   "language": "python",
   "name": "python3"
  },
  "language_info": {
   "codemirror_mode": {
    "name": "ipython",
    "version": 3
   },
   "file_extension": ".py",
   "mimetype": "text/x-python",
   "name": "python",
   "nbconvert_exporter": "python",
   "pygments_lexer": "ipython3",
   "version": "3.6.0"
  }
 },
 "nbformat": 4,
 "nbformat_minor": 2
}
