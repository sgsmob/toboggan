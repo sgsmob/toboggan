{
 "cells": [
  {
   "cell_type": "code",
   "execution_count": 1,
   "metadata": {
    "collapsed": false,
    "deletable": true,
    "editable": true
   },
   "outputs": [
    {
     "name": "stdout",
     "output_type": "stream",
     "text": [
      "Working on zebra\n",
      "\t done\n",
      "Working on mouse\n",
      "\t done\n",
      "Working on human\n",
      "\t done\n",
      "Working on salmon\n",
      "\t done\n"
     ]
    }
   ],
   "source": [
    "\"\"\"\n",
    "Run this to uniformly at random extract a set of graph instances for each dataset,\n",
    "such that toboggan terminated successfully on them, and they are nontrivial.\n",
    "\"\"\"\n",
    "\n",
    "import random\n",
    "\n",
    "num_samples = 10\n",
    "\n",
    "froots = ['zebra', 'mouse', 'human', 'salmon']\n",
    "\n",
    "# [filename, instance num,\n",
    "#  n_input, m_input, n_reduced, m_reduced,\n",
    "#  k_groundtruth, cutset_bound, improved_bound, k_optimal,\n",
    "#  time_weights, time_path, timeout_flag, timeout_limit,\n",
    "#  graphname]\n",
    "  \n",
    "for idx in [0,1,2,3]:\n",
    "    froot = froots[idx]\n",
    "    print(\"Working on {}\".format(froot))\n",
    "    input_dir = '../make-figures/data/'\n",
    "    input_filename = 'path-weights-' + froot + '.txt'\n",
    "    outputfilename = './random-samples-' + froot + '.txt'\n",
    "    \n",
    "    # load in all keys\n",
    "    keylist = []\n",
    "    numpaths = {}\n",
    "    with open(input_dir + input_filename, 'r') as inputf:\n",
    "        for line in inputf:\n",
    "            parts = line.strip().split()\n",
    "            gkey = str(parts[0]) + ' ' + str(parts[1])\n",
    "            keylist.append(gkey)\n",
    "            numpaths[gkey] = parts[1]\n",
    "            \n",
    "    sample_dict = {}\n",
    "    while len(sample_dict) < num_samples:\n",
    "        rand_sample = keylist[random.randint(0,len(keylist))]\n",
    "        if rand_sample in sample_dict:\n",
    "            continue\n",
    "        elif numpaths[rand_sample] == 'None':\n",
    "            continue\n",
    "        elif int(numpaths[rand_sample]) > 1:\n",
    "            sample_dict[rand_sample] = 1\n",
    "        \n",
    "    with open(outputfilename, 'w') as outputf:\n",
    "        for key, val in sample_dict.items():\n",
    "            outputf.write(key + '\\n')\n",
    "\n",
    "    print(\"\\t done\")"
   ]
  }
 ],
 "metadata": {
  "kernelspec": {
   "display_name": "Python 3",
   "language": "python",
   "name": "python3"
  },
  "language_info": {
   "codemirror_mode": {
    "name": "ipython",
    "version": 3
   },
   "file_extension": ".py",
   "mimetype": "text/x-python",
   "name": "python",
   "nbconvert_exporter": "python",
   "pygments_lexer": "ipython3",
   "version": "3.6.0"
  }
 },
 "nbformat": 4,
 "nbformat_minor": 2
}
