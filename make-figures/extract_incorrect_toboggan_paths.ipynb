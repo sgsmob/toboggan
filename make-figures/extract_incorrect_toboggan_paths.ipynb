{
 "cells": [
  {
   "cell_type": "code",
   "execution_count": 1,
   "metadata": {
    "collapsed": false
   },
   "outputs": [
    {
     "name": "stdout",
     "output_type": "stream",
     "text": [
      "Loading human\n",
      "Loading mouse\n",
      "Loading zebra\n",
      "Done with get_all_data\n",
      "\n"
     ]
    }
   ],
   "source": [
    "# FILTER DATA\n",
    "from load_all_data import get_all_data\n",
    "\n",
    "# [1] get all data\n",
    "all_path_info, all_toboggan_data = get_all_data( [0,1,2] )\n",
    "froots = ['human', 'mouse', 'zebra']"
   ]
  },
  {
   "cell_type": "code",
   "execution_count": 3,
   "metadata": {
    "collapsed": true
   },
   "outputs": [],
   "source": [
    "for froot in froots:\n",
    "    indices_strange = {}\n",
    "    with open( 'incorrect-' + froot + '.txt','w') as bizarrefile:\n",
    "        for key, val in all_toboggan_data[froot].items():\n",
    "            if key not in all_path_info['toboggan'][froot]:\n",
    "                continue\n",
    "            k_groundtruth = val[4]\n",
    "            k_cutset = val[5]\n",
    "            k_improve = val[6]\n",
    "            k_truth = val[7]\n",
    "\n",
    "            if k_truth != k_groundtruth or k_truth == '1':\n",
    "                continue\n",
    "            paths_toboggan = all_path_info['toboggan'][froot][key]\n",
    "            paths_groundtruth = all_path_info['groundtruth'][froot][key]\n",
    "            if paths_toboggan == paths_groundtruth:\n",
    "                continue\n",
    "\n",
    "            indices_strange[key] = (paths_toboggan, paths_groundtruth)\n",
    "            \n",
    "            filename = key.split()[0] + '.graph'\n",
    "            \n",
    "            bizarrefile.write( filename + ' ' + key.split()[1] + '\\n' )\n",
    "            \n",
    "\n"
   ]
  }
 ],
 "metadata": {
  "kernelspec": {
   "display_name": "Python 3",
   "language": "python",
   "name": "python3"
  },
  "language_info": {
   "codemirror_mode": {
    "name": "ipython",
    "version": 3
   },
   "file_extension": ".py",
   "mimetype": "text/x-python",
   "name": "python",
   "nbconvert_exporter": "python",
   "pygments_lexer": "ipython3",
   "version": "3.6.0"
  }
 },
 "nbformat": 4,
 "nbformat_minor": 2
}
