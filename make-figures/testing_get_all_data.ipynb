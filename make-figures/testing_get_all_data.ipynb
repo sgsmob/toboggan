{
 "cells": [
  {
   "cell_type": "code",
   "execution_count": 1,
   "metadata": {
    "collapsed": false,
    "deletable": true,
    "editable": true
   },
   "outputs": [
    {
     "name": "stdout",
     "output_type": "stream",
     "text": [
      "Loading human\n",
      "Loading mouse\n",
      "Loading zebra\n",
      "Done with get_all_data\n",
      "\n"
     ]
    }
   ],
   "source": [
    "# FILTER DATA\n",
    "from load_all_data import get_all_data\n",
    "\n",
    "# [1] get all data\n",
    "all_path_info, all_toboggan_data = get_all_data( [0,1,2] )\n",
    "froots = ['human', 'mouse', 'zebra']\n"
   ]
  },
  {
   "cell_type": "code",
   "execution_count": 2,
   "metadata": {
    "collapsed": true
   },
   "outputs": [],
   "source": [
    "for dataset in froots:\n",
    "    for key, row in all_toboggan_data[dataset].items():\n",
    "        cutset = row[5]\n",
    "        kopt = row[7]\n",
    "        if cutset == 'None':\n",
    "            print(key, row)\n",
    "            break\n",
    "        "
   ]
  },
  {
   "cell_type": "code",
   "execution_count": 3,
   "metadata": {
    "collapsed": false,
    "deletable": true,
    "editable": true
   },
   "outputs": [
    {
     "name": "stdout",
     "output_type": "stream",
     "text": [
      "\n",
      " human\n",
      "Num_timeouts 2478\n",
      "Num trivials 639560\n",
      "timeouts + trivial + len(path_info) 1169083\n",
      "Length of all_info 1169083\n",
      "Num nontrivial, nontimeouts, but no path info 0\n",
      "\n",
      " mouse\n",
      "Num_timeouts 2487\n",
      "Num trivials 842873\n",
      "timeouts + trivial + len(path_info) 1316058\n",
      "Length of all_info 1316058\n",
      "Num nontrivial, nontimeouts, but no path info 0\n",
      "\n",
      " zebra\n",
      "Num_timeouts 178\n",
      "Num trivials 1103493\n",
      "timeouts + trivial + len(path_info) 1549373\n",
      "Length of all_info 1549373\n",
      "Num nontrivial, nontimeouts, but no path info 0\n"
     ]
    }
   ],
   "source": [
    "# Checks for any instance whose information/pathset is inconsistent inside our data representations\n",
    "\n",
    "\"\"\"\n",
    "datamatrix[j] = [ n, m, n_red, m_red,\n",
    "               k_groundtruth, cutset_bound, improved_bound, k_opt,\n",
    "               t_w, t_path, timeout_flag, timeout_limit, graphname]\n",
    "\"\"\"\n",
    "num_nontrivto_wpaths = 0\n",
    "num_wpath_notobog = 0\n",
    "num_wpath_andtriv = 0\n",
    "num_wpath_andto = 0\n",
    "\n",
    "for dataset in froots:\n",
    "    num_trivial = 0\n",
    "    num_timeouts = 0\n",
    "    for key, row in all_toboggan_data[dataset].items():\n",
    "        if row[7] == '1':  # check trivials\n",
    "            num_trivial += 1\n",
    "        if row[10] == '1':  # check timeouts\n",
    "            num_timeouts += 1\n",
    "        if row[7] != '1' and row[10] != '1':\n",
    "            if key not in all_path_info['toboggan'][dataset]:\n",
    "                num_nontrivto_wpaths += 1\n",
    "                # print(\" {}  not a trivial or timeout, but not in pathinfo\".format(key))\n",
    "    print(\"\\n\", dataset)\n",
    "    print(\"Num_timeouts {}\".format(num_timeouts))\n",
    "    print(\"Num trivials {}\".format(num_trivial))\n",
    "    print(\"timeouts + trivial + len(path_info) {}\".format(num_timeouts + num_trivial + len(all_path_info['toboggan'][dataset])))\n",
    "    print(\"Length of all_info {}\".format(len(all_toboggan_data[dataset])))\n",
    "    print(\"Num nontrivial, nontimeouts, but no path info {}\".format(num_nontrivto_wpaths))\n",
    "    \n",
    "    num_instances = 0\n",
    "    for key, path in all_path_info['toboggan'][dataset].items():\n",
    "        if key not in all_toboggan_data[dataset]:\n",
    "            # print(\"{} not in toboggan data, but in path data\".format(key))\n",
    "            num_wpath_notobog += 1\n",
    "            continue\n",
    "        row = all_toboggan_data[dataset][key]\n",
    "        if row[7] == '1':  # check trivials\n",
    "            # print(\" {} has path info but also marked trivial\".format(key))\n",
    "            num_wpath_andtriv += 1\n",
    "            # print(row)\n",
    "            # print(path)\n",
    "        if row[10] == '1':  # check timeouts\n",
    "            num_wpath_andto += 1\n",
    "            # print(\" {} has path info but also marked timeout\".format(key))\n",
    "            # print(row)\n",
    "            # print(path)\n",
    "\n"
   ]
  },
  {
   "cell_type": "code",
   "execution_count": 4,
   "metadata": {
    "collapsed": false,
    "deletable": true,
    "editable": true
   },
   "outputs": [
    {
     "name": "stdout",
     "output_type": "stream",
     "text": [
      "\n",
      "Starting human\n",
      "Num total         1169083\n",
      "Num trivial          639560\n",
      "Num trivial tobog              0\n",
      "Num nontrivial, nontimeout          527045\n",
      "Num problems               0\n",
      "Num kopt = kgt    99.956%\n",
      "Num kopt = kgt = cutset    98.084%\n",
      "Num kopt = cutset    98.106%\n",
      "Num tobog = gt    93.089%\n",
      "\n",
      "Starting mouse\n",
      "Num total         1316058\n",
      "Num trivial          842873\n",
      "Num trivial tobog              0\n",
      "Num nontrivial, nontimeout          470698\n",
      "Num problems               0\n",
      "Num kopt = kgt    99.926%\n",
      "Num kopt = kgt = cutset    97.554%\n",
      "Num kopt = cutset    97.585%\n",
      "Num tobog = gt    90.112%\n",
      "\n",
      "Starting zebra\n",
      "Num total         1549373\n",
      "Num trivial         1103493\n",
      "Num trivial tobog              0\n",
      "Num nontrivial, nontimeout          445702\n",
      "Num problems               0\n",
      "Num kopt = kgt    99.947%\n",
      "Num kopt = kgt = cutset    98.126%\n",
      "Num kopt = cutset    98.151%\n",
      "Num tobog = gt    89.684%\n"
     ]
    }
   ],
   "source": [
    "# [1] Determine\n",
    "\"\"\"\n",
    "all_toboggan_data[froot][key] = row\n",
    "            row = [ n, m, n_red, m_red,\n",
    "                  k_groundtruth, k_opt, cutset_bound, improved_bound,\n",
    "                  t_w, t_path]\n",
    "\"\"\"\n",
    "\n",
    "for dataset in froots:\n",
    "    num_kopt_eq_kgt = 0\n",
    "    num_kopt_eq_kgt_and_cutset = 0\n",
    "    num_kopt_eq_cutset = 0\n",
    "    num_toboggan_eq_gt = 0\n",
    "    num_trivial = 0\n",
    "    num_tobog_trivial = 0\n",
    "    num_total = 0\n",
    "    num_timeouts = 0\n",
    "    num_problems = 0\n",
    "    print(\"\\nStarting {}\".format(dataset))\n",
    "    for key, row in all_toboggan_data[dataset].items():\n",
    "        num_total += 1\n",
    "        if row[3] == '0':\n",
    "            num_trivial += 1\n",
    "            continue            \n",
    "        max_cutset = int(row[5])\n",
    "        k_opt = row[7]\n",
    "        if k_opt == 'None':  # timeouts\n",
    "            num_timeouts += 1\n",
    "            continue\n",
    "        toboggan_paths = all_path_info['toboggan'][dataset][key]\n",
    "        gt_paths = all_path_info['groundtruth'][dataset][key]\n",
    "        k_opt = int(k_opt)\n",
    "        #k_opt = len(set(toboggan_paths))\n",
    "        k_gt = len(set(gt_paths))\n",
    "        if len(set(toboggan_paths)) == 0:  # k_opt == 1\n",
    "            num_tobog_trivial += 1\n",
    "            continue\n",
    "        \n",
    "        if int(k_opt) != len(set(toboggan_paths)):\n",
    "            print(key, row, len(toboggan_paths))\n",
    "            num_problems += 1\n",
    "\n",
    "        if k_opt == k_gt:\n",
    "            num_kopt_eq_kgt += 1\n",
    "            if k_opt == max_cutset:\n",
    "                num_kopt_eq_kgt_and_cutset += 1\n",
    "        if k_opt == max_cutset:\n",
    "            num_kopt_eq_cutset += 1\n",
    "        if gt_paths == toboggan_paths:\n",
    "            num_toboggan_eq_gt += 1\n",
    "\n",
    "    print(\"Num total {:15d}\".format(num_total))\n",
    "    print(\"Num trivial {:15d}\".format(num_trivial))\n",
    "    print(\"Num trivial tobog{:15d}\".format(num_tobog_trivial))\n",
    "    num_nontrivial = num_total - num_trivial - num_timeouts\n",
    "    print(\"Num nontrivial, nontimeout {:15d}\".format(num_nontrivial))\n",
    "    print(\"Num problems {:15d}\".format(num_problems))\n",
    "    print(\"Num kopt = kgt {:10.3%}\".format(num_kopt_eq_kgt/num_nontrivial))\n",
    "    print(\"Num kopt = kgt = cutset {:10.3%}\".format(num_kopt_eq_kgt_and_cutset/num_nontrivial))\n",
    "    print(\"Num kopt = cutset {:10.3%}\".format(num_kopt_eq_cutset/num_nontrivial))\n",
    "    print(\"Num tobog = gt {:10.3%}\".format(num_toboggan_eq_gt/num_nontrivial))\n"
   ]
  },
  {
   "cell_type": "code",
   "execution_count": 7,
   "metadata": {
    "collapsed": false,
    "deletable": true,
    "editable": true
   },
   "outputs": [
    {
     "name": "stdout",
     "output_type": "stream",
     "text": [
      "catfish has 18088\n",
      "toboggan has 38901\n"
     ]
    },
    {
     "data": {
      "image/png": "[encoded data removed]",
      "text/plain": [
       "<matplotlib.figure.Figure at 0x7f33c8964940>"
      ]
     },
     "metadata": {},
     "output_type": "display_data"
    },
    {
     "name": "stdout",
     "output_type": "stream",
     "text": [
      "Done with plot alg-recall-\n",
      "catfish has 16660\n",
      "toboggan has 49028\n"
     ]
    },
    {
     "data": {
      "image/png": "[encoded data removed]",
      "text/plain": [
       "<matplotlib.figure.Figure at 0x7f33c8a62908>"
      ]
     },
     "metadata": {},
     "output_type": "display_data"
    },
    {
     "name": "stdout",
     "output_type": "stream",
     "text": [
      "Done with plot alg-recall-\n",
      "catfish has 9069\n",
      "toboggan has 46158\n"
     ]
    },
    {
     "data": {
      "image/png": "[encoded data removed]",
      "text/plain": [
       "<matplotlib.figure.Figure at 0x7f33c8af6588>"
      ]
     },
     "metadata": {},
     "output_type": "display_data"
    },
    {
     "name": "stdout",
     "output_type": "stream",
     "text": [
      "Done with plot alg-recall-\n"
     ]
    }
   ],
   "source": [
    "# LOOKING AT jaccard index WHEN TOBOGGAN != GT\n",
    "import numpy\n",
    "import matplotlib.pyplot as plt\n",
    "import collections\n",
    "    \n",
    "show_flag = True\n",
    "\n",
    "data_catfish = []\n",
    "data_toboggan = []\n",
    "num_nontrivials = []\n",
    "\n",
    "def get_stats(set1, set2):\n",
    "    identical = False\n",
    "    if set1 == set2:\n",
    "        identical = True\n",
    "    len_intersect = len(set1.intersection(set2))\n",
    "    jaccard = len_intersect / ( len(set1) + len(set2) - len_intersect )\n",
    "    if len(set1) == 0:\n",
    "        recall = 1.0\n",
    "    else:\n",
    "        recall = len_intersect / len(set1)\n",
    "\n",
    "    return recall, jaccard, identical\n",
    "\n",
    "for which_dataset in [0,1,2]:\n",
    "    froot = froots[which_dataset]\n",
    "    gt_pathset_dict = all_path_info['groundtruth'][froot]\n",
    "    all_toboggan_paths = all_path_info['toboggan'][froot]\n",
    "    all_catfish_paths = all_path_info['catfish'][froot]\n",
    "\n",
    "    this_catfish = []\n",
    "    this_toboggan = []\n",
    "    this_num_nontrivial = 0\n",
    "    for key, gt_path in gt_pathset_dict.items():\n",
    "        gt_size = len(gt_path)\n",
    "        if gt_size == 1:  # skip trivial instances\n",
    "            continue\n",
    "        cat_recall, cat_jaccard, cat_identical = get_stats(gt_path, all_catfish_paths[key])\n",
    "        tob_recall, tob_jaccard, tob_identical = get_stats(gt_path, all_toboggan_paths[key])\n",
    "        if not cat_identical:\n",
    "            this_catfish.append( (gt_size, cat_recall, cat_jaccard, key) )\n",
    "        if not tob_identical:\n",
    "            this_toboggan.append((gt_size, tob_recall, tob_jaccard, key) )\n",
    "        this_num_nontrivial += 1\n",
    "    \n",
    "    #     data_catfish.append(this_catfish)\n",
    "    #     data_toboggan.append(this_toboggan)\n",
    "    #     num_nontrivials.append(this_num_nontrivial)\n",
    "    data_catfish = this_catfish\n",
    "    data_toboggan = this_toboggan\n",
    "    num_nontrivial = this_num_nontrivial\n",
    "\n",
    "    print(\"catfish has {}\".format(len(data_catfish)))\n",
    "    print(\"toboggan has {}\".format(len(data_toboggan)))\n",
    "\n",
    "    figurename = 'alg-recall-'\n",
    "    alg_names = ['catfish', 'toboggan']\n",
    "    colors = ['red', 'blue']\n",
    "\n",
    "    plt.close()\n",
    "    plt.clf()\n",
    "\n",
    "    sizes_cat, recall_cat, jaccard_cat, keys_cat = zip(*data_catfish)\n",
    "    sizes_tob, recall_tob, jaccard_tob, keys_tob = zip(*data_toboggan)\n",
    "\n",
    "    fig = plt.figure(1, figsize=(9, 6))\n",
    "    ax = fig.add_subplot(111)\n",
    "    ax.boxplot( [jaccard_cat, jaccard_tob] )\n",
    "\n",
    "    plt.title('Comparison vs ground truth of {}; {}'.format(froot, num_nontrivial))\n",
    "    plt.ylabel('jaccard index of algorithm output')\n",
    "    ax.set_xticklabels( [alg_names[0] + \" {}\".format(len(data_catfish)), alg_names[1] + \" {}\".format(len(data_toboggan))] )\n",
    "    fig.tight_layout()\n",
    "\n",
    "    if show_flag:\n",
    "        plt.show()\n",
    "    else:\n",
    "        plt.savefig( './figures/' + ''.join([figurename, froot, '.pdf']), format='pdf', dpi=300)\n",
    "        plt.savefig( './figures/' + ''.join([figurename, froot, '.png']), format='png', dpi=300)\n",
    "    plt.close()\n",
    "    print(\"Done with plot {}\".format(figurename))"
   ]
  },
  {
   "cell_type": "code",
   "execution_count": null,
   "metadata": {
    "collapsed": true
   },
   "outputs": [],
   "source": []
  }
 ],
 "metadata": {
  "kernelspec": {
   "display_name": "Python 3",
   "language": "python",
   "name": "python3"
  },
  "language_info": {
   "codemirror_mode": {
    "name": "ipython",
    "version": 3
   },
   "file_extension": ".py",
   "mimetype": "text/x-python",
   "name": "python",
   "nbconvert_exporter": "python",
   "pygments_lexer": "ipython3",
   "version": "3.6.0"
  }
 },
 "nbformat": 4,
 "nbformat_minor": 2
}
