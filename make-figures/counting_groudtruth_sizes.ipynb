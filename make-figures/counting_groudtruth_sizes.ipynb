{
 "cells": [
  {
   "cell_type": "code",
   "execution_count": null,
   "metadata": {
    "collapsed": true,
    "deletable": true,
    "editable": true
   },
   "outputs": [],
   "source": [
    "# [1] COLLECT ALL GROUND TRUTH DATA\n",
    "import collections\n",
    "from algorithm_output_parser import process_algorithm_output\n",
    "from algorithm_output_parser import toboggan_output_parser\n",
    "from algorithm_output_parser import catfish_output_parser\n",
    "\n",
    "from load_all_data import get_all_data\n",
    "\n",
    "\n",
    "show_flag = False\n",
    "\n",
    "\n",
    "# [1] get all data\n",
    "all_path_info, all_toboggan_data = get_all_data( [0,1,2] )\n",
    "froots = ['human', 'mouse', 'zebra']"
   ]
  },
  {
   "cell_type": "code",
   "execution_count": null,
   "metadata": {
    "collapsed": true,
    "deletable": true,
    "editable": true
   },
   "outputs": [],
   "source": [
    "# COUNTING PERCFENT OF GROUND TRUTH DECOMPS UNDER CERTAIN SIZE\n",
    "import collections\n",
    "gt_pathsizes = collections.defaultdict(int)\n",
    "froots = ['mouse', 'human', 'zebra']\n",
    "for froot in froots:\n",
    "    this_pathset = all_path_info['groundtruth'][froot]\n",
    "    for key, val in this_pathset.items():\n",
    "        if len(val) == 1:\n",
    "            continue\n",
    "        gt_pathsizes[ len(val) ] += 1\n",
    "print(gt_pathsizes)"
   ]
  },
  {
   "cell_type": "code",
   "execution_count": null,
   "metadata": {
    "collapsed": true,
    "deletable": true,
    "editable": true
   },
   "outputs": [],
   "source": [
    "import numpy\n",
    "total_num = 0\n",
    "total_less_than = [ 0 for x in range(0,max(gt_pathsizes.keys())+1) ]\n",
    "print(len(total_less_than))\n",
    "for key, val in gt_pathsizes.items():\n",
    "    total_num += val\n",
    "    total_less_than[key] = val\n",
    "\n",
    "print( [x/total_num for x in numpy.cumsum(total_less_than) ])"
   ]
  }
 ],
 "metadata": {
  "kernelspec": {
   "display_name": "Python 3",
   "language": "python",
   "name": "python3"
  },
  "language_info": {
   "codemirror_mode": {
    "name": "ipython",
    "version": 3
   },
   "file_extension": ".py",
   "mimetype": "text/x-python",
   "name": "python",
   "nbconvert_exporter": "python",
   "pygments_lexer": "ipython3",
   "version": "3.6.0"
  }
 },
 "nbformat": 4,
 "nbformat_minor": 2
}
