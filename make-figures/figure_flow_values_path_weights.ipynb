{
 "cells": [
  {
   "cell_type": "code",
   "execution_count": null,
   "metadata": {
    "collapsed": true,
    "deletable": true,
    "editable": true
   },
   "outputs": [],
   "source": [
    "\"\"\"\n",
    "This iterates over all .graph files in a directory, and, for each\n",
    "graph file, iterates over all instances in the file. For each instance,\n",
    "the script writes to file a row of text containing the following info:\n",
    "\n",
    "the row begins with \"[filename] [graph index]\"\n",
    "and is followed by all the flow values for that graph (separated by spaces).\n",
    "\"\"\"\n",
    "\n",
    "from gtruth_counter import get_flows_dict\n",
    "\n",
    "froots = ['zebra', 'mouse', 'human', 'salmon']\n",
    "datadirs = ['zebrafish', 'mouse', 'human', 'salmon']\n",
    "\n",
    "for idx in [0,1,2,3]:\n",
    "    froot = froots[idx]\n",
    "    print(\"Working on {}\".format(froot))\n",
    "    truth_dir = '/home/kyle/data/rnaseq/' + datadirs[idx] + '/'\n",
    "    outputfilename = './data/edge-flows-' + froot + '.txt'\n",
    "    \n",
    "    get_flows_dict(truth_dir, outputfilename)\n",
    "    print(\"\\t done\")"
   ]
  },
  {
   "cell_type": "code",
   "execution_count": 1,
   "metadata": {
    "collapsed": false,
    "deletable": true,
    "editable": true
   },
   "outputs": [
    {
     "name": "stdout",
     "output_type": "stream",
     "text": [
      "Working on salmon\n",
      "\t done\n"
     ]
    }
   ],
   "source": [
    "# Collect path-weights from the master files, write to file\n",
    "\n",
    "from pathweight_scrape import toboggan_output_weights_parser as get_pweights\n",
    "\n",
    "froots = ['zebra', 'mouse', 'human', 'salmon']\n",
    "datadirs = ['zebrafish', 'mouse', 'human', 'salmon']\n",
    "\n",
    "for idx in [3]:\n",
    "    froot = froots[idx]\n",
    "    print(\"Working on {}\".format(froot))\n",
    "    toboggan_output_dir = './data/'\n",
    "    inputfilename =  froot + '-master-file.txt'\n",
    "    \n",
    "    outputfilename = './data/path-weights-' + froot + '.txt'\n",
    "    \n",
    "    toboggan_path_weights = get_pweights(toboggan_output_dir + inputfilename)\n",
    "    \n",
    "    with open(outputfilename, 'w') as outputfile:\n",
    "        for key, weightset in toboggan_path_weights.items():\n",
    "            line = key\n",
    "            for weight in weightset:\n",
    "                line = line + ' ' + str(weight)\n",
    "            outputfile.write(line + ' \\n')\n",
    "    print(\"\\t done\")"
   ]
  },
  {
   "cell_type": "code",
   "execution_count": 1,
   "metadata": {
    "collapsed": false,
    "deletable": true,
    "editable": true
   },
   "outputs": [
    {
     "name": "stdout",
     "output_type": "stream",
     "text": [
      "Working on zebra\n",
      "\t done\n",
      "Working on mouse\n",
      "\t done\n",
      "Working on human\n",
      "\t done\n",
      "Working on salmon\n",
      "\t done\n"
     ]
    }
   ],
   "source": [
    "# Load from file the pathweights and flowvalues for each solution,\n",
    "# compile results\n",
    "\n",
    "froots = ['zebra', 'mouse', 'human', 'salmon']\n",
    "datadirs = ['zebrafish', 'mouse', 'human', 'salmon']\n",
    "\n",
    "dataset_info = {}\n",
    "dataset_totals = {}\n",
    "\n",
    "for idx in [0,1,2,3]:\n",
    "    froot = froots[idx]\n",
    "    print(\"Working on {}\".format(froot))\n",
    "    edgefilename = './data/edge-flows-' + froot + '.txt'\n",
    "    pathfilename = './data/path-weights-' + froot + '.txt'\n",
    "    \n",
    "    # build dictionary for edge flows\n",
    "    edgeflows = {}\n",
    "    with open(edgefilename, 'r') as inputf:\n",
    "        for line in inputf:\n",
    "            parts = line.strip().split()\n",
    "            gkey = parts[0] + ' ' + parts[1]\n",
    "            flowset = []\n",
    "            for flowval in parts[2:]:\n",
    "                flowset.append(int(flowval))\n",
    "            edgeflows[gkey] = set(flowset)\n",
    "\n",
    "    # build array of results\n",
    "    results = []\n",
    "    totals_flow_vals = 0\n",
    "    totals_pweights_overlap = 0\n",
    "    with open(pathfilename, 'r') as inputf:\n",
    "        for line in inputf:\n",
    "            parts = line.strip().split()\n",
    "            gkey = parts[0] + ' ' + parts[1]\n",
    "            \n",
    "            flowset = edgeflows[gkey]\n",
    "            num_flow_vals = len(flowset)\n",
    "            \n",
    "            num_pweights_overlap = 0\n",
    "            for weightval in parts[2:]:\n",
    "                if int(weightval) in flowset:\n",
    "                    num_pweights_overlap += 1\n",
    "            results.append( num_pweights_overlap/len(parts[2:]) )\n",
    "            totals_flow_vals += len(parts[2:])\n",
    "            totals_pweights_overlap += num_pweights_overlap\n",
    "\n",
    "    dataset_totals[froot] = [totals_pweights_overlap, totals_flow_vals]\n",
    "    dataset_info[froot] = results\n",
    "    print(\"\\t done\")"
   ]
  },
  {
   "cell_type": "code",
   "execution_count": 2,
   "metadata": {
    "collapsed": false,
    "deletable": true,
    "editable": true
   },
   "outputs": [
    {
     "name": "stdout",
     "output_type": "stream",
     "text": [
      "zebra        &  0.996\\% \\\\\n",
      "mouse        &  0.996\\% \\\\\n",
      "human        &  0.997\\% \\\\\n",
      "salmon       &  0.998\\% \\\\\n",
      "\\midrule\n",
      "total   & 0.997\\% \\\\\n"
     ]
    }
   ],
   "source": [
    "# Print in latex-table format\n",
    "\n",
    "for froot in froots:\n",
    "    print(\"{:<10}   &  {:3.3f}\\\\% \\\\\\\\\".format(froot,\n",
    "                                    sum(dataset_info[froot])/len(dataset_info[froot]))\n",
    "         )\n",
    "print( \"\\midrule\")\n",
    "print( \"total   & {:3.3f}\\\\% \\\\\\\\\".format( sum( sum(dataset_info[froot]) for froot in froots) / sum( len(dataset_info[froot]) for froot in froots)) )"
   ]
  }
 ],
 "metadata": {
  "kernelspec": {
   "display_name": "Python 3",
   "language": "python",
   "name": "python3"
  },
  "language_info": {
   "codemirror_mode": {
    "name": "ipython",
    "version": 3
   },
   "file_extension": ".py",
   "mimetype": "text/x-python",
   "name": "python",
   "nbconvert_exporter": "python",
   "pygments_lexer": "ipython3",
   "version": "3.6.0"
  }
 },
 "nbformat": 4,
 "nbformat_minor": 2
}
