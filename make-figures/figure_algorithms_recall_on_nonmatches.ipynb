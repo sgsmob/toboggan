{
 "cells": [
  {
   "cell_type": "code",
   "execution_count": 1,
   "metadata": {
    "collapsed": true,
    "deletable": true,
    "editable": true
   },
   "outputs": [],
   "source": [
    "\"\"\"\n",
    "Find all groundtruth instances where catfish fails, and where \n",
    "\"\"\"\n",
    "# [1] COLLECT ALL GROUND TRUTH DATA\n",
    "from parse_truth_ALL import main as parse_truth_all\n",
    "import collections\n",
    "\n",
    "datadir = '/home/kyle/data/rnaseq/mouse/'\n",
    "froot = 'mouse'\n",
    "\n",
    "show_flag = False\n",
    "# Given list of gt filename-instancenum pairs, aggregate dictionary:\n",
    "# key = 'filename instancenum'\n",
    "# val = ground truth path decomp info (weights and paths)\n",
    "gt_pathset_dict = parse_truth_all(datadir)"
   ]
  },
  {
   "cell_type": "code",
   "execution_count": 2,
   "metadata": {
    "collapsed": true,
    "deletable": true,
    "editable": true
   },
   "outputs": [],
   "source": [
    "# [2] GET CATFISH INFO\n",
    "from algorithm_output_parser import catfish_output_parser\n",
    "catfish_results_file = '../catfish-comparison/catfish-log-' + froot + '.txt'\n",
    "all_catfish_paths = catfish_output_parser(catfish_results_file, gt_pathset_dict, verbose=False)"
   ]
  },
  {
   "cell_type": "code",
   "execution_count": 3,
   "metadata": {
    "collapsed": true,
    "deletable": true,
    "editable": true
   },
   "outputs": [],
   "source": [
    "# [3] GET TOBOGGAN INFO\n",
    "from algorithm_output_parser import toboggan_output_parser\n",
    "toboggan_results_file = './data/' + froot + '-master-file.txt'\n",
    "all_toboggan_paths = toboggan_output_parser(toboggan_results_file, gt_pathset_dict, verbose=False)"
   ]
  },
  {
   "cell_type": "code",
   "execution_count": 10,
   "metadata": {
    "collapsed": false
   },
   "outputs": [],
   "source": [
    "def get_stats(set1, set2):\n",
    "    if set1 == set2:\n",
    "        return 1.0, True\n",
    "    elif len(set1) == 0:\n",
    "        return 1.0, False\n",
    "    return len(set1.intersection(set2)) / len(set1), False\n",
    "        \n",
    "data_catfish = []\n",
    "data_toboggan = []\n",
    "for key, gt_path in gt_pathset_dict.items():\n",
    "    gt_size = len(gt_path)\n",
    "    cat_recall, cat_identical = get_stats(gt_path, all_catfish_paths[key])\n",
    "    tob_recall, tob_identical = get_stats(gt_path, all_toboggan_paths[key])\n",
    "    if not cat_identical:\n",
    "        data_catfish.append( (gt_size, cat_recall) )\n",
    "    if not tob_identical:\n",
    "        data_toboggan.append( (gt_size, tob_recall) )"
   ]
  },
  {
   "cell_type": "code",
   "execution_count": 29,
   "metadata": {
    "collapsed": false
   },
   "outputs": [
    {
     "ename": "TypeError",
     "evalue": "'Text' object is not callable",
     "output_type": "error",
     "traceback": [
      "\u001b[0;31m---------------------------------------------------------------------------\u001b[0m",
      "\u001b[0;31mTypeError\u001b[0m                                 Traceback (most recent call last)",
      "\u001b[0;32m<ipython-input-29-25b640f71fbd>\u001b[0m in \u001b[0;36m<module>\u001b[0;34m()\u001b[0m\n\u001b[1;32m     16\u001b[0m \u001b[0max\u001b[0m\u001b[0;34m.\u001b[0m\u001b[0mboxplot\u001b[0m\u001b[0;34m(\u001b[0m \u001b[0;34m[\u001b[0m\u001b[0mdata_cat\u001b[0m\u001b[0;34m,\u001b[0m \u001b[0mdata_tob\u001b[0m\u001b[0;34m]\u001b[0m \u001b[0;34m)\u001b[0m\u001b[0;34m\u001b[0m\u001b[0m\n\u001b[1;32m     17\u001b[0m \u001b[0;34m\u001b[0m\u001b[0m\n\u001b[0;32m---> 18\u001b[0;31m \u001b[0max\u001b[0m\u001b[0;34m.\u001b[0m\u001b[0mtitle\u001b[0m\u001b[0;34m(\u001b[0m\u001b[0;34m'Recall on ground truth of {}'\u001b[0m\u001b[0;34m.\u001b[0m\u001b[0mformat\u001b[0m\u001b[0;34m(\u001b[0m\u001b[0mfroot\u001b[0m\u001b[0;34m)\u001b[0m\u001b[0;34m)\u001b[0m\u001b[0;34m\u001b[0m\u001b[0m\n\u001b[0m\u001b[1;32m     19\u001b[0m \u001b[0max\u001b[0m\u001b[0;34m.\u001b[0m\u001b[0mset_ylabel\u001b[0m\u001b[0;34m(\u001b[0m\u001b[0;34m'recall of algorithm output'\u001b[0m\u001b[0;34m)\u001b[0m\u001b[0;34m\u001b[0m\u001b[0m\n\u001b[1;32m     20\u001b[0m \u001b[0max\u001b[0m\u001b[0;34m.\u001b[0m\u001b[0mset_xticklabels\u001b[0m\u001b[0;34m(\u001b[0m\u001b[0malg_names\u001b[0m\u001b[0;34m)\u001b[0m\u001b[0;34m\u001b[0m\u001b[0m\n",
      "\u001b[0;31mTypeError\u001b[0m: 'Text' object is not callable"
     ]
    }
   ],
   "source": [
    "import numpy\n",
    "import matplotlib.pyplot as plt\n",
    "import collections\n",
    "\n",
    "figurename = 'alg-recall-'\n",
    "alg_names = ['catfish', 'toboggan']\n",
    "colors = ['red', 'blue']\n",
    "\n",
    "plt.close()\n",
    "plt.clf()\n",
    "\n",
    "sizes_cat, data_cat = zip(*data_catfish)\n",
    "sizes_tob, data_tob = zip(*data_toboggan)\n",
    "\n",
    "ax = fig.add_subplot(111)\n",
    "ax.boxplot( [data_cat, data_tob] )\n",
    "\n",
    "ax.title('Recall on ground truth of {}'.format(froot))\n",
    "ax.set_ylabel('recall of algorithm output')\n",
    "ax.set_xticklabels(alg_names)\n",
    "# ax.set_xticklabels(['Sample1', 'Sample2', 'Sample3', 'Sample4'])\n",
    "# fig.tight_layout()\n",
    "\n",
    "show_flag = True\n",
    "if show_flag:\n",
    "    plt.show()\n",
    "else:\n",
    "    plt.savefig( './figures/' + ''.join([figurename, froot, '.eps']), format='eps', dpi=300)\n",
    "    plt.savefig( './figures/' + ''.join([figurename, froot, '.png']), format='png', dpi=300)\n",
    "plt.close()\n",
    "print(\"Done with plot {}\".format(figurename))\n",
    "\n"
   ]
  },
  {
   "cell_type": "code",
   "execution_count": 20,
   "metadata": {
    "collapsed": false
   },
   "outputs": [
    {
     "data": {
      "text/plain": [
       "<matplotlib.figure.Figure at 0x7f2858755470>"
      ]
     },
     "metadata": {},
     "output_type": "display_data"
    },
    {
     "data": {
      "image/png": "[encoded data removed]",
      "text/plain": [
       "<matplotlib.figure.Figure at 0x7f2858755160>"
      ]
     },
     "metadata": {},
     "output_type": "display_data"
    },
    {
     "name": "stdout",
     "output_type": "stream",
     "text": [
      "Done with plot alg-recall-\n"
     ]
    }
   ],
   "source": [
    "# import numpy\n",
    "# import matplotlib.pyplot as plt\n",
    "# import collections\n",
    "\n",
    "# figurename = 'alg-recall-'\n",
    "# alg_names = ['catfish', 'toboggan']\n",
    "# colors = ['red', 'blue']\n",
    "\n",
    "# def get_width(num_datapoints):\n",
    "#     return 0.18*numpy.log10(num_datapoints)\n",
    "\n",
    "\n",
    "# plt.close()\n",
    "# plt.clf()\n",
    "\n",
    "# fig, ax1 = plt.subplots()\n",
    "# fig_alg = {}\n",
    "# max_label = 0\n",
    "\n",
    "# temp = collections.defaultdict(list)\n",
    "# input_data = data_catfish\n",
    "# for soln_size, soln_recall in input_data:\n",
    "#     temp[soln_size].append(soln_recall)\n",
    "\n",
    "# labels = []\n",
    "# data = []\n",
    "# for label, array in temp.items():\n",
    "#     labels.append(labels)\n",
    "#     data.append(array)\n",
    "\n",
    "# plt.boxplot( data )\n",
    "\n",
    "# for which_alg in all_stats:\n",
    "#     print(\" {} with # data points {} \".format(alg_names[which_alg], len(all_stats[which_alg])) )\n",
    "#     # all_stats.append( [len(gt_pathset), len(catfish_pathset), this_jaccard_value, this_intersect, gap] )\n",
    "#     stats = all_stats[which_alg]\n",
    "#     inds_identical = indices_identical[which_alg]\n",
    "#     inds_timeouts = indices_timeout[which_alg]\n",
    "\n",
    "#     data1 = numpy.array(stats[:,0])  # size of ground truth pathset\n",
    "#     data2 = numpy.array(stats[inds_identical, 0])  # size of ground truth pathset when algorithm identical\n",
    "\n",
    "#     data1_counter = collections.Counter([ x[0] for x in data1 ])\n",
    "#     data2_counter = collections.Counter([ x[0] for x in data2 ])\n",
    "\n",
    "#     data1_counter = collections.Counter([ x[0] for x in data1 ])\n",
    "#     data2_counter = collections.Counter([ x[0] for x in data2 ])\n",
    "\n",
    "#     data = []\n",
    "#     soln_sizes = []\n",
    "#     num_datapoints = []\n",
    "#     widths = []\n",
    "#     for soln_size, x in data1_counter.items():\n",
    "#         y = data2_counter[soln_size]\n",
    "#         if x != 0:\n",
    "#             data.append(y/x)\n",
    "#             num_datapoints.append(int(x))\n",
    "#             soln_sizes.append(int(soln_size))\n",
    "#             widths.append(get_width(x))\n",
    "#             if y != 0:\n",
    "#                 max_label = max( max_label, int(soln_size) )\n",
    "\n",
    "#     ax1.scatter(soln_sizes, data, color=colors[which_alg], label=alg_names[which_alg], alpha=0.5)\n",
    "\n",
    "# plt.title(\"Algorithms, success on {}\".format(froot))\n",
    "# plt.xlabel(\"Ground truth decomposition size\")\n",
    "# ax1.set_ylabel(\"proportion of instances: output = GT\", color='purple')\n",
    "# ax1.set_ylim([0,1])\n",
    "# ax1.tick_params('y', colors='purple')\n",
    "\n",
    "# # get all ground truth sizes\n",
    "# soln_sizes = [ (int(soln_size), int(count)) for soln_size, count in \\\n",
    "#               collections.Counter([ x[0] for x in \\\n",
    "#                                    numpy.array(all_stats[0][:,0]) ]).items() if count != 0 ]         \n",
    "# soln_sizes, num_datapoints = zip(*soln_sizes)\n",
    "\n",
    "# plt.xticks( range(1, int(max(soln_sizes)+1)) )\n",
    "# ax2 = ax1.twinx()\n",
    "# ax2.bar(list(soln_sizes), list(num_datapoints), color='grey', alpha=0.33)\n",
    "# ax2.set_ylabel('Num instances', color='grey')\n",
    "# ax2.set_yscale(\"log\")\n",
    "# ax2.tick_params('y', colors='grey')\n",
    "\n",
    "# ax1.legend(loc='upper right', frameon=False)#, handles=ax1, labels=alg_names)\n",
    "# fig.tight_layout()\n",
    "\n",
    "# show_flag = True\n",
    "\n",
    "# if show_flag:\n",
    "#     plt.show()\n",
    "# else:\n",
    "#     plt.savefig( './figures/' + ''.join([figurename, froot, '.eps']), format='eps', dpi=300)\n",
    "#     plt.savefig( './figures/' + ''.join([figurename, froot, '.png']), format='png', dpi=300)\n",
    "# plt.close()\n",
    "# print(\"Done with plot {}\".format(figurename))"
   ]
  }
 ],
 "metadata": {
  "kernelspec": {
   "display_name": "Python 3",
   "language": "python",
   "name": "python3"
  },
  "language_info": {
   "codemirror_mode": {
    "name": "ipython",
    "version": 3
   },
   "file_extension": ".py",
   "mimetype": "text/x-python",
   "name": "python",
   "nbconvert_exporter": "python",
   "pygments_lexer": "ipython3",
   "version": "3.6.0"
  }
 },
 "nbformat": 4,
 "nbformat_minor": 2
}
