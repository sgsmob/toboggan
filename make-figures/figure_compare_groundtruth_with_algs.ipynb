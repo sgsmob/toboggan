{
 "cells": [
  {
   "cell_type": "code",
   "execution_count": 1,
   "metadata": {
    "collapsed": false,
    "deletable": true,
    "editable": true,
    "scrolled": true
   },
   "outputs": [],
   "source": [
    "# [1] COLLECT ALL GROUND TRUTH DATA\n",
    "from parse_truth_ALL import main as parse_truth_all\n",
    "import collections\n",
    "\n",
    "datadir = '/home/kyle/data/rnaseq/mouse/'\n",
    "froot = 'mouse'\n",
    "show_flag = False\n",
    "\n",
    "# Given list of gt filename-instancenum pairs, aggregate dictionary:\n",
    "# key = 'filename instancenum'\n",
    "# val = ground truth path decomp info (weights and paths)\n",
    "gt_pathset_dict = parse_truth_all(datadir)"
   ]
  },
  {
   "cell_type": "code",
   "execution_count": 2,
   "metadata": {
    "collapsed": false,
    "deletable": true,
    "editable": true,
    "scrolled": true
   },
   "outputs": [],
   "source": [
    "# [2] GET CATFISH INFO\n",
    "from algorithm_output_parser import catfish_output_parser\n",
    "catfish_results_file = '../catfish-comparison/catfish-log-' + froot + '.txt'\n",
    "all_catfish_paths = catfish_output_parser(catfish_results_file, gt_pathset_dict, verbose=False)"
   ]
  },
  {
   "cell_type": "code",
   "execution_count": 3,
   "metadata": {
    "collapsed": true
   },
   "outputs": [],
   "source": [
    "# [3] GET TOBOGGAN INFO\n",
    "from algorithm_output_parser import toboggan_output_parser\n",
    "toboggan_results_file = './data/' + froot + '-master-file.txt'\n",
    "all_toboggan_paths = toboggan_output_parser(toboggan_results_file, gt_pathset_dict, verbose=False)"
   ]
  },
  {
   "cell_type": "code",
   "execution_count": 4,
   "metadata": {
    "collapsed": false,
    "deletable": true,
    "editable": true
   },
   "outputs": [],
   "source": [
    "# [4] COMPARE GROUND TRUTH VS ALGORITHM OUTPUT\n",
    "from algorithm_output_parser import process_algorithm_output"
   ]
  },
  {
   "cell_type": "code",
   "execution_count": 5,
   "metadata": {
    "collapsed": false
   },
   "outputs": [
    {
     "name": "stdout",
     "output_type": "stream",
     "text": [
      "Num timeouts = 0\n",
      "Num timeouts = 2485\n"
     ]
    }
   ],
   "source": [
    "# FILTER ALGORITHM OUTPUTS FOR RELEVANT DATA\n",
    "# catfish_stats, catfish_identical, catfish_different = get_stats_for_algorithm(gt_pathset_dict, all_catfish_paths)\n",
    "# toboggan_stats, toboggan_identical, toboggan_different = get_stats_for_algorithm(gt_pathset_dict, all_toboggan_paths)\n",
    "\n",
    "all_stats = {}\n",
    "indices_identical = {}\n",
    "indices_different = {}\n",
    "indices_timeout = {}\n",
    "\n",
    "all_stats[0], indices_identical[0], indices_different[0], indices_timeout[0] = process_algorithm_output(gt_pathset_dict, all_catfish_paths)\n",
    "all_stats[1], indices_identical[1], indices_different[1], indices_timeout[1] = process_algorithm_output(gt_pathset_dict, all_toboggan_paths)"
   ]
  },
  {
   "cell_type": "code",
   "execution_count": 6,
   "metadata": {
    "collapsed": false,
    "deletable": true,
    "editable": true
   },
   "outputs": [],
   "source": [
    "# [7] PLOT RATIO OF SUCCESS VS DECOMP SIZE\n",
    "import numpy\n",
    "import matplotlib.pyplot as plt\n",
    "import collections\n",
    "figurename = 'size-vs-ratio-identical-'\n",
    "\n",
    "def plot_ratio_success(figurename, all_stats, indices_identical, indices_timeout):\n",
    "    plt.close()\n",
    "    plt.clf()\n",
    "\n",
    "    alg_names = ['catfish', 'toboggan']\n",
    "    colors = ['red', 'blue']\n",
    "\n",
    "    def get_width(num_datapoints):\n",
    "        return 0.18*numpy.log10(num_datapoints)\n",
    "\n",
    "    fig, ax1 = plt.subplots()\n",
    "    fig_alg = {}\n",
    "    max_label = 0\n",
    "\n",
    "    for which_alg in all_stats:\n",
    "        print(\" {} with # data points {} \".format(alg_names[which_alg], len(all_stats[which_alg])) )\n",
    "        # all_stats.append( [len(gt_pathset), len(catfish_pathset), this_jaccard_value, this_intersect, gap] )\n",
    "        stats = all_stats[which_alg]\n",
    "        inds_identical = indices_identical[which_alg]\n",
    "        inds_timeouts = indices_timeout[which_alg]\n",
    "\n",
    "        data1 = numpy.array(stats[:,0])  # size of ground truth pathset\n",
    "        data2 = numpy.array(stats[inds_identical, 0])  # size of ground truth pathset when algorithm identical\n",
    "\n",
    "        data1_counter = collections.Counter([ x[0] for x in data1 ])\n",
    "        data2_counter = collections.Counter([ x[0] for x in data2 ])\n",
    "\n",
    "        data1_counter = collections.Counter([ x[0] for x in data1 ])\n",
    "        data2_counter = collections.Counter([ x[0] for x in data2 ])\n",
    "\n",
    "        data = []\n",
    "        soln_sizes = []\n",
    "        num_datapoints = []\n",
    "        widths = []\n",
    "        for soln_size, x in data1_counter.items():\n",
    "            y = data2_counter[soln_size]\n",
    "            if x != 0:\n",
    "                data.append(y/x)\n",
    "                num_datapoints.append(int(x))\n",
    "                soln_sizes.append(int(soln_size))\n",
    "                widths.append(get_width(x))\n",
    "                if y != 0:\n",
    "                    max_label = max( max_label, int(soln_size) )\n",
    "\n",
    "        ax1.scatter(soln_sizes, data, color=colors[which_alg], label=alg_names[which_alg], alpha=0.5)\n",
    "\n",
    "    plt.title(\"Algorithms, success on {}\".format(froot))\n",
    "    plt.xlabel(\"Ground truth decomposition size\")\n",
    "    ax1.set_ylabel(\"proportion of instances: output = GT\", color='purple')\n",
    "    ax1.set_ylim([0,1])\n",
    "    ax1.tick_params('y', colors='purple')\n",
    "\n",
    "    # get all ground truth sizes\n",
    "    soln_sizes = [ (int(soln_size), int(count)) for soln_size, count in \\\n",
    "                  collections.Counter([ x[0] for x in \\\n",
    "                                       numpy.array(all_stats[0][:,0]) ]).items() if count != 0 ]         \n",
    "    soln_sizes, num_datapoints = zip(*soln_sizes)\n",
    "\n",
    "    plt.xticks( range(1, int(max(soln_sizes)+1)) )\n",
    "    ax2 = ax1.twinx()\n",
    "    ax2.bar(list(soln_sizes), list(num_datapoints), color='grey', alpha=0.33)\n",
    "    ax2.set_ylabel('Num instances', color='grey')\n",
    "    ax2.set_yscale(\"log\")\n",
    "    ax2.tick_params('y', colors='grey')\n",
    "\n",
    "    ax1.legend(loc='upper right', frameon=False)#, handles=ax1, labels=alg_names)\n",
    "    fig.tight_layout()\n",
    "\n",
    "    show_flag = False\n",
    "\n",
    "    if show_flag:\n",
    "        plt.show()\n",
    "    else:\n",
    "        plt.savefig( './figures/' + ''.join([figurename, froot, '.eps']), format='eps', dpi=300)\n",
    "        plt.savefig( './figures/' + ''.join([figurename, froot, '.png']), format='png', dpi=300)\n",
    "    plt.close()\n",
    "    print(\"Done with plot {}\".format(figurename))"
   ]
  },
  {
   "cell_type": "code",
   "execution_count": 7,
   "metadata": {
    "collapsed": false
   },
   "outputs": [
    {
     "name": "stdout",
     "output_type": "stream",
     "text": [
      " catfish with # data points 473185 \n",
      " toboggan with # data points 473185 \n",
      "Done with plot size-vs-ratio-identical-\n"
     ]
    }
   ],
   "source": [
    "plot_ratio_success('size-vs-ratio-identical-', all_stats, indices_identical, indices_timeout)"
   ]
  },
  {
   "cell_type": "code",
   "execution_count": null,
   "metadata": {
    "collapsed": true
   },
   "outputs": [],
   "source": []
  }
 ],
 "metadata": {
  "kernelspec": {
   "display_name": "Python 3",
   "language": "python",
   "name": "python3"
  },
  "language_info": {
   "codemirror_mode": {
    "name": "ipython",
    "version": 3
   },
   "file_extension": ".py",
   "mimetype": "text/x-python",
   "name": "python",
   "nbconvert_exporter": "python",
   "pygments_lexer": "ipython3",
   "version": "3.6.0"
  }
 },
 "nbformat": 4,
 "nbformat_minor": 2
}
