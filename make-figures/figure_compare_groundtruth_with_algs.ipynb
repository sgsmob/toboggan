{
 "cells": [
  {
   "cell_type": "code",
   "execution_count": 1,
   "metadata": {
    "collapsed": false,
    "deletable": true,
    "editable": true
   },
   "outputs": [
    {
     "name": "stdout",
     "output_type": "stream",
     "text": [
      "Loading human\n",
      "Loading mouse\n",
      "Loading zebra\n",
      "Done with get_all_data\n",
      "\n"
     ]
    }
   ],
   "source": [
    "# [1] COLLECT ALL GROUND TRUTH DATA\n",
    "import collections\n",
    "from plot_overlap_ratios import plot_ratio_success\n",
    "from algorithm_output_parser import process_algorithm_output\n",
    "from algorithm_output_parser import toboggan_output_parser\n",
    "from algorithm_output_parser import catfish_output_parser\n",
    "\n",
    "from load_all_data import get_all_data\n",
    "\n",
    "\n",
    "show_flag = False\n",
    "\n",
    "\n",
    "# [1] get all data\n",
    "all_path_info, all_toboggan_data = get_all_data( [0,1,2] )\n",
    "froots = ['human', 'mouse', 'zebra']"
   ]
  },
  {
   "cell_type": "code",
   "execution_count": 2,
   "metadata": {
    "collapsed": false,
    "deletable": true,
    "editable": true
   },
   "outputs": [
    {
     "name": "stdout",
     "output_type": "stream",
     "text": [
      "Num timeouts = 0\n",
      "Num timeouts = 0\n",
      "Num timeouts = 0\n",
      "Num timeouts = 0\n",
      "Num timeouts = 0\n",
      "Num timeouts = 0\n"
     ]
    }
   ],
   "source": [
    "gt_pathset_dict = []\n",
    "all_catfish_paths = []\n",
    "all_toboggan_paths = []\n",
    "all_stats = [collections.defaultdict(list), collections.defaultdict(list), collections.defaultdict(list)]\n",
    "indices_identical = [collections.defaultdict(list), collections.defaultdict(list), collections.defaultdict(list)]\n",
    "indices_different = [collections.defaultdict(list), collections.defaultdict(list), collections.defaultdict(list)]\n",
    "indices_timeout = [collections.defaultdict(list), collections.defaultdict(list), collections.defaultdict(list)]\n",
    "\n",
    "for which_dataset in [0,1,2]:\n",
    "    #     # FILTER ALGORITHM OUTPUTS FOR RELEVANT DATA\n",
    "    froot = froots[which_dataset]\n",
    "    gt_pathset_dict = all_path_info['groundtruth'][froot].copy()\n",
    "    all_catfish_paths = all_path_info['catfish'][froot]\n",
    "    all_toboggan_paths = all_path_info['toboggan'][froot]\n",
    "    \n",
    "    non_opt_groundtruth_list = []\n",
    "    for key, path in gt_pathset_dict.items():\n",
    "        kpath = all_toboggan_paths[key]\n",
    "        if len(kpath) != len(path):\n",
    "            non_opt_groundtruth_list.append(key)\n",
    "    for badkey in non_opt_groundtruth_list:\n",
    "        gt_pathset_dict.pop(badkey, None)\n",
    "            \n",
    "    \n",
    "    j = which_dataset\n",
    "    all_stats[j][0], indices_identical[j][0], indices_different[j][0], indices_timeout[j][0] = process_algorithm_output(gt_pathset_dict, all_catfish_paths)\n",
    "    all_stats[j][1], indices_identical[j][1], indices_different[j][1], indices_timeout[j][1] = process_algorithm_output(gt_pathset_dict, all_toboggan_paths)\n",
    "    "
   ]
  },
  {
   "cell_type": "code",
   "execution_count": 16,
   "metadata": {
    "collapsed": false
   },
   "outputs": [
    {
     "name": "stdout",
     "output_type": "stream",
     "text": [
      "For human\n",
      "\ttimeouts       2478\n",
      "\ttrivials     639560\n",
      "For mouse\n",
      "\ttimeouts       2487\n",
      "\ttrivials     842873\n",
      "For zebra\n",
      "\ttimeouts        178\n",
      "\ttrivials    1103493\n",
      "Totals\n",
      "\ttimeouts       5143\n",
      "\ttrivials    2585926\n",
      "\ttotal    4034514\n"
     ]
    }
   ],
   "source": [
    "# Counting number of timeouts and number of trivials\n",
    "num_trivials = 0\n",
    "num_timeouts = 0\n",
    "num_instances = 0\n",
    "\n",
    "for which_dataset in [0,1,2]:\n",
    "    froot = froots[which_dataset]\n",
    "    this_tobog_data = all_toboggan_data[froot]\n",
    "    this_num_trivials = 0\n",
    "    this_num_timeouts = 0\n",
    "    this_num_instances = 0\n",
    "    for key, row in this_tobog_data.items():\n",
    "        this_num_instances += 1\n",
    "        if row[3] == '0':\n",
    "            this_num_trivials += 1\n",
    "        if row[7] == 'None':\n",
    "            this_num_timeouts += 1\n",
    "    print(\"For {}\\n\\ttimeouts {:10d}\\n\\ttrivials {:10d}\".format(froot, this_num_timeouts, this_num_trivials))\n",
    "    num_timeouts += this_num_timeouts\n",
    "    num_trivials += this_num_trivials\n",
    "    num_instances += this_num_instances\n",
    "\n",
    "print(\"Totals\\n\\ttimeouts {:10d}\\n\\ttrivials {:10d}\\n\\ttotal {:10d}\".format(num_timeouts, num_trivials, num_instances))\n",
    "#    "
   ]
  },
  {
   "cell_type": "code",
   "execution_count": 4,
   "metadata": {
    "collapsed": false,
    "deletable": true,
    "editable": true
   },
   "outputs": [
    {
     "name": "stdout",
     "output_type": "stream",
     "text": [
      "For human,\n",
      "catfish percent identical is: 0.9690024012224405\n",
      "toboggan percent identical is: 0.931298463407458\n",
      "For mouse,\n",
      "catfish percent identical is: 0.9690272542303694\n",
      "toboggan percent identical is: 0.9017920735453886\n",
      "For zebra,\n",
      "catfish percent identical is: 0.980496784259145\n",
      "toboggan percent identical is: 0.8973140426296118\n",
      "TOTALS: catfish percent identical is: 0.97255981960712\n",
      "TOTALS: toboggan percent identical is: 0.9111843724200748\n"
     ]
    }
   ],
   "source": [
    "# Check GROUNDTRUTH RECOVERY\n",
    "\n",
    "alg_names = ['catfish', 'toboggan']\n",
    "total_num = 0\n",
    "identical_num = [0, 0]\n",
    "for j in [0,1,2]:\n",
    "    froot = froots[j]\n",
    "    print(\"For {},\".format(froot))\n",
    "    total_num += len(all_stats[j][0])\n",
    "    for which_alg in [0,1]:\n",
    "        alg_name = alg_names[which_alg]\n",
    "        print(\"{} percent identical is: {}\".format( alg_name, len(indices_identical[j][which_alg])/len(all_stats[j][which_alg])))\n",
    "\n",
    "        identical_num[which_alg] += len(indices_identical[j][which_alg])\n",
    "        \n",
    "for which_alg in [0,1]:\n",
    "    alg_name = alg_names[which_alg]\n",
    "    print(\"TOTALS: {} percent identical is: {}\".format( alg_name, identical_num[which_alg]/total_num))\n"
   ]
  },
  {
   "cell_type": "code",
   "execution_count": 19,
   "metadata": {
    "collapsed": false,
    "deletable": true,
    "editable": true
   },
   "outputs": [],
   "source": [
    "# density plot GROUDTRUTH RECOVERY\n",
    "\n",
    "import matplotlib.pyplot as plt\n",
    "import numpy\n",
    "figurename = 'size-vs-ratio-identical-'\n",
    "\n",
    "def plot_ratios(figurename, froot, all_stats, indices_identical, indices_timeout, show_flag=True):\n",
    "    plt.close()\n",
    "    plt.clf()\n",
    "    plt.figure(figsize=(4,3))\n",
    "\n",
    "    alg_names = ['catfish', 'toboggan']\n",
    "    colors = ['red', 'blue']\n",
    "    markerset = ['+','o']\n",
    "\n",
    "    def get_width(num_datapoints):\n",
    "        return 0.18*numpy.log10(num_datapoints)\n",
    "\n",
    "    fig, ax1 = plt.subplots()\n",
    "    \n",
    "    fig_alg = {}\n",
    "    max_label = 0\n",
    "\n",
    "    for which_alg in range(len(alg_names)):\n",
    "        print(\" {} with # data points {} \".format(alg_names[which_alg], len(all_stats[which_alg])) )\n",
    "        # all_stats.append( [len(gt_pathset), len(catfish_pathset), this_jaccard_value, this_intersect, gap] )\n",
    "        stats = all_stats[which_alg]\n",
    "        inds_identical = indices_identical[which_alg]\n",
    "        inds_timeouts = indices_timeout[which_alg]\n",
    "\n",
    "        data1 = numpy.array(stats[:,0])  # size of ground truth pathset\n",
    "        data2 = numpy.array(stats[inds_identical, 0])  # size of ground truth pathset when algorithm identical\n",
    "\n",
    "        data1_counter = collections.Counter([ x[0] for x in data1 ])\n",
    "        data2_counter = collections.Counter([ x[0] for x in data2 ])\n",
    "\n",
    "        data1_counter = collections.Counter([ x[0] for x in data1 ])\n",
    "        data2_counter = collections.Counter([ x[0] for x in data2 ])\n",
    "\n",
    "        data = []\n",
    "        soln_sizes = []\n",
    "        num_datapoints = []\n",
    "        widths = []\n",
    "        for soln_size, x in data1_counter.items():\n",
    "            y = data2_counter[soln_size]\n",
    "            if x != 0:\n",
    "                data.append(y/x)\n",
    "                num_datapoints.append(int(x))\n",
    "                soln_sizes.append(int(soln_size))\n",
    "                widths.append(get_width(x))\n",
    "                if y != 0:\n",
    "                    max_label = max( max_label, int(soln_size) )\n",
    "\n",
    "        ax1.scatter(soln_sizes, data, color=colors[which_alg], marker=markerset[which_alg],\n",
    "                    label=alg_names[which_alg], alpha=0.5)\n",
    "    \n",
    "    axis_font_size = 16\n",
    "    axis_font = {'fontname':'DejaVu Sans', 'size':'{}'.format(axis_font_size)}\n",
    "    title_font = {'fontname':'DejaVu Sans', 'size':'17'}\n",
    "    xtick_font = 14\n",
    "    ytick_font = 14\n",
    "\n",
    "    plt.title(\"exact pathset recovery: {}\".format(froot), **title_font)\n",
    "    plt.xlabel(\"decomposition size\", **axis_font)\n",
    "    xlims = plt.xlim()\n",
    "    # Determine xlims\n",
    "    xlimmin = xlims[0]\n",
    "    xlimmax = 12\n",
    "    ax1.set_xlim([xlimmin, xlimmax])\n",
    "    \n",
    "    ax1.set_ylim([0,1])\n",
    "    ax1.set_ylabel(\"ratio recovered\", color='purple', **axis_font)\n",
    "    ax1.tick_params('y', colors='purple', labelsize=ytick_font)\n",
    "    ax1.tick_params('x', labelsize=xtick_font)\n",
    "\n",
    "    # get all ground truth sizes\n",
    "    soln_sizes = [ (int(soln_size), int(count)) for soln_size, count in \\\n",
    "                  collections.Counter([ x[0] for x in \\\n",
    "                                       numpy.array(all_stats[0][:,0]) ]).items() if count != 0 ]         \n",
    "    soln_sizes, num_datapoints = zip(*soln_sizes)\n",
    "\n",
    "    plt.xticks( range(1, int(max(soln_sizes)+1)) )\n",
    "    ax2 = ax1.twinx()\n",
    "    ydata = numpy.array(num_datapoints)\n",
    "    \n",
    "    ax2.bar(list(soln_sizes), list(ydata/sum(ydata)), color='grey', alpha=0.33)\n",
    "    ax2.set_ylabel('ratio of instances', color='grey', **axis_font)\n",
    "    ax2.set_xlim([xlimmin, xlimmax])\n",
    "    \n",
    "    #     ax2.set_yscale(\"log\")\n",
    "    ax2.tick_params('y', colors='grey', labelsize=ytick_font)\n",
    "    ax2.set_ylim([0,1])\n",
    "\n",
    "    ax1.legend(loc='lower right', frameon=False, prop={'size':axis_font_size})#, handles=ax1, labels=alg_names)\n",
    "    fig.tight_layout()\n",
    "\n",
    "    if show_flag:\n",
    "        plt.show()\n",
    "    else:\n",
    "        plt.savefig( './figures/' + ''.join([figurename, froot, '.pdf']), format='pdf', dpi=300)\n",
    "        plt.savefig( './figures/' + ''.join([figurename, froot, '.png']), format='png', dpi=300)\n",
    "    plt.close()\n",
    "    print(\"Done with plot {}\".format(figurename))"
   ]
  },
  {
   "cell_type": "code",
   "execution_count": 21,
   "metadata": {
    "collapsed": false,
    "deletable": true,
    "editable": true
   },
   "outputs": [
    {
     "name": "stdout",
     "output_type": "stream",
     "text": [
      " catfish with # data points 526815 \n",
      " toboggan with # data points 526815 \n",
      "Done with plot size-vs-ratio-identical-\n",
      " catfish with # data points 470349 \n",
      " toboggan with # data points 470349 \n",
      "Done with plot size-vs-ratio-identical-\n",
      " catfish with # data points 445465 \n",
      " toboggan with # data points 445465 \n",
      "Done with plot size-vs-ratio-identical-\n"
     ]
    }
   ],
   "source": [
    "show_flag = False\n",
    "for which_data in [0,1,2]:\n",
    "    froot = froots[which_data]\n",
    "    plot_ratios(figurename, froot, all_stats[which_data], indices_identical[which_data], indices_timeout[which_data], show_flag)"
   ]
  },
  {
   "cell_type": "code",
   "execution_count": 7,
   "metadata": {
    "collapsed": false,
    "deletable": true,
    "editable": true
   },
   "outputs": [
    {
     "name": "stdout",
     "output_type": "stream",
     "text": [
      "On human\n",
      "catfish has 18088\n",
      "toboggan has 38901\n",
      "On mouse\n",
      "catfish has 16660\n",
      "toboggan has 49028\n",
      "On zebra\n",
      "catfish has 9069\n",
      "toboggan has 46158\n"
     ]
    }
   ],
   "source": [
    "# NOW DO BOXPLOTS ON INSTANCES WHERE ALGORITHM MISSES GROUNDTRUTH\n",
    "\n",
    "def get_stats(set1, set2):\n",
    "    identical = False\n",
    "    if set1 == set2:\n",
    "        identical = True\n",
    "    len_intersect = len(set1.intersection(set2))\n",
    "    jaccard = len_intersect / ( len(set1) + len(set2) - len_intersect )\n",
    "    if len(set1) == 0:\n",
    "        recall = 1.0\n",
    "    else:\n",
    "        recall = len_intersect / len(set1)\n",
    "\n",
    "    return recall, jaccard, identical\n",
    "\n",
    "# all_path_info, all_toboggan_data = get_all_data( [0,1,2] )\n",
    "# froots = ['human', 'mouse', 'zebra']\n",
    "\n",
    "data_catfish = {}\n",
    "data_toboggan = {}\n",
    "num_nontrivials = []\n",
    "\n",
    "for froot in froots:\n",
    "    gt_pathset_dict = all_path_info['groundtruth'][froot]\n",
    "    toboggan_paths = all_path_info['toboggan'][froot]\n",
    "    catfish_paths = all_path_info['catfish'][froot]\n",
    "    \n",
    "    this_catfish = []\n",
    "    this_toboggan = []\n",
    "    this_num_nontrivial = 0\n",
    "\n",
    "    for key, gt_path in gt_pathset_dict.items():\n",
    "        gt_size = len(gt_path)\n",
    "        if gt_size == 1:  # skip trivial instances\n",
    "            continue\n",
    "        cat_recall, cat_jaccard, cat_identical = get_stats(gt_path, catfish_paths[key])\n",
    "        tob_recall, tob_jaccard, tob_identical = get_stats(gt_path, toboggan_paths[key])\n",
    "        if not cat_identical:\n",
    "            this_catfish.append( (gt_size, cat_recall, cat_jaccard, key) )\n",
    "        if not tob_identical:\n",
    "            this_toboggan.append((gt_size, tob_recall, tob_jaccard, key) )\n",
    "        this_num_nontrivial += 1\n",
    "    \n",
    "    data_catfish[froot] = this_catfish\n",
    "    data_toboggan[froot] = this_toboggan\n",
    "    num_nontrivials.append(this_num_nontrivial)\n",
    "\n",
    "    print(\"On {}\".format(froot))\n",
    "    print(\"catfish has {}\".format(len(this_catfish)))\n",
    "    print(\"toboggan has {}\".format(len(this_toboggan)))"
   ]
  },
  {
   "cell_type": "code",
   "execution_count": 22,
   "metadata": {
    "collapsed": false,
    "deletable": true,
    "editable": true
   },
   "outputs": [
    {
     "name": "stdout",
     "output_type": "stream",
     "text": [
      "Done with plot alg-recall-\n",
      "Done with plot alg-recall-\n",
      "Done with plot alg-recall-\n"
     ]
    }
   ],
   "source": [
    "# Boxplots for ground truth recovery\n",
    "\n",
    "import numpy\n",
    "import matplotlib.pyplot as plt\n",
    "import collections\n",
    "\n",
    "figurename = 'alg-recall-'\n",
    "alg_names = ['catfish', 'toboggan']\n",
    "colors = ['red', 'blue']\n",
    "\n",
    "show_flag = False\n",
    "\n",
    "for idx, froot in enumerate(froots):\n",
    "    \n",
    "    this_catfish = data_catfish[froot]\n",
    "    this_toboggan = data_toboggan[froot]\n",
    "    num_nontrivial = num_nontrivials[idx]\n",
    "\n",
    "    sizes_cat, recall_cat, jaccard_cat, keys_cat = zip(*this_catfish)\n",
    "    sizes_tob, recall_tob, jaccard_tob, keys_tob = zip(*this_toboggan)\n",
    "\n",
    "    plt.close()\n",
    "    plt.clf()\n",
    "\n",
    "    fig = plt.figure(1, figsize=(4, 3))\n",
    "    ax = fig.add_subplot(111)\n",
    "    ax.boxplot( [jaccard_cat, jaccard_tob] )\n",
    "\n",
    "    plt.title('overlap with groundtruth: {}'.format(froot), fontsize=16)\n",
    "    plt.ylabel('jaccard index', fontsize=16)\n",
    "    ylims = plt.ylim()\n",
    "    plt.ylim([ylims[0],1])\n",
    "    ax.tick_params('y', labelsize=15)\n",
    "    ax.set_xticklabels( [alg_names[0] + \" {}\".format(len(this_catfish)), alg_names[1] + \" {}\".format(len(this_toboggan))], fontsize=15 )\n",
    "    fig.tight_layout()\n",
    "\n",
    "    if show_flag:\n",
    "        plt.show()\n",
    "    else:\n",
    "        plt.savefig( './figures/' + ''.join([figurename, froot, '.pdf']), format='pdf', dpi=300)\n",
    "        plt.savefig( './figures/' + ''.join([figurename, froot, '.png']), format='png', dpi=300)\n",
    "    plt.close()\n",
    "    print(\"Done with plot {}\".format(figurename))"
   ]
  }
 ],
 "metadata": {
  "kernelspec": {
   "display_name": "Python 3",
   "language": "python",
   "name": "python3"
  },
  "language_info": {
   "codemirror_mode": {
    "name": "ipython",
    "version": 3
   },
   "file_extension": ".py",
   "mimetype": "text/x-python",
   "name": "python",
   "nbconvert_exporter": "python",
   "pygments_lexer": "ipython3",
   "version": "3.6.0"
  }
 },
 "nbformat": 4,
 "nbformat_minor": 2
}
