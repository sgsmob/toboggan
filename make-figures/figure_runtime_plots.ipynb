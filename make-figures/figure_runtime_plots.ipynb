{
 "cells": [
  {
   "cell_type": "code",
   "execution_count": 1,
   "metadata": {
    "collapsed": false,
    "deletable": true,
    "editable": true
   },
   "outputs": [
    {
     "name": "stdout",
     "output_type": "stream",
     "text": [
      "human has \n",
      "\ttotal   instances:      1169083\n",
      "\ttrivial instances:       639560\n",
      "\tnontriv instances:       529523\n",
      "\n",
      "toboggan with 800s timeout has\n",
      "\ttimeout instances:            0\n",
      "\tsuccess instances:            1\n",
      "1\n",
      "mouse has \n",
      "\ttotal   instances:      1316058\n",
      "\ttrivial instances:       842873\n",
      "\tnontriv instances:       473185\n",
      "\n",
      "toboggan with 800s timeout has\n",
      "\ttimeout instances:            0\n",
      "\tsuccess instances:            2\n",
      "2\n",
      "zebra has \n",
      "\ttotal   instances:      1549373\n",
      "\ttrivial instances:      1103493\n",
      "\tnontriv instances:       445880\n",
      "\n",
      "toboggan with 800s timeout has\n",
      "\ttimeout instances:            0\n",
      "\tsuccess instances:            3\n",
      "3\n"
     ]
    }
   ],
   "source": [
    "\"\"\"\n",
    "This notebook aggregates all output from toboggan and catfish\n",
    "for a specified input dataset, then creates runtime histograms\n",
    "\"\"\"\n",
    "import table_generator\n",
    "import matplotlib.pyplot as plt\n",
    "import numpy as np\n",
    "\n",
    "    \n",
    "show_flag = False\n",
    "\n",
    "time_totals = []\n",
    "time_totals_catfish_nontrivials = []\n",
    "time_totals_catfish_tob_timeouts = []\n",
    "\n",
    "froots = ['human', 'mouse', 'zebra']\n",
    "\n",
    "for froot in ['human', 'mouse', 'zebra']:\n",
    "    #froot = 'mouse'\n",
    "\n",
    "    timeoutexceed = 800\n",
    "    which_alg = \"toboggan\"\n",
    "\n",
    "    inputfile = \"all-\" + froot + \".txt\"\n",
    "\n",
    "    # import table_generator\n",
    "\n",
    "    # datadict, datamatrix, dict_cat_to_tob, dict_tob_to_cat = table_generator.make_tables(inputfile)\n",
    "    datadict, datamatrix = table_generator.make_tables(inputfile)\n",
    "\n",
    "    info_dict = table_generator.get_toboggan_timing_info(datadict, datamatrix)\n",
    "    num_trivial = info_dict['num_trivial']\n",
    "    num_timedout = info_dict['num_timedout']\n",
    "    time_totals.append(info_dict['time_totals'])\n",
    "    total_num = info_dict['total_num']\n",
    "    nontrivials_dict = info_dict['nontrivials_dict']\n",
    "    toboggan_completed = info_dict['toboggan_completed']\n",
    "    toboggan_timeouts = info_dict['toboggan_timeouts']\n",
    "    toboggan_num_paths_dict = info_dict['toboggan_num_paths_dict']\n",
    "\n",
    "    table_generator.print_data_summary( froot, len(datadict), num_trivial )\n",
    "    table_generator.print_alg_summary( which_alg, timeoutexceed, num_timedout, len(time_totals) )\n",
    "\n",
    "    print(num_timedout + len(time_totals))\n",
    "\n",
    "    catinputfile = 'catfish-' + froot + '-proper-output.txt'\n",
    "    catfish_dict, catfish_matrix = table_generator.get_catfish_tables( '../catfish-comparison/', catinputfile)\n",
    "\n",
    "    # interesect catfish keys with nontrivial keys\n",
    "    nontrivial_catfish = catfish_dict.copy()\n",
    "    for key in catfish_dict:\n",
    "        if key not in toboggan_completed:\n",
    "            nontrivial_catfish.pop(key, None)\n",
    "    catfish_nontrivials_info_dict = table_generator.get_catfish_timing_info(nontrivial_catfish, catfish_matrix)\n",
    "    time_totals_catfish_nontrivials.append(catfish_nontrivials_info_dict['time_totals'])\n",
    "\n",
    "    catfish_on_tob_timeouts = {}\n",
    "    for key, val in catfish_dict.items():\n",
    "        if key in toboggan_timeouts:\n",
    "            catfish_on_tob_timeouts[key] = val\n",
    "    catfish_tob_timeout_info_dict = table_generator.get_catfish_timing_info(catfish_on_tob_timeouts, catfish_matrix)\n",
    "    time_totals_catfish_tob_timeouts.append(catfish_tob_timeout_info_dict['time_totals'])"
   ]
  },
  {
   "cell_type": "code",
   "execution_count": 2,
   "metadata": {
    "collapsed": false,
    "deletable": true,
    "editable": true
   },
   "outputs": [
    {
     "name": "stdout",
     "output_type": "stream",
     "text": [
      "1825.1296191215515\n",
      "7269\n",
      "1680.2260267734528\n",
      "6570\n",
      "1626.945827960968\n",
      "939\n",
      "catfish total: 5132.301473855972\n",
      "toboggan total: 533579.4521188214\n",
      "toboggan total over 2s: 528051.9334192248\n",
      "toboggan minus long 5527.518699596636\n"
     ]
    }
   ],
   "source": [
    "catfish_sum = 0\n",
    "toboggan_sum = 0\n",
    "toboggan_long_sum = 0\n",
    "for j in [0,1,2]:\n",
    "    print(sum(time_totals_catfish_nontrivials[j]))\n",
    "    catfish_sum += sum(time_totals_catfish_nontrivials[j])\n",
    "    toboggan_sum += sum(time_totals[j])\n",
    "    long_times = [ x for x in time_totals[j] if x > 0.5]\n",
    "    toboggan_long_sum += sum(long_times)\n",
    "    print(len(long_times))\n",
    "print(\"catfish total: {}\".format(catfish_sum))\n",
    "print(\"toboggan total: {}\".format(toboggan_sum))\n",
    "print(\"toboggan total over 2s: {}\".format(toboggan_long_sum))\n",
    "print(\"toboggan minus long {}\".format(toboggan_sum - toboggan_long_sum))\n",
    "\n"
   ]
  },
  {
   "cell_type": "code",
   "execution_count": 3,
   "metadata": {
    "collapsed": false,
    "deletable": true,
    "editable": true
   },
   "outputs": [
    {
     "data": {
      "text/plain": [
       "<matplotlib.figure.Figure at 0x7f98a9a288d0>"
      ]
     },
     "metadata": {},
     "output_type": "display_data"
    },
    {
     "data": {
      "image/png": "[encoded data removed]",
      "text/plain": [
       "<matplotlib.figure.Figure at 0x7f98aa8ddeb8>"
      ]
     },
     "metadata": {},
     "output_type": "display_data"
    },
    {
     "data": {
      "text/plain": [
       "<matplotlib.figure.Figure at 0x7f98b10f3320>"
      ]
     },
     "metadata": {},
     "output_type": "display_data"
    },
    {
     "data": {
      "image/png": "[encoded data removed]",
      "text/plain": [
       "<matplotlib.figure.Figure at 0x7f98ab6204a8>"
      ]
     },
     "metadata": {},
     "output_type": "display_data"
    },
    {
     "data": {
      "text/plain": [
       "<matplotlib.figure.Figure at 0x7f988c493ef0>"
      ]
     },
     "metadata": {},
     "output_type": "display_data"
    },
    {
     "data": {
      "image/png": "[encoded data removed]",
      "text/plain": [
       "<matplotlib.figure.Figure at 0x7f988c4a6630>"
      ]
     },
     "metadata": {},
     "output_type": "display_data"
    }
   ],
   "source": [
    "import matplotlib.pyplot as plt\n",
    "import numpy as np\n",
    "import seaborn as sns\n",
    "\n",
    "froots = ['human', 'mouse', 'zebra']\n",
    "show_flag = True\n",
    "\n",
    "hist_flag = True\n",
    "kde_flag = False\n",
    "norm_hist_flag=True\n",
    "\n",
    "for j in [0,1,2]:\n",
    "\n",
    "    froot = froots[j]\n",
    "\n",
    "    plt.clf()\n",
    "    plt.figure(figsize=(3,3))\n",
    "\n",
    "    axis_font = {'fontname':'DejaVu Sans', 'size':'13'}\n",
    "    title_font = {'fontname':'DejaVu Sans', 'size':'15'}\n",
    "    xtick_font = {'fontname':'DejaVu Sans', 'size':'15'}\n",
    "    ytick_font = {'fontname':'DejaVu Sans', 'size':'15'}\n",
    "\n",
    "    data=np.log10(time_totals[j])\n",
    "    sns.distplot(data, kde=kde_flag, hist=hist_flag, norm_hist=norm_hist_flag, label=\"toboggan\")\n",
    "    data=np.log10(time_totals_catfish_nontrivials[j])\n",
    "    sns.distplot(data, kde=kde_flag, hist=hist_flag, norm_hist=norm_hist_flag, label=\"catfish\")\n",
    "    # data=np.log10(time_totals_catfish_tob_timeouts[j])\n",
    "    # sns.distplot(data, kde=True, hist=False, label=\"TOs\", ax=ax)\n",
    "\n",
    "    plt.title(froots[j], **title_font)\n",
    "    plt.legend(loc='upper right', fontsize=axis_font['size'])\n",
    "    #plt.gca().set_xticklabels([10**x for x in range(-4, 4)])\n",
    "    plt.xlabel(\"Runtime (seconds)\", **axis_font)\n",
    "    plt.ylabel(\"Frequency\", **axis_font)\n",
    "\n",
    "    fig = plt.gcf()\n",
    "    fig.tight_layout()\n",
    "\n",
    "    if show_flag == True:\n",
    "        plt.show()\n",
    "    else:\n",
    "        plt.savefig( './figures/'+'runtime-kdensity-' + froot + '.pdf', format='pdf', dpi=300)\n",
    "        plt.savefig( './figures/'+'runtime-kdensity-' + froot + '.png', format='png', dpi=300)\n",
    "    plt.close()\n"
   ]
  },
  {
   "cell_type": "code",
   "execution_count": 4,
   "metadata": {
    "collapsed": true,
    "deletable": true,
    "editable": true
   },
   "outputs": [],
   "source": [
    "# AGGREGATE ALL IN ONE\n",
    "\n",
    "all_toboggan_times = []\n",
    "all_catfish_times = []\n",
    "for j in [0,1,2]:\n",
    "    all_toboggan_times.extend(time_totals[j])\n",
    "    all_catfish_times.extend(time_totals_catfish_nontrivials[j])\n",
    "\n",
    "all_toboggan_times_small = [ x for x in all_toboggan_times if x <= 0.01 ]\n",
    "all_toboggan_times_big = [ x for x in all_toboggan_times if x > 0.01 ]\n",
    "all_catfish_times_small = [ x for x in all_catfish_times if x <= 0.01 ]\n",
    "all_catfish_times_big = [ x for x in all_catfish_times if x > 0.01 ]"
   ]
  },
  {
   "cell_type": "code",
   "execution_count": 16,
   "metadata": {
    "collapsed": false,
    "deletable": true,
    "editable": true
   },
   "outputs": [
    {
     "data": {
      "text/plain": [
       "<matplotlib.figure.Figure at 0x7f98abadaef0>"
      ]
     },
     "metadata": {},
     "output_type": "display_data"
    },
    {
     "data": {
      "image/png": "[encoded data removed]",
      "text/plain": [
       "<matplotlib.figure.Figure at 0x7f98abada940>"
      ]
     },
     "metadata": {},
     "output_type": "display_data"
    }
   ],
   "source": [
    "import matplotlib.pyplot as plt\n",
    "import numpy as np\n",
    "import seaborn as sns\n",
    "\n",
    "show_flag = True\n",
    "\n",
    "\n",
    "plt.clf()\n",
    "plt.figure(figsize=(5,4))\n",
    "\n",
    "logbins = [ 10**x for x in np.linspace(-3.5, -2.0, num=50) ]\n",
    "extratag = ''\n",
    "log_scale_flag = False\n",
    "\n",
    "if log_scale_flag:\n",
    "    plt.gca().set_yticklabels([10**x for x in range(0, 6)], **ytick_font)\n",
    "    plt.gca().set_yscale(\"log\")    \n",
    "\n",
    "n, bins, patchs = plt.hist(all_toboggan_times_small, bins=logbins, log=log_scale_flag, alpha=0.5, label='toboggan {}'.format(len(all_toboggan_times_small)))\n",
    "n, bins, patchs = plt.hist(all_catfish_times_small, bins=logbins, log=log_scale_flag, alpha=0.5, label='catfish {}'.format(len(all_catfish_times_small)))\n",
    "\n",
    "legend_font = {'fontname':'DejaVu Sans', 'size':'12'}\n",
    "axis_font = {'fontname':'DejaVu Sans', 'size':'14'}\n",
    "title_font = {'fontname':'DejaVu Sans', 'size':'14'}\n",
    "xtick_font = {'fontname':'DejaVu Sans', 'size':'14'}\n",
    "ytick_font = {'fontname':'DejaVu Sans', 'size':'14'}\n",
    "\n",
    "# if froot == 'human':\n",
    "plt.ylabel(\"Frequency\", **axis_font)\n",
    "plt.legend(loc='upper left', frameon=False, fontsize=legend_font['size'])\n",
    "# else:\n",
    "#     plt.gca().set_yticklabels([])\n",
    "\n",
    "#plt.xlim([10**-4, 10**4])\n",
    "#plt.ylim([10**0, 10**6])\n",
    "plt.gca().set_xticklabels([10**x for x in range(-4, 3)], **xtick_font)\n",
    "plt.gca().set_xscale(\"log\")\n",
    "\n",
    "plt.title('Times under 0.01s; {}'.format(len(all_toboggan_times_small)), **title_font)\n",
    "plt.xlabel(\"Runtime (seconds)\", **axis_font)\n",
    "plt.ylabel(\"Frequency\", **axis_font)\n",
    "\n",
    "fig = plt.gcf()\n",
    "fig.tight_layout()\n",
    "\n",
    "if show_flag == True:\n",
    "    plt.show()\n",
    "else:\n",
    "    plt.savefig( './figures/'+'runtime-new-small-all' + '.pdf', format='pdf', dpi=300)\n",
    "    plt.savefig( './figures/'+'runtime-new-small_all' + '.png', format='png', dpi=300)\n",
    "plt.close()"
   ]
  },
  {
   "cell_type": "code",
   "execution_count": 6,
   "metadata": {
    "collapsed": false,
    "deletable": true,
    "editable": true
   },
   "outputs": [],
   "source": [
    "\n",
    "plt.clf()\n",
    "plt.figure(figsize=(5,4))\n",
    "\n",
    "logbins = [ 10**x for x in np.linspace(-2.0, 3.0, num=50) ]\n",
    "\n",
    "n, bins, patchs = plt.hist(all_toboggan_times_big, bins=logbins, log=log_scale_flag, alpha=0.5, label='toboggan')\n",
    "n, bins, patchs = plt.hist(all_catfish_times_big, bins=logbins, log=log_scale_flag, alpha=0.5, label='catfish')\n",
    "\n",
    "plt.ylabel(\"Frequency\", **axis_font)\n",
    "\n",
    "plt.gca().set_xticklabels([10**x for x in range(-4, 3)], **xtick_font)\n",
    "plt.gca().set_xscale(\"log\")\n",
    "\n",
    "plt.title('Times over 0.01s; {}'.format(len(all_toboggan_times_big)), **title_font)\n",
    "plt.xlabel(\"Runtime (seconds)\", **axis_font)\n",
    "plt.ylabel(\"Frequency\", **axis_font)\n",
    "\n",
    "fig = plt.gcf()\n",
    "fig.tight_layout()\n",
    "\n",
    "if show_flag == True:\n",
    "    plt.show()\n",
    "else:\n",
    "    plt.savefig( './figures/'+'runtime-new-big-all' + '.pdf', format='pdf', dpi=300)\n",
    "    plt.savefig( './figures/'+'runtime-new-big-all' + '.png', format='png', dpi=300)\n",
    "plt.close()"
   ]
  },
  {
   "cell_type": "code",
   "execution_count": null,
   "metadata": {
    "collapsed": true,
    "deletable": true,
    "editable": true
   },
   "outputs": [],
   "source": []
  }
 ],
 "metadata": {
  "kernelspec": {
   "display_name": "Python 3",
   "language": "python",
   "name": "python3"
  },
  "language_info": {
   "codemirror_mode": {
    "name": "ipython",
    "version": 3
   },
   "file_extension": ".py",
   "mimetype": "text/x-python",
   "name": "python",
   "nbconvert_exporter": "python",
   "pygments_lexer": "ipython3",
   "version": "3.6.0"
  }
 },
 "nbformat": 4,
 "nbformat_minor": 2
}
