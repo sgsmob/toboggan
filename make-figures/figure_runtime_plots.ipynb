{
 "cells": [
  {
   "cell_type": "code",
   "execution_count": 1,
   "metadata": {
    "collapsed": false,
    "deletable": true,
    "editable": true
   },
   "outputs": [
    {
     "name": "stdout",
     "output_type": "stream",
     "text": [
      "human has \n",
      "\ttotal   instances:      1169083\n",
      "\ttrivial instances:       639560\n",
      "\tnontriv instances:       529523\n",
      "\n",
      "toboggan with 800s timeout has\n",
      "\ttimeout instances:            0\n",
      "\tsuccess instances:            1\n",
      "1\n",
      "mouse has \n",
      "\ttotal   instances:      1316058\n",
      "\ttrivial instances:       842873\n",
      "\tnontriv instances:       473185\n",
      "\n",
      "toboggan with 800s timeout has\n",
      "\ttimeout instances:            0\n",
      "\tsuccess instances:            2\n",
      "2\n",
      "zebra has \n",
      "\ttotal   instances:      1549373\n",
      "\ttrivial instances:      1103493\n",
      "\tnontriv instances:       445880\n",
      "\n",
      "toboggan with 800s timeout has\n",
      "\ttimeout instances:            0\n",
      "\tsuccess instances:            3\n",
      "3\n"
     ]
    }
   ],
   "source": [
    "\"\"\"\n",
    "This notebook aggregates all output from toboggan and catfish\n",
    "for a specified input dataset, then creates runtime histograms\n",
    "\"\"\"\n",
    "import table_generator\n",
    "import matplotlib.pyplot as plt\n",
    "import numpy as np\n",
    "\n",
    "    \n",
    "show_flag = False\n",
    "\n",
    "time_totals = []\n",
    "time_totals_catfish_nontrivials = []\n",
    "time_totals_catfish_tob_timeouts = []\n",
    "\n",
    "froots = ['human', 'mouse', 'zebra']\n",
    "\n",
    "for froot in ['human', 'mouse', 'zebra']:\n",
    "    #froot = 'mouse'\n",
    "\n",
    "    timeoutexceed = 800\n",
    "    which_alg = \"toboggan\"\n",
    "\n",
    "    inputfile = \"all-\" + froot + \".txt\"\n",
    "\n",
    "    # import table_generator\n",
    "\n",
    "    # datadict, datamatrix, dict_cat_to_tob, dict_tob_to_cat = table_generator.make_tables(inputfile)\n",
    "    datadict, datamatrix = table_generator.make_tables(inputfile)\n",
    "\n",
    "    info_dict = table_generator.get_toboggan_timing_info(datadict, datamatrix)\n",
    "    num_trivial = info_dict['num_trivial']\n",
    "    num_timedout = info_dict['num_timedout']\n",
    "    time_totals.append(info_dict['time_totals'])\n",
    "    total_num = info_dict['total_num']\n",
    "    nontrivials_dict = info_dict['nontrivials_dict']\n",
    "    toboggan_completed = info_dict['toboggan_completed']\n",
    "    toboggan_timeouts = info_dict['toboggan_timeouts']\n",
    "    toboggan_num_paths_dict = info_dict['toboggan_num_paths_dict']\n",
    "\n",
    "    table_generator.print_data_summary( froot, len(datadict), num_trivial )\n",
    "    table_generator.print_alg_summary( which_alg, timeoutexceed, num_timedout, len(time_totals) )\n",
    "\n",
    "    print(num_timedout + len(time_totals))\n",
    "\n",
    "    catinputfile = 'catfish-' + froot + '-proper-output.txt'\n",
    "    catfish_dict, catfish_matrix = table_generator.get_catfish_tables( '../catfish-comparison/', catinputfile)\n",
    "\n",
    "    # interesect catfish keys with nontrivial keys\n",
    "    nontrivial_catfish = catfish_dict.copy()\n",
    "    for key in catfish_dict:\n",
    "        if key not in toboggan_completed:\n",
    "            nontrivial_catfish.pop(key, None)\n",
    "    catfish_nontrivials_info_dict = table_generator.get_catfish_timing_info(nontrivial_catfish, catfish_matrix)\n",
    "    time_totals_catfish_nontrivials.append(catfish_nontrivials_info_dict['time_totals'])\n",
    "\n",
    "    catfish_on_tob_timeouts = {}\n",
    "    for key, val in catfish_dict.items():\n",
    "        if key in toboggan_timeouts:\n",
    "            catfish_on_tob_timeouts[key] = val\n",
    "    catfish_tob_timeout_info_dict = table_generator.get_catfish_timing_info(catfish_on_tob_timeouts, catfish_matrix)\n",
    "    time_totals_catfish_tob_timeouts.append(catfish_tob_timeout_info_dict['time_totals'])"
   ]
  },
  {
   "cell_type": "code",
   "execution_count": 2,
   "metadata": {
    "collapsed": false,
    "deletable": true,
    "editable": true
   },
   "outputs": [
    {
     "name": "stdout",
     "output_type": "stream",
     "text": [
      "1825.1296191215515\n",
      "7269\n",
      "1680.2260267734528\n",
      "6570\n",
      "1626.945827960968\n",
      "939\n",
      "catfish total: 5132.301473855972\n",
      "toboggan total: 533579.4521188214\n",
      "toboggan total over 2s: 528051.9334192248\n",
      "toboggan minus long 5527.518699596636\n"
     ]
    }
   ],
   "source": [
    "catfish_sum = 0\n",
    "toboggan_sum = 0\n",
    "toboggan_long_sum = 0\n",
    "for j in [0,1,2]:\n",
    "    print(sum(time_totals_catfish_nontrivials[j]))\n",
    "    catfish_sum += sum(time_totals_catfish_nontrivials[j])\n",
    "    toboggan_sum += sum(time_totals[j])\n",
    "    long_times = [ x for x in time_totals[j] if x > 0.5]\n",
    "    toboggan_long_sum += sum(long_times)\n",
    "    print(len(long_times))\n",
    "print(\"catfish total: {}\".format(catfish_sum))\n",
    "print(\"toboggan total: {}\".format(toboggan_sum))\n",
    "print(\"toboggan total over 2s: {}\".format(toboggan_long_sum))\n",
    "print(\"toboggan minus long {}\".format(toboggan_sum - toboggan_long_sum))\n",
    "\n"
   ]
  },
  {
   "cell_type": "code",
   "execution_count": 3,
   "metadata": {
    "collapsed": true
   },
   "outputs": [],
   "source": [
    "# Determine percent of runs where toboggan is under 0.005,\n",
    "# and percent where it didn't terminate in 50s or less"
   ]
  },
  {
   "cell_type": "code",
   "execution_count": 4,
   "metadata": {
    "collapsed": false,
    "deletable": true,
    "editable": true
   },
   "outputs": [
    {
     "data": {
      "text/plain": [
       "<matplotlib.figure.Figure at 0x7f55eaa646a0>"
      ]
     },
     "metadata": {},
     "output_type": "display_data"
    },
    {
     "data": {
      "image/png": "[encoded data removed]",
      "text/plain": [
       "<matplotlib.figure.Figure at 0x7f5659932b38>"
      ]
     },
     "metadata": {},
     "output_type": "display_data"
    },
    {
     "data": {
      "text/plain": [
       "<matplotlib.figure.Figure at 0x7f565f7c65f8>"
      ]
     },
     "metadata": {},
     "output_type": "display_data"
    },
    {
     "data": {
      "image/png": "[encoded data removed]",
      "text/plain": [
       "<matplotlib.figure.Figure at 0x7f565f4b1588>"
      ]
     },
     "metadata": {},
     "output_type": "display_data"
    },
    {
     "data": {
      "text/plain": [
       "<matplotlib.figure.Figure at 0x7f565eee4b00>"
      ]
     },
     "metadata": {},
     "output_type": "display_data"
    },
    {
     "data": {
      "image/png": "[encoded data removed]",
      "text/plain": [
       "<matplotlib.figure.Figure at 0x7f565f1f88d0>"
      ]
     },
     "metadata": {},
     "output_type": "display_data"
    }
   ],
   "source": [
    "import matplotlib.pyplot as plt\n",
    "import numpy as np\n",
    "import seaborn as sns\n",
    "\n",
    "froots = ['human', 'mouse', 'zebra']\n",
    "show_flag = True\n",
    "\n",
    "hist_flag = True\n",
    "kde_flag = False\n",
    "norm_hist_flag=True\n",
    "\n",
    "for j in [0,1,2]:\n",
    "\n",
    "    froot = froots[j]\n",
    "\n",
    "    plt.clf()\n",
    "    plt.figure(figsize=(3,3))\n",
    "\n",
    "    axis_font = {'fontname':'DejaVu Sans', 'size':'13'}\n",
    "    title_font = {'fontname':'DejaVu Sans', 'size':'15'}\n",
    "    xtick_font = {'fontname':'DejaVu Sans', 'size':'15'}\n",
    "    ytick_font = {'fontname':'DejaVu Sans', 'size':'15'}\n",
    "\n",
    "    data=np.log10(time_totals[j])\n",
    "    sns.distplot(data, kde=kde_flag, hist=hist_flag, norm_hist=norm_hist_flag, label=\"toboggan\")\n",
    "    data=np.log10(time_totals_catfish_nontrivials[j])\n",
    "    sns.distplot(data, kde=kde_flag, hist=hist_flag, norm_hist=norm_hist_flag, label=\"catfish\")\n",
    "    # data=np.log10(time_totals_catfish_tob_timeouts[j])\n",
    "    # sns.distplot(data, kde=True, hist=False, label=\"TOs\", ax=ax)\n",
    "\n",
    "    plt.title(froots[j], **title_font)\n",
    "    plt.legend(loc='upper right', fontsize=axis_font['size'])\n",
    "    #plt.gca().set_xticklabels([10**x for x in range(-4, 4)])\n",
    "    plt.xlabel(\"Runtime (seconds)\", **axis_font)\n",
    "    plt.ylabel(\"Frequency\", **axis_font)\n",
    "    \n",
    "\n",
    "    fig = plt.gcf()\n",
    "    fig.tight_layout()\n",
    "\n",
    "    if show_flag == True:\n",
    "        plt.show()\n",
    "    else:\n",
    "        plt.savefig( './figures/'+'runtime-kdensity-' + froot + '.pdf', format='pdf', dpi=300)\n",
    "        plt.savefig( './figures/'+'runtime-kdensity-' + froot + '.png', format='png', dpi=300)\n",
    "    plt.close()\n"
   ]
  },
  {
   "cell_type": "code",
   "execution_count": 5,
   "metadata": {
    "collapsed": true,
    "deletable": true,
    "editable": true
   },
   "outputs": [],
   "source": [
    "# AGGREGATE ALL IN ONE\n",
    "\n",
    "all_toboggan_times = []\n",
    "all_catfish_times = []\n",
    "for j in [0,1,2]:\n",
    "    all_toboggan_times.extend(time_totals[j])\n",
    "    all_catfish_times.extend(time_totals_catfish_nontrivials[j])\n",
    "\n",
    "all_toboggan_times_small = [ x for x in all_toboggan_times if x <= 0.01 ]\n",
    "all_toboggan_times_big = [ x for x in all_toboggan_times if x > 0.01 ]\n",
    "all_catfish_times_small = [ x for x in all_catfish_times if x <= 0.01 ]\n",
    "all_catfish_times_big = [ x for x in all_catfish_times if x > 0.01 ]\n",
    "\n",
    "all_toboggan_times_altered = all_toboggan_times_small.copy()\n",
    "all_toboggan_times_altered.extend([ 10**-2 + 10**-5 for x in all_toboggan_times_big ])\n",
    "\n",
    "all_catfish_times_altered = all_catfish_times_small.copy()\n",
    "all_catfish_times_altered.extend([ 10**-2 + 10**-5 for x in all_catfish_times_big ])\n"
   ]
  },
  {
   "cell_type": "code",
   "execution_count": 6,
   "metadata": {
    "collapsed": false,
    "deletable": true,
    "editable": true
   },
   "outputs": [
    {
     "data": {
      "text/plain": [
       "<matplotlib.figure.Figure at 0x7f56557aa0b8>"
      ]
     },
     "metadata": {},
     "output_type": "display_data"
    },
    {
     "data": {
      "image/png": "[encoded data removed]",
      "text/plain": [
       "<matplotlib.figure.Figure at 0x7f56557aa128>"
      ]
     },
     "metadata": {},
     "output_type": "display_data"
    }
   ],
   "source": [
    "# AGGREGATE HIST WITH SINGLE BIN FOR LARGE RUNTIMES\n",
    "\n",
    "import matplotlib as mpl\n",
    "import matplotlib.pyplot as plt\n",
    "import numpy as np\n",
    "import seaborn as sns\n",
    "\n",
    "show_flag = True\n",
    "\n",
    "\n",
    "plt.clf()\n",
    "plt.figure(figsize=(5,4))\n",
    "\n",
    "logbins = [ 10**x for x in np.linspace(-3.5, -2.0, num=50) ]\n",
    "#logbins.append( 10**-2 + (3/4)*10**-3 )\n",
    "extratag = ''\n",
    "log_scale_flag = False\n",
    "\n",
    "if log_scale_flag:\n",
    "    plt.gca().set_yticklabels([10**x for x in range(0, 6)], **ytick_font)\n",
    "    plt.gca().set_yscale(\"log\")    \n",
    "\n",
    "    \n",
    "data1 = all_toboggan_times_small\n",
    "data2 = all_catfish_times_small\n",
    "n, bins, patchs = plt.hist(data1, bins=logbins, log=log_scale_flag, alpha=0.5, color='blue', label='toboggan {}'.format(len(data1)))\n",
    "n, bins, patchs = plt.hist(data2, bins=logbins, log=log_scale_flag, alpha=0.5, color='green', label='catfish {}'.format(len(data2)))\n",
    "\n",
    "data3 = [ 10**-2 + 10**-5 for x in all_toboggan_times_big ]\n",
    "data4 = [ 10**-2 + 10**-5 for x in all_catfish_times_big ]\n",
    "# n, bins, patchs = plt.hist(data3, bins=logbins, log=log_scale_flag, edgecolor='black', hatch=\"////\" )\n",
    "# n, bins, patchs = plt.hist(data4, bins=logbins, log=log_scale_flag, hatch=\"///\" )\n",
    "# 10**-2 + (3/4)*10**-3\n",
    "# mpl.rcParams['hatch.color'] = 'white'\n",
    "mpl.rcParams['hatch.linewidth'] = 0.5\n",
    "plt.bar( 10**-2 + (3/4)*10**-3, len(data3), color='none', width=(3/4)*10**-3 , edgecolor='blue', hatch='//////')\n",
    "plt.bar( 10**-2 + (3/4)*10**-3, len(data4), color='none', width=(3/4)*10**-3 , edgecolor='green', hatch='//////')\n",
    "\n",
    "\n",
    "\n",
    "\n",
    "legend_font = {'fontname':'DejaVu Sans', 'size':'12'}\n",
    "axis_font = {'fontname':'DejaVu Sans', 'size':'14'}\n",
    "title_font = {'fontname':'DejaVu Sans', 'size':'14'}\n",
    "xtick_font = {'fontname':'DejaVu Sans', 'size':'14'}\n",
    "ytick_font = {'fontname':'DejaVu Sans', 'size':'14'}\n",
    "\n",
    "# if froot == 'human':\n",
    "plt.ylabel(\"Frequency\", **axis_font)\n",
    "plt.legend(loc='upper left', frameon=False, fontsize=legend_font['size'])\n",
    "# else:\n",
    "#     plt.gca().set_yticklabels([])\n",
    "\n",
    "#plt.xlim([10**-4, 10**4])\n",
    "#plt.ylim([10**0, 10**6])\n",
    "# plt.gca().set_xticklabels([10**x for x in range(-4, 3)], **xtick_font)\n",
    "# plt.gca().set_xscale(\"log\")\n",
    "\n",
    "plt.title('Num instances = {}'.format(len(data1)), **title_font)\n",
    "plt.xlabel(\"Runtime (seconds)\", **axis_font)\n",
    "plt.ylabel(\"Frequency\", **axis_font)\n",
    "\n",
    "fig = plt.gcf()\n",
    "fig.tight_layout()\n",
    "\n",
    "if show_flag == True:\n",
    "    plt.show()\n",
    "else:\n",
    "    plt.savefig( './figures/'+'runtime-aggregate' + '.pdf', format='pdf', dpi=300)\n",
    "    plt.savefig( './figures/'+'runtime-aggregate' + '.png', format='png', dpi=300)\n",
    "plt.close()"
   ]
  },
  {
   "cell_type": "code",
   "execution_count": 20,
   "metadata": {
    "collapsed": false
   },
   "outputs": [
    {
     "name": "stdout",
     "output_type": "stream",
     "text": [
      "toboggan, 5%    is     0.00072\n",
      "catfish,  5%    is     0.00233\n",
      "toboggan, 50%  is     0.00124\n",
      "catfish,  50%  is     0.00347\n",
      "toboggan, 80%  is     0.00202\n",
      "catfish,  80%  is     0.00408\n",
      "toboggan, 90%   is     0.00308\n",
      "catfish,  90%   is     0.00436\n",
      "toboggan, 95%   is     0.00758\n",
      "catfish,  95%   is     0.00460\n",
      "toboggan, 99%   is     0.52795\n",
      "catfish,  99%   is     0.00570\n",
      "catfish, max    is     1.21449\n",
      "catfish, min    is     0.00190\n"
     ]
    }
   ],
   "source": [
    "import numpy as np\n",
    "\n",
    "prctile = 5\n",
    "p = np.percentile(all_toboggan_times, prctile) \n",
    "print(\"toboggan, {}%    is  {:10.5f}\". format( prctile, p) )\n",
    "\n",
    "p = np.percentile(all_catfish_times, prctile) \n",
    "print(\"catfish,  {}%    is  {:10.5f}\". format( prctile, p) )\n",
    "\n",
    "\n",
    "prctile = 50\n",
    "p = np.percentile(all_toboggan_times, prctile) \n",
    "print(\"toboggan, {}%  is  {:10.5f}\". format( prctile, p) )\n",
    "\n",
    "p = np.percentile(all_catfish_times, prctile) \n",
    "print(\"catfish,  {}%  is  {:10.5f}\". format( prctile, p) )\n",
    "\n",
    "\n",
    "prctile = 80\n",
    "p = np.percentile(all_toboggan_times, prctile) \n",
    "print(\"toboggan, {}%  is  {:10.5f}\". format( prctile, p) )\n",
    "\n",
    "p = np.percentile(all_catfish_times, prctile) \n",
    "print(\"catfish,  {}%  is  {:10.5f}\". format( prctile, p) )\n",
    "\n",
    "\n",
    "prctile = 90\n",
    "p = np.percentile(all_toboggan_times, prctile) \n",
    "print(\"toboggan, {}%   is  {:10.5f}\". format( prctile, p) )\n",
    "\n",
    "p = np.percentile(all_catfish_times, prctile) \n",
    "print(\"catfish,  {}%   is  {:10.5f}\". format( prctile, p) )\n",
    "\n",
    "prctile = 95\n",
    "p = np.percentile(all_toboggan_times, prctile) \n",
    "print(\"toboggan, {}%   is  {:10.5f}\". format( prctile, p) )\n",
    "\n",
    "p = np.percentile(all_catfish_times, prctile) \n",
    "print(\"catfish,  {}%   is  {:10.5f}\". format( prctile, p) )\n",
    "\n",
    "\n",
    "prctile = 99\n",
    "p = np.percentile(all_toboggan_times, prctile) \n",
    "print(\"toboggan, {}%   is  {:10.5f}\". format( prctile, p) )\n",
    "\n",
    "p = np.percentile(all_catfish_times, prctile) \n",
    "print(\"catfish,  {}%   is  {:10.5f}\". format( prctile, p) )\n",
    "\n",
    "print(\"catfish, max    is  {:10.5f}\". format( max(all_catfish_times)) )\n",
    "print(\"catfish, min    is  {:10.5f}\". format( min(all_catfish_times)) )"
   ]
  },
  {
   "cell_type": "code",
   "execution_count": 24,
   "metadata": {
    "collapsed": false
   },
   "outputs": [
    {
     "name": "stdout",
     "output_type": "stream",
     "text": [
      "toboggan, 99.0%   is     0.52795\n",
      "toboggan, 99.04736842105264%   is     0.67439\n",
      "toboggan, 99.09473684210526%   is     0.90997\n",
      "toboggan, 99.1421052631579%   is     1.00984\n",
      "toboggan, 99.18947368421053%   is     1.19765\n",
      "toboggan, 99.23684210526316%   is     1.66040\n",
      "toboggan, 99.28421052631579%   is     2.84301\n",
      "toboggan, 99.33157894736843%   is     3.65060\n",
      "toboggan, 99.37894736842105%   is     4.49979\n",
      "toboggan, 99.42631578947369%   is     6.47012\n",
      "toboggan, 99.47368421052632%   is     9.53674\n",
      "toboggan, 99.52105263157895%   is    13.73602\n",
      "toboggan, 99.56842105263158%   is    32.56106\n",
      "toboggan, 99.61578947368422%   is    50.00000\n",
      "toboggan, 99.66315789473684%   is    50.00000\n",
      "toboggan, 99.71052631578948%   is    50.00000\n",
      "toboggan, 99.7578947368421%   is    50.00000\n",
      "toboggan, 99.80526315789474%   is    50.00000\n",
      "toboggan, 99.85263157894737%   is    50.00000\n",
      "toboggan, 99.9%   is    50.00000\n"
     ]
    }
   ],
   "source": [
    "\n",
    "for prctile in list(np.linspace(99,99.9, num=20)):\n",
    "    p = np.percentile(all_toboggan_times, prctile) \n",
    "    print(\"toboggan, {}%   is  {:10.5f}\". format( prctile, p) )"
   ]
  },
  {
   "cell_type": "code",
   "execution_count": 260,
   "metadata": {
    "collapsed": false,
    "deletable": true,
    "editable": true
   },
   "outputs": [],
   "source": [
    "# AGGREGATE HIST WITH SINGLE BIN FOR LARGE RUNTIMES\n",
    "# NON LOG SCALE\n",
    "\n",
    "import matplotlib as mpl\n",
    "import matplotlib.pyplot as plt\n",
    "import matplotlib.colors as colors\n",
    "import matplotlib.cm as cmx\n",
    "\n",
    "import numpy as np\n",
    "import seaborn as sns\n",
    "\n",
    "show_flag = False\n",
    "\n",
    "\n",
    "plt.clf()\n",
    "plt.figure(figsize=(5,4))\n",
    "\n",
    "logbins = np.linspace( 10**-3.5, 10**-2, num=50 )\n",
    "#logbins = [ 10**x for x in np.linspace(-3.5, -2.0, num=50) ]\n",
    "#logbins.append( 10**-2 + (3/4)*10**-3 )\n",
    "extratag = ''\n",
    "log_scale_flag = False\n",
    "\n",
    "if log_scale_flag:\n",
    "    plt.gca().set_yticklabels([10**x for x in range(0, 6)], **ytick_font)\n",
    "    plt.gca().set_yscale(\"log\")    \n",
    "\n",
    "cm = plt.get_cmap('Paired') \n",
    "    \n",
    "# color_toboggan = cm.colors[0]\n",
    "# color_catfish = cm.colors[3]\n",
    "\n",
    "color_toboggan =  tuple( x/256 for x in [212,170,0] ) # cm.colors[0]\n",
    "color_catfish = tuple( x/256 for x in [0.0,160.0,212.0] ) # cm.colors[3]\n",
    "\n",
    "data1 = all_toboggan_times_small\n",
    "data2 = all_catfish_times_small\n",
    "n, bins, patchs = plt.hist(data1, bins=logbins, log=log_scale_flag, alpha=0.5, color=color_toboggan, label='toboggan' )\n",
    "n, bins, patchs = plt.hist(data2, bins=logbins, log=log_scale_flag, alpha=0.5, color=color_catfish, label='catfish' )\n",
    "n, bins, patchs = plt.hist(data1, bins=logbins, log=log_scale_flag, histtype='step', alpha=0.5, color='black', linewidth=0.5)\n",
    "n, bins, patchs = plt.hist(data2, bins=logbins, log=log_scale_flag, histtype='step', alpha=0.5, color='black', linewidth=0.5)\n",
    "\n",
    "\n",
    "\n",
    "data3 = [ 10**-2 + 10**-5 for x in all_toboggan_times_big ]\n",
    "data4 = [ 10**-2 + 10**-5 for x in all_catfish_times_big ]\n",
    "# n, bins, patchs = plt.hist(data3, bins=logbins, log=log_scale_flag, edgecolor='black', hatch=\"////\" )\n",
    "# n, bins, patchs = plt.hist(data4, bins=logbins, log=log_scale_flag, hatch=\"///\" )\n",
    "\n",
    "barwidth = (1/5)*10**-3\n",
    "mpl.rcParams['hatch.color'] = 'white'\n",
    "mpl.rcParams['hatch.linewidth'] = 2.25\n",
    "plt.bar( 10**-2 + (1/4)*10**-3, len(data3), color=color_toboggan, width=barwidth , edgecolor='black', hatch='//////')\n",
    "plt.bar( 10**-2 + (1/4)*10**-3, len(data4), color=color_catfish, width=barwidth, edgecolor='black', hatch='\\\\\\\\\\\\\\\\\\\\\\\\')\n",
    "\n",
    "plt.annotate('see\\ninset', xy=(.01, 65000), xytext=(0.01025, 68000), fontsize=9, fontstyle='italic', horizontalalignment='center' )\n",
    "\n",
    "legend_font = {'fontname':'DejaVu Sans', 'size':'9'}\n",
    "axis_font = {'fontname':'DejaVu Sans', 'size':'14'}\n",
    "title_font = {'fontname':'DejaVu Sans', 'size':'14'}\n",
    "xtick_font = {'fontname':'DejaVu Sans', 'size':'14'}\n",
    "ytick_font = {'fontname':'DejaVu Sans', 'size':'14'}\n",
    "\n",
    "\n",
    "plt.title('Runtimes '.format(len(data1)), **title_font)\n",
    "plt.xlabel(\"Runtime (seconds)\", **axis_font)\n",
    "plt.ylabel(\"Frequency (thousands)\", **axis_font)\n",
    "plt.legend(loc='upper right', frameon=False, fontsize=legend_font['size'])\n",
    "plt.gca().set_yticklabels([0, 50, 100, 150, 200, 250])\n",
    "\n",
    "ax = plt.gca()\n",
    "ax.set_facecolor( tuple([ x/256 for x in [230,230,230] ] ) )\n",
    "\n",
    "\n",
    "fig = plt.gcf()\n",
    "fig.tight_layout()\n",
    "\n",
    "if show_flag == True:\n",
    "    plt.show()\n",
    "else:\n",
    "    plt.savefig( './figures/'+'runtime-aggregate' + '.svg', format='svg', dpi=300)\n",
    "    plt.savefig( './figures/'+'runtime-aggregate' + '.pdf', format='pdf', dpi=300)\n",
    "    plt.savefig( './figures/'+'runtime-aggregate' + '.eps', format='eps', dpi=300)\n",
    "    plt.savefig( './figures/'+'runtime-aggregate' + '.png', format='png', dpi=300)\n",
    "plt.close()"
   ]
  },
  {
   "cell_type": "code",
   "execution_count": 261,
   "metadata": {
    "collapsed": false,
    "deletable": true,
    "editable": true
   },
   "outputs": [],
   "source": [
    "# Aggregate histogram for large runtimes, shifting axis\n",
    "\n",
    "import matplotlib as mpl\n",
    "import matplotlib.pyplot as plt\n",
    "import matplotlib.colors as colors\n",
    "import matplotlib.cm as cmx\n",
    "\n",
    "import numpy as np\n",
    "import seaborn as sns\n",
    "\n",
    "show_flag = False\n",
    "\n",
    "\n",
    "legend_font = {'fontname':'DejaVu Sans', 'size':'9'}\n",
    "axis_font = {'fontname':'DejaVu Sans', 'size':'14'}\n",
    "title_font = {'fontname':'DejaVu Sans', 'size':'14'}\n",
    "xtick_font = {'fontname':'DejaVu Sans', 'size':'14'}\n",
    "ytick_font = {'fontname':'DejaVu Sans', 'size':'14'}\n",
    "\n",
    "plt.clf()\n",
    "plt.figure(figsize=(5,4))\n",
    "\n",
    "logbins = np.linspace( 10**-2.0, 10**3, num=50 )\n",
    "\n",
    "log_yscale_flag = True\n",
    "\n",
    "if log_yscale_flag:\n",
    "    plt.gca().set_yticklabels([10**x for x in range(-1, 6)], **ytick_font)\n",
    "    plt.gca().set_yscale(\"log\")\n",
    "    plt.ylim( [10**-0.5, 9*10**4] )\n",
    "\n",
    "color_toboggan =  tuple( x/256 for x in [212,170,0] ) # cm.colors[0]\n",
    "color_catfish = tuple( x/256 for x in [0.0,160.0,212.0] ) # cm.colors[3]\n",
    "\n",
    "data1 = all_toboggan_times_big\n",
    "data2 = all_catfish_times_big\n",
    "n, bins, patchs = plt.hist(data1, bins=logbins, log=log_yscale_flag, alpha=0.5, color=color_toboggan, label='toboggan' )\n",
    "n, bins, patchs = plt.hist(data2, bins=logbins, log=log_yscale_flag, alpha=0.5, color=color_catfish, label='catfish' )\n",
    "n, bins, patchs = plt.hist(data1, bins=logbins, log=log_yscale_flag, histtype='step', alpha=0.5, color='black', linewidth=0.5)\n",
    "n, bins, patchs = plt.hist(data2, bins=logbins, log=log_yscale_flag, histtype='step', alpha=0.5, color='black', linewidth=0.5)\n",
    "\n",
    "\n",
    "plt.title('Inset'.format(len(data1)), **title_font)\n",
    "plt.xlabel(\"Runtime (seconds)\", **axis_font)\n",
    "plt.ylabel(\"Frequency (thousands)\", **axis_font)\n",
    "#plt.legend(loc='upper right', frameon=False, fontsize=legend_font['size'])\n",
    "plt.gca().set_yticklabels([10^-4, 10^-3, 0.001, 0.01, 0.1, 1, 10])\n",
    "\n",
    "ax = plt.gca()\n",
    "ax.set_facecolor( tuple([ x/256 for x in [230,230,230] ] ) )\n",
    "\n",
    "\n",
    "fig = plt.gcf()\n",
    "fig.tight_layout()\n",
    "\n",
    "if show_flag == True:\n",
    "    plt.show()\n",
    "else:\n",
    "    plt.savefig( './figures/'+'runtime-aggregate-inset' + '.svg', format='svg', dpi=300)\n",
    "    plt.savefig( './figures/'+'runtime-aggregate-inset' + '.pdf', format='pdf', dpi=300)\n",
    "    plt.savefig( './figures/'+'runtime-aggregate-inset' + '.eps', format='eps', dpi=300)\n",
    "    plt.savefig( './figures/'+'runtime-aggregate-inset' + '.png', format='png', dpi=300)\n",
    "plt.close()"
   ]
  },
  {
   "cell_type": "code",
   "execution_count": null,
   "metadata": {
    "collapsed": true,
    "deletable": true,
    "editable": true
   },
   "outputs": [],
   "source": []
  }
 ],
 "metadata": {
  "kernelspec": {
   "display_name": "Python 3",
   "language": "python",
   "name": "python3"
  },
  "language_info": {
   "codemirror_mode": {
    "name": "ipython",
    "version": 3
   },
   "file_extension": ".py",
   "mimetype": "text/x-python",
   "name": "python",
   "nbconvert_exporter": "python",
   "pygments_lexer": "ipython3",
   "version": "3.6.0"
  }
 },
 "nbformat": 4,
 "nbformat_minor": 2
}
