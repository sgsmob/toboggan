{
 "cells": [
  {
   "cell_type": "code",
   "execution_count": 2,
   "metadata": {
    "collapsed": false,
    "deletable": true,
    "editable": true
   },
   "outputs": [
    {
     "name": "stdout",
     "output_type": "stream",
     "text": [
      "\\toprule\n",
      "Dataset &  instances &  non-trivial &  optimal &  non-optimal \\\\\n",
      "\\midrule\n"
     ]
    },
    {
     "ename": "NameError",
     "evalue": "name 'all_path_info' is not defined",
     "output_type": "error",
     "traceback": [
      "\u001b[0;31m---------------------------------------------------------------------------\u001b[0m",
      "\u001b[0;31mNameError\u001b[0m                                 Traceback (most recent call last)",
      "\u001b[0;32m<ipython-input-2-497010e1804a>\u001b[0m in \u001b[0;36m<module>\u001b[0;34m()\u001b[0m\n\u001b[1;32m     15\u001b[0m     \u001b[0;31m#print(\"working on {}...\".format(froot))\u001b[0m\u001b[0;34m\u001b[0m\u001b[0;34m\u001b[0m\u001b[0m\n\u001b[1;32m     16\u001b[0m     \u001b[0;31m# all_path_info, all_toboggan_data = get_all_data( [0,1,2] )\u001b[0m\u001b[0;34m\u001b[0m\u001b[0;34m\u001b[0m\u001b[0m\n\u001b[0;32m---> 17\u001b[0;31m     \u001b[0mgt_pathset_dict\u001b[0m \u001b[0;34m=\u001b[0m \u001b[0mall_path_info\u001b[0m\u001b[0;34m[\u001b[0m\u001b[0;34m'groundtruth'\u001b[0m\u001b[0;34m]\u001b[0m\u001b[0;34m[\u001b[0m\u001b[0mfroot\u001b[0m\u001b[0;34m]\u001b[0m\u001b[0;34m\u001b[0m\u001b[0m\n\u001b[0m\u001b[1;32m     18\u001b[0m     \u001b[0mall_toboggan_paths\u001b[0m \u001b[0;34m=\u001b[0m \u001b[0mall_path_info\u001b[0m\u001b[0;34m[\u001b[0m\u001b[0;34m'toboggan'\u001b[0m\u001b[0;34m]\u001b[0m\u001b[0;34m[\u001b[0m\u001b[0mfroot\u001b[0m\u001b[0;34m]\u001b[0m\u001b[0;34m\u001b[0m\u001b[0m\n\u001b[1;32m     19\u001b[0m \u001b[0;34m\u001b[0m\u001b[0m\n",
      "\u001b[0;31mNameError\u001b[0m: name 'all_path_info' is not defined"
     ]
    }
   ],
   "source": [
    "# FILTER DATA\n",
    "from load_all_data import get_all_data\n",
    "\n",
    "# [1] COLLECT ALL GROUND TRUTH DATA\n",
    "from parse_truth_ALL import main as parse_truth_all\n",
    "import collections\n",
    "from algorithm_output_parser import toboggan_output_parser\n",
    "\n",
    "print(\"\\\\toprule\")\n",
    "print(\"Dataset &  instances &  non-trivial &  optimal &  non-optimal \\\\\\\\\")\n",
    "print(\"\\\\midrule\")\n",
    "list_eq_k_wrong_path = []\n",
    "froots = ['zebra', 'mouse', 'human']\n",
    "for froot in froots:\n",
    "    #print(\"working on {}...\".format(froot))\n",
    "    # all_path_info, all_toboggan_data = get_all_data( [0,1,2] )\n",
    "    gt_pathset_dict = all_path_info['groundtruth'][froot]\n",
    "    all_toboggan_paths = all_path_info['toboggan'][froot]\n",
    "\n",
    "    # COUNT RELEVANT INFO\n",
    "    num_eq_k_wrong_path = 0\n",
    "    num_nontrivial = 0\n",
    "    num_gt_optimal_size = 0\n",
    "    num_gt_wrong_size = 0\n",
    "    num_timeouts = 0\n",
    "    for key, gt_pathset in gt_pathset_dict.items():\n",
    "        if len(gt_pathset) == 1:\n",
    "            continue\n",
    "        tob_pathset = all_toboggan_paths[key]\n",
    "        num_nontrivial += 1\n",
    "        if tob_pathset == set():\n",
    "            num_timeouts += 1\n",
    "            continue\n",
    "        if len(gt_pathset) == len(tob_pathset):\n",
    "            num_gt_optimal_size += 1\n",
    "            if set(gt_pathset) != set(tob_pathset):\n",
    "                num_eq_k_wrong_path += 1\n",
    "        else:\n",
    "            num_gt_wrong_size += 1\n",
    "    list_eq_k_wrong_path.append(num_eq_k_wrong_path)\n",
    "\n",
    "    print(\"\\\\texttt{{ {} }} & {:10d}& {:10d} & {:10.3f}\\\\% & {:10.3f}\\\\% \\\\\\\\ \\% {}\".format(froot,\n",
    "        len(gt_pathset_dict), num_nontrivial, num_gt_optimal_size/(num_nontrivial), num_gt_wrong_size/num_nontrivial, num_timeouts))\n",
    "\n",
    "print(list_eq_k_wrong_path)"
   ]
  },
  {
   "cell_type": "code",
   "execution_count": null,
   "metadata": {
    "collapsed": true,
    "deletable": true,
    "editable": true
   },
   "outputs": [],
   "source": []
  }
 ],
 "metadata": {
  "kernelspec": {
   "display_name": "Python 3",
   "language": "python",
   "name": "python3"
  },
  "language_info": {
   "codemirror_mode": {
    "name": "ipython",
    "version": 3
   },
   "file_extension": ".py",
   "mimetype": "text/x-python",
   "name": "python",
   "nbconvert_exporter": "python",
   "pygments_lexer": "ipython3",
   "version": "3.6.0"
  }
 },
 "nbformat": 4,
 "nbformat_minor": 2
}
