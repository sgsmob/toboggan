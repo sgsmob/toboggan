{
 "cells": [
  {
   "cell_type": "code",
   "execution_count": 1,
   "metadata": {
    "collapsed": false,
    "deletable": true,
    "editable": true
   },
   "outputs": [
    {
     "name": "stdout",
     "output_type": "stream",
     "text": [
      "Loading human\n",
      "Loading mouse\n",
      "Loading zebra\n",
      "Done with get_all_data\n",
      "\n"
     ]
    }
   ],
   "source": [
    "# [1] COLLECT ALL GROUND TRUTH DATA\n",
    "import collections\n",
    "from plot_overlap_ratios import plot_ratio_success\n",
    "from algorithm_output_parser import process_algorithm_output\n",
    "from algorithm_output_parser import toboggan_output_parser\n",
    "from algorithm_output_parser import catfish_output_parser\n",
    "\n",
    "from load_all_data import get_all_data\n",
    "\n",
    "\n",
    "show_flag = False\n",
    "\n",
    "\n",
    "# [1] get all data\n",
    "all_path_info, all_toboggan_data = get_all_data( [0,1,2] )\n",
    "froots = ['human', 'mouse', 'zebra']"
   ]
  },
  {
   "cell_type": "code",
   "execution_count": 2,
   "metadata": {
    "collapsed": false,
    "deletable": true,
    "editable": true
   },
   "outputs": [
    {
     "name": "stdout",
     "output_type": "stream",
     "text": [
      "Num timeouts = 0\n",
      "Num timeouts = 0\n",
      "Num timeouts = 0\n",
      "Num timeouts = 0\n",
      "Num timeouts = 0\n",
      "Num timeouts = 0\n"
     ]
    }
   ],
   "source": [
    "gt_pathset_dict = []\n",
    "all_catfish_paths = []\n",
    "all_toboggan_paths = []\n",
    "all_stats = [collections.defaultdict(list), collections.defaultdict(list), collections.defaultdict(list)]\n",
    "indices_identical = [collections.defaultdict(list), collections.defaultdict(list), collections.defaultdict(list)]\n",
    "indices_different = [collections.defaultdict(list), collections.defaultdict(list), collections.defaultdict(list)]\n",
    "indices_timeout = [collections.defaultdict(list), collections.defaultdict(list), collections.defaultdict(list)]\n",
    "\n",
    "for which_dataset in [0,1,2]:\n",
    "    #     # FILTER ALGORITHM OUTPUTS FOR RELEVANT DATA\n",
    "    froot = froots[which_dataset]\n",
    "    gt_pathset_dict = all_path_info['groundtruth'][froot].copy()\n",
    "    all_catfish_paths = all_path_info['catfish'][froot]\n",
    "    all_toboggan_paths = all_path_info['toboggan'][froot]\n",
    "    \n",
    "    non_opt_groundtruth_list = []\n",
    "    for key, path in gt_pathset_dict.items():\n",
    "        kpath = all_toboggan_paths[key]\n",
    "        if len(kpath) != len(path):\n",
    "            non_opt_groundtruth_list.append(key)\n",
    "    for badkey in non_opt_groundtruth_list:\n",
    "        gt_pathset_dict.pop(badkey, None)\n",
    "            \n",
    "    \n",
    "    j = which_dataset\n",
    "    all_stats[j][0], indices_identical[j][0], indices_different[j][0], indices_timeout[j][0] = process_algorithm_output(gt_pathset_dict, all_catfish_paths)\n",
    "    all_stats[j][1], indices_identical[j][1], indices_different[j][1], indices_timeout[j][1] = process_algorithm_output(gt_pathset_dict, all_toboggan_paths)\n",
    "    "
   ]
  },
  {
   "cell_type": "code",
   "execution_count": 3,
   "metadata": {
    "collapsed": false,
    "deletable": true,
    "editable": true
   },
   "outputs": [
    {
     "name": "stdout",
     "output_type": "stream",
     "text": [
      "0 0\n",
      "0 1\n",
      "0 2\n",
      "1 0\n",
      "1 1\n",
      "1 2\n"
     ]
    }
   ],
   "source": [
    "# combine all datasets\n",
    "# data1 = numpy.array(stats[:,0])  # size of ground truth pathset\n",
    "# data2 = numpy.array(stats[inds_identical, 0])  # size of ground truth pathset when algorithm identical\n",
    "alg_names = ['catfish', 'toboggan']\n",
    "combined_stats = [[],[]]\n",
    "combined_identicals = [[],[]]\n",
    "for idx_alg, which_alg in enumerate(alg_names):\n",
    "    for idx_froot, froot in enumerate(froots):\n",
    "        print( idx_alg, idx_froot)\n",
    "        combined_stats[idx_alg].extend( [ int(x) for x in all_stats[idx_froot][idx_alg][:,0] ]  )\n",
    "        combined_identicals[idx_alg].extend( [int(x) for x in all_stats[idx_froot][idx_alg][indices_identical[idx_froot][idx_alg],0]] )\n"
   ]
  },
  {
   "cell_type": "code",
   "execution_count": null,
   "metadata": {
    "collapsed": true
   },
   "outputs": [],
   "source": [
    "# Make table\n",
    "import numpy\n",
    "\n",
    "    \n",
    "alg_names = ['catfish', 'toboggan']\n",
    "individual_stats = {}\n",
    "individual_identicals = {} \n",
    "data_by_size = {}\n",
    "for idx_froot, froot in enumerate(froots):\n",
    "    individual_stats[froot] = [[],[]]\n",
    "    individual_identicals[froot] = [[],[]]\n",
    "    for idx_alg, which_alg in enumerate(alg_names):\n",
    "        print( idx_alg, idx_froot, froot)\n",
    "        individual_stats[froot][idx_alg].extend( [ int(x) for x in all_stats[idx_froot][idx_alg][:,0] ]  )\n",
    "        individual_identicals[froot][idx_alg].extend( [int(x) for x in all_stats[idx_froot][idx_alg][indices_identical[idx_froot][idx_alg],0]] )\n",
    "        \n",
    "    data_by_size[froot] = {}\n",
    "    for size, count in collections.Counter(numpy.array(individual_stats[froot][0])).items():\n",
    "        data_by_size[froot][size] = [count]\n",
    "    total_num = sum( [ val[0] for val in data_by_size[froot].values() ] )\n",
    "    for which_alg in range(len(alg_names)):\n",
    "        all_counter = collections.Counter(numpy.array(individual_stats[froot][which_alg]))\n",
    "        identical_counter = collections.Counter(numpy.array(individual_identicals[froot][which_alg]))\n",
    "        for size, count in identical_counter.items():\n",
    "            data_by_size[froot][size].append(count/data_by_size[froot][size][0])"
   ]
  },
  {
   "cell_type": "code",
   "execution_count": 26,
   "metadata": {
    "collapsed": false,
    "deletable": true,
    "editable": true
   },
   "outputs": [
    {
     "name": "stdout",
     "output_type": "stream",
     "text": [
      "size & instances  &  catfish &  toboggan  \\\\\n",
      "\\midrule\n",
      "  5 &        25885 &   89.70\\% &   89.18\\% \\\\\n",
      "  6 &        11767 &   84.59\\% &   84.52\\% \\\\\n",
      "  7 &         5188 &   80.51\\% &   79.51\\% \\\\\n",
      "  8 &         2219 &   76.61\\% &   76.48\\% \\\\\n",
      "  9 &          980 &   73.37\\% &   74.80\\% \\\\\n",
      " 10 &           46 &   76.09\\% &   84.78\\% \\\\\n",
      "size & instances  &  catfish &  toboggan  \\\\\n",
      "\\midrule\n",
      "  5 &        19431 &   88.00\\% &   88.02\\% \\\\\n",
      "  6 &         8751 &   82.13\\% &   81.34\\% \\\\\n",
      "  7 &         3952 &   77.63\\% &   76.82\\% \\\\\n",
      "  8 &         1766 &   77.29\\% &   77.01\\% \\\\\n",
      "  9 &          740 &   75.14\\% &   74.59\\% \\\\\n",
      " 10 &           31 &   67.74\\% &   74.19\\% \\\\\n",
      "size & instances  &  catfish &  toboggan  \\\\\n",
      "\\midrule\n",
      "  5 &         5060 &   85.53\\% &   84.19\\% \\\\\n",
      "  6 &         1662 &   76.53\\% &   74.85\\% \\\\\n",
      "  7 &          523 &   69.98\\% &   66.73\\% \\\\\n",
      "  8 &          183 &   71.04\\% &   71.04\\% \\\\\n",
      "  9 &           70 &   70.00\\% &   64.29\\% \\\\\n",
      " 10 &           24 &   83.33\\% &   79.17\\% \\\\\n",
      " 11 &            6 &   50.00\\% &   50.00\\% \\\\\n"
     ]
    }
   ],
   "source": [
    "for froot in froots:\n",
    "    max_size = max(data_by_size[froot].keys())\n",
    "    ordered_list = [0 for x in range(0,max_size-2+1)]\n",
    "    for size, val in data_by_size[froot].items():\n",
    "        ordered_list[size-2] = [ size, *val ]\n",
    "    print(\"{} & {}  &  {} &  {}  \\\\\\\\\".format(\"size\", \"instances\", \"catfish\", \"toboggan\"))\n",
    "    print(\"\\\\midrule\")\n",
    "    for row in ordered_list:\n",
    "        inst_size = row[0]\n",
    "        num_inst = row[1]\n",
    "        catfish = row[2]\n",
    "        toboggan = row[3]\n",
    "        if inst_size < 5:\n",
    "            continue\n",
    "        print(\" {:2d} & {:12d} & {:7.2f}\\% & {:7.2f}\\% \\\\\\\\\".format(inst_size, num_inst, 100*catfish, 100*toboggan))"
   ]
  },
  {
   "cell_type": "code",
   "execution_count": 48,
   "metadata": {
    "collapsed": false,
    "deletable": true,
    "editable": true
   },
   "outputs": [],
   "source": [
    "# PLOT: GROUDTRUTH RECOVERY -- main image\n",
    "\n",
    "import matplotlib as mpl\n",
    "import matplotlib.pyplot as plt\n",
    "import numpy\n",
    "import collections\n",
    "figurename = 'groundtruth-recovery-'\n",
    "\n",
    "def rebin_above_counter(input_counter, threshold=5):\n",
    "    temp_ddict = collections.defaultdict(int)\n",
    "    threshold_dict = collections.defaultdict(int)\n",
    "    for key, val in input_counter.items():\n",
    "        if key >= threshold:\n",
    "            threshold_dict[threshold] += val\n",
    "        else:\n",
    "            temp_ddict[key] = val\n",
    "    return temp_ddict, threshold_dict\n",
    "\n",
    "def rebin_below_counter(input_counter, threshold=5):\n",
    "    temp_ddict = collections.defaultdict(int)\n",
    "    threshold_dict = collections.defaultdict(int)\n",
    "    for key, val in input_counter.items():\n",
    "        if key < threshold:\n",
    "            threshold_dict[threshold] += val\n",
    "        else:\n",
    "            temp_ddict[key] = val\n",
    "    return temp_ddict, threshold_dict\n",
    "\n",
    "def get_font_info():\n",
    "    yaxis_font_size = 12\n",
    "    xaxis_font_size = 13\n",
    "    legend_font_size = 10\n",
    "    axis_font = {'fontname':'DejaVu Sans', 'size':'{}'.format(xaxis_font_size)}\n",
    "    title_font = {'fontname':'DejaVu Sans', 'size':'16'}\n",
    "    xtick_font = 9\n",
    "    ytick_font = 9\n",
    "    return yaxis_font_size, xaxis_font_size, legend_font_size, axis_font, title_font, xtick_font, ytick_font\n",
    "\n",
    "def plot_recovery_outset(figurename, all_stats, identical_stats, counter_cutoff=5, show_flag=True, figtitle=''):\n",
    "\n",
    "    def tally_ratios_and_counts(all_counter, identical_counter):\n",
    "        data_ratios = []\n",
    "        soln_sizes = []\n",
    "        num_datapoints = []\n",
    "        for soln_size, x in all_counter.items():\n",
    "            y = identical_counter[soln_size]\n",
    "            if x != 0:\n",
    "                data_ratios.append(y/x)\n",
    "                num_datapoints.append(int(x))\n",
    "                soln_sizes.append(int(soln_size))\n",
    "        return data_ratios, soln_sizes, num_datapoints\n",
    "                \n",
    "    # [1] collect data\n",
    "    alg_names = ['catfish', 'toboggan']\n",
    "    ratio_correctness_both = {}\n",
    "    soln_sizes_both = {}\n",
    "    num_datapoints_both = {}\n",
    "    ratio_correctness_outliers = {}\n",
    "    \n",
    "    for which_alg in range(len(alg_names)):\n",
    "\n",
    "        all_counter = collections.Counter(numpy.array(all_stats[which_alg]))\n",
    "        identical_counter = collections.Counter(numpy.array(identical_stats[which_alg]))\n",
    "        # Move all datapoints of size > counter_cutoff into the last bin\n",
    "        all_counter, threshold_all_counter = rebin_above_counter(all_counter, counter_cutoff)\n",
    "        identical_counter, threshold_identical_counter = rebin_above_counter(identical_counter, counter_cutoff)\n",
    "        ratio_correctness_both[which_alg], soln_sizes_xdata, instance_count_ydata = tally_ratios_and_counts(all_counter, identical_counter)\n",
    "        ratio_correctness_outliers[which_alg], soln_sizes_outliers_xdata, outliers_count_ydata = tally_ratios_and_counts(threshold_all_counter, threshold_identical_counter)\n",
    "\n",
    "    # [1.1] get bar heights for \"instance count by decomp size\"\n",
    "    #   x = soln_sizes_xdata\n",
    "    #   y = instance_ratio_bar_heights_ydata\n",
    "    total_num_instances = sum(instance_count_ydata)\n",
    "    instance_ratio_bar_heights_ydata = list(numpy.array(instance_count_ydata)/total_num_instances)\n",
    "    outlier_ratio_bar_heights_ydata = list(numpy.array(outliers_count_ydata)/total_num_instances)\n",
    "    \n",
    "    # [2] Set up both axes\n",
    "    plt.close()\n",
    "    plt.clf()\n",
    "    plt.figure(figsize=(4,3))\n",
    "    ax = plt.gca()\n",
    "    fig = plt.gcf()\n",
    "\n",
    "    color_toboggan =  tuple( x/256 for x in [212,170,0] ) # cm.colors[0]\n",
    "    color_catfish = tuple( x/256 for x in [0.0,160.0,212.0] ) # cm.colors[3]\n",
    "    color_average = tuple( x/512 for x in [212,340,212] )\n",
    "    colors = [color_catfish, color_toboggan]\n",
    "    decomp_size_color = tuple([ x/256 for x in [220,220,220] ] )\n",
    "    \n",
    "    yaxis_font_size, xaxis_font_size, legend_font_size, axis_font, title_font, xtick_font, ytick_font = get_font_info()\n",
    "    \n",
    "    width = 0.3       # the width of the bars\n",
    "    top_zorder = 10\n",
    "    bottom_zorder = 1\n",
    "    percent_or_ratio_scalar = 100 # change to 1 to make ratio instead of percent\n",
    "\n",
    "    # [3] PLOT MAIN DATA\n",
    "    # [3.1] Plot bar silhouette for instance ratios\n",
    "    ydata = [ x*percent_or_ratio_scalar for x in instance_ratio_bar_heights_ydata ]\n",
    "    plt.bar( soln_sizes_xdata, ydata, 2*width, color='none',\n",
    "            edgecolor='black', linewidth=0.5, zorder=top_zorder, label='ground truth')\n",
    "    \n",
    "    # [3.2] Make colored bars for toboggan / catfish\n",
    "    scaled_data_both = ratio_correctness_both.copy()\n",
    "    for idx in range(len(instance_count_ydata)):\n",
    "        scaled_data_both[0][idx] *= ydata[idx]\n",
    "        scaled_data_both[1][idx] *= ydata[idx]\n",
    "    which_alg = 0            \n",
    "    plt.bar([x-width/2 for x in soln_sizes_xdata ], scaled_data_both[which_alg], width,\n",
    "            alpha=1, color=colors[which_alg], label=alg_names[which_alg], zorder=bottom_zorder)\n",
    "    which_alg = 1\n",
    "    plt.bar( [x+width/2 for x in soln_sizes_xdata ], scaled_data_both[which_alg], width,\n",
    "             alpha=1, color=colors[which_alg], label=alg_names[which_alg], zorder=bottom_zorder)\n",
    "\n",
    "    # [4] PLOT OUTLIER BARS\n",
    "    # [4.1] Plot bar silhouette for instance ratios\n",
    "    ydata = [ x*percent_or_ratio_scalar for x in outlier_ratio_bar_heights_ydata ]\n",
    "    plt.bar( soln_sizes_outliers_xdata, ydata, 2*width, color='none',\n",
    "            edgecolor='black', linewidth=0.5, zorder=top_zorder)\n",
    "    \n",
    "    # [4.2] Make colored bars for toboggan / catfish\n",
    "    scaled_data_both = ratio_correctness_outliers.copy()\n",
    "    for idx in range(len(outliers_count_ydata)):\n",
    "        scaled_data_both[0][idx] *= ydata[idx]\n",
    "        scaled_data_both[1][idx] *= ydata[idx]\n",
    "    which_alg = 0            \n",
    "    plt.bar([x-width/2 for x in soln_sizes_outliers_xdata ], scaled_data_both[which_alg], width,\n",
    "            alpha=1, color=colors[which_alg], zorder=bottom_zorder, hatch='//////')\n",
    "    which_alg = 1\n",
    "    plt.bar( [x+width/2 for x in soln_sizes_outliers_xdata ], scaled_data_both[which_alg], width,\n",
    "             alpha=1, color=colors[which_alg], zorder=bottom_zorder, hatch='\\\\\\\\\\\\\\\\\\\\\\\\')\n",
    "    mpl.rcParams['hatch.color'] = 'white'\n",
    "    mpl.rcParams['hatch.linewidth'] = 2.25\n",
    "\n",
    "    annotation_text = 'see\\ninset'\n",
    "    if figtitle != '':\n",
    "        annotation_text = 'see\\ntable'\n",
    "    plt.annotate(annotation_text, xy=(counter_cutoff, .3*percent_or_ratio_scalar), xytext=(counter_cutoff, .11*percent_or_ratio_scalar), fontsize=9, fontstyle='italic', horizontalalignment='center' )\n",
    "\n",
    "    # MODIFY AXES\n",
    "    #   X-AXIS\n",
    "    plt.xlabel(\"Decomposition size (k)\", **axis_font)\n",
    "    xlims = plt.xlim()\n",
    "    # Determine xlims\n",
    "    xlimmin = xlims[0]\n",
    "    xlimmax = max(soln_sizes_xdata) + 1.5\n",
    "    plt.xlim([xlimmin, xlimmax])\n",
    "    ax.tick_params('x', labelsize=xtick_font)\n",
    "    ax.set_xticks( [x for x in range(2,counter_cutoff+1) ] )\n",
    "    new_xticklabels = [str(x) for x in list(range(2, counter_cutoff))]\n",
    "    new_xticklabels.extend( ['{}+'.format(counter_cutoff)] )\n",
    "    ax.set_xticklabels( new_xticklabels )\n",
    "    \n",
    "    #   Y-AXIS\n",
    "    plt.ylabel(\"Percent of instances\", color='black')\n",
    "    plt.gca().yaxis.label.set_size(yaxis_font_size)\n",
    "    # ax.set_yticks([])\n",
    "    plt.ylim([0,percent_or_ratio_scalar])\n",
    "    \n",
    "    plt.legend(loc='upper right', frameon=False, prop={'size':legend_font_size})#, handles=ax1, labels=alg_names)\n",
    "    ax.tick_params('y', colors='black', labelsize=ytick_font)\n",
    "\n",
    "    plt.title(figtitle, **title_font)\n",
    "    fig.tight_layout()\n",
    "\n",
    "    # REMOVE SPINES\n",
    "    # Hide the right and top spines\n",
    "    ax.spines['right'].set_visible(False)\n",
    "    ax.spines['top'].set_visible(False)\n",
    "    ax.spines['left'].set_visible(False)\n",
    "    ax.spines['bottom'].set_visible(False)\n",
    "    # ax.set_axis_bgcolor(tuple([x/256 for x in [247,247,247] ]))\n",
    "    # deprecated\n",
    "    ax.set_facecolor(tuple([x/256 for x in [229,229,229] ]))\n",
    "    \n",
    "\n",
    "    # Only show ticks on the left and bottom spines\n",
    "    ax.yaxis.set_ticks_position('left')\n",
    "    plt.tick_params(\n",
    "        axis='x',          # changes apply to the x-axis\n",
    "        which='both',      # both major and minor ticks are affected\n",
    "        bottom='off')\n",
    "    \n",
    "    if show_flag:\n",
    "        plt.show()\n",
    "    else:\n",
    "        plt.savefig( './figures/' + ''.join([figurename, '.pdf']), format='pdf', dpi=300)\n",
    "        plt.savefig( './figures/' + ''.join([figurename, '.svg']), format='svg', dpi=300)\n",
    "        plt.savefig( './figures/' + ''.join([figurename, '.png']), format='png', dpi=300)\n",
    "    plt.close()\n",
    "    print(\"Done with plot {}\".format(figurename))"
   ]
  },
  {
   "cell_type": "code",
   "execution_count": 49,
   "metadata": {
    "collapsed": false,
    "deletable": true,
    "editable": true
   },
   "outputs": [
    {
     "data": {
      "text/plain": [
       "<matplotlib.figure.Figure at 0x7fd4886dfa20>"
      ]
     },
     "metadata": {},
     "output_type": "display_data"
    },
    {
     "data": {
      "image/png": "[encoded data removed]",
      "text/plain": [
       "<matplotlib.figure.Figure at 0x7fd488702978>"
      ]
     },
     "metadata": {},
     "output_type": "display_data"
    },
    {
     "name": "stdout",
     "output_type": "stream",
     "text": [
      "Done with plot all-recovery-stats-outset\n",
      "Done with plot all-recovery-stats-outset\n"
     ]
    }
   ],
   "source": [
    "counter_cutoff = 5\n",
    "\n",
    "plot_recovery_outset('all-recovery-stats-outset', combined_stats.copy(), combined_identicals.copy(), counter_cutoff, True)\n",
    "plot_recovery_outset('all-recovery-stats-outset', combined_stats.copy(), combined_identicals.copy(), counter_cutoff, False)"
   ]
  },
  {
   "cell_type": "code",
   "execution_count": 42,
   "metadata": {
    "collapsed": true,
    "deletable": true,
    "editable": true
   },
   "outputs": [],
   "source": [
    "# PLOT: GROUDTRUTH RECOVERY -- inset image\n",
    "\n",
    "import matplotlib as mpl\n",
    "import matplotlib.pyplot as plt\n",
    "import numpy\n",
    "import collections\n",
    "\n",
    "def plot_recovery_inset(figurename, all_stats, identical_stats, counter_cutoff=5, show_flag=True):\n",
    "\n",
    "    def tally_ratios_and_counts(all_counter, identical_counter):\n",
    "        data_ratios = []\n",
    "        soln_sizes = []\n",
    "        num_datapoints = []\n",
    "        for soln_size, x in all_counter.items():\n",
    "            y = identical_counter[soln_size]\n",
    "            if x != 0:\n",
    "                data_ratios.append(y/x)\n",
    "                num_datapoints.append(int(x))\n",
    "                soln_sizes.append(int(soln_size))\n",
    "        return data_ratios, soln_sizes, num_datapoints\n",
    "                \n",
    "    # [1] collect data\n",
    "    alg_names = ['catfish', 'toboggan']\n",
    "    ratio_correctness_both = {}\n",
    "    soln_sizes_both = {}\n",
    "    num_datapoints_both = {}\n",
    "    \n",
    "    for which_alg in range(len(alg_names)):\n",
    "        all_counter = collections.Counter(numpy.array(all_stats[which_alg]))\n",
    "        total_num_instances = sum(all_counter.values())\n",
    "        identical_counter = collections.Counter(numpy.array(identical_stats[which_alg]))\n",
    "        # Move all datapoints of size > counter_cutoff into the last bin\n",
    "        all_counter, threshold_all_counter = rebin_below_counter(all_counter, counter_cutoff)\n",
    "        identical_counter, threshold_identical_counter = rebin_below_counter(identical_counter, counter_cutoff)\n",
    "        ratio_correctness_both[which_alg], soln_sizes_xdata, instance_count_ydata = tally_ratios_and_counts(all_counter, identical_counter)\n",
    "        print(all_counter)\n",
    "    # [1.1] get bar heights for \"instance count by decomp size\"\n",
    "    #   x = soln_sizes_xdata\n",
    "    #   y = instance_ratio_bar_heights_ydata\n",
    "    instance_ratio_bar_heights_ydata = list(numpy.array(instance_count_ydata)/total_num_instances)\n",
    "    \n",
    "    # [2] Set up both axes\n",
    "    plt.close()\n",
    "    plt.clf()\n",
    "    plt.figure(figsize=(4,3))\n",
    "    ax = plt.gca()\n",
    "    fig = plt.gcf()\n",
    "\n",
    "    color_toboggan =  tuple( x/256 for x in [212,170,0] ) # cm.colors[0]\n",
    "    color_catfish = tuple( x/256 for x in [0.0,160.0,212.0] ) # cm.colors[3]\n",
    "    color_average = tuple( x/512 for x in [212,340,212] )\n",
    "    colors = [color_catfish, color_toboggan]\n",
    "    decomp_size_color = tuple([ x/256 for x in [220,220,220] ] )\n",
    "    \n",
    "    yaxis_font_size, xaxis_font_size, legend_font_size, axis_font, title_font, xtick_font, ytick_font = get_font_info()\n",
    "    \n",
    "    width = 0.3       # the width of the bars\n",
    "    top_zorder = 10\n",
    "    bottom_zorder = 1\n",
    "    percent_or_ratio_scalar = 100\n",
    "\n",
    "    # [3] PLOT MAIN DATA\n",
    "    # [3.1] Plot bar silhouette for instance ratios\n",
    "    ydata = [ x*percent_or_ratio_scalar for x in instance_ratio_bar_heights_ydata ]\n",
    "    plt.bar( soln_sizes_xdata, ydata, 2*width, color='none',\n",
    "            edgecolor='black', linewidth=0.5, zorder=top_zorder)\n",
    "    \n",
    "    # [3.2] Make colored bars for toboggan / catfish\n",
    "    scaled_data_both = ratio_correctness_both.copy()\n",
    "    for idx in range(len(instance_count_ydata)):\n",
    "        scaled_data_both[0][idx] *= ydata[idx]\n",
    "        scaled_data_both[1][idx] *= ydata[idx]\n",
    "    which_alg = 0            \n",
    "    plt.bar([x-width/2 for x in soln_sizes_xdata ], scaled_data_both[which_alg], width,\n",
    "            alpha=1, color=colors[which_alg], label=alg_names[which_alg], zorder=bottom_zorder)\n",
    "    which_alg = 1\n",
    "    plt.bar( [x+width/2 for x in soln_sizes_xdata ], scaled_data_both[which_alg], width,\n",
    "             alpha=1, color=colors[which_alg], label=alg_names[which_alg], zorder=bottom_zorder)\n",
    "\n",
    "    # MODIFY AXES\n",
    "    #   X-AXIS\n",
    "    #plt.xlabel(\"decomposition size\", **axis_font)\n",
    "    xlims = plt.xlim()\n",
    "    # Determine xlims\n",
    "    xlimmin = xlims[0]\n",
    "    xlimmax = max(soln_sizes_xdata) + 0.5\n",
    "    plt.xlim([xlimmin, xlimmax])\n",
    "    ax.tick_params('x', labelsize=xtick_font)\n",
    "    new_xticklabels = [str(x) for x in list(range(counter_cutoff, max(soln_sizes_xdata)+1))]\n",
    "    ax.set_xticks( [x for x in range(counter_cutoff, max(soln_sizes_xdata)+1) ] )\n",
    "    ax.set_xticklabels( new_xticklabels )\n",
    "\n",
    "    #   Y-AXIS\n",
    "    #plt.ylabel(\"ratio of instances\", color='black', **axis_font)\n",
    "    # ax.set_yticks([])\n",
    "    # plt.ylim([0,1])\n",
    "    # plt.legend(loc='upper right', frameon=False, prop={'size':legend_font_size})#, handles=ax1, labels=alg_names)\n",
    "    ax.tick_params('y', colors='black', labelsize=ytick_font)\n",
    "\n",
    "    #plt.title(\"ground truth recovery\", **title_font)\n",
    "    fig.tight_layout()\n",
    "\n",
    "    # REMOVE SPINES\n",
    "    # Hide the right and top spines\n",
    "    ax.spines['right'].set_visible(False)\n",
    "    ax.spines['top'].set_visible(False)\n",
    "    ax.spines['left'].set_visible(False)\n",
    "    ax.spines['bottom'].set_visible(False)\n",
    "    # ax.set_axis_bgcolor(tuple([x/256 for x in [229,229,229] ]))\n",
    "    # deprecated\n",
    "    ax.set_facecolor(tuple([x/256 for x in [229,229,229] ]))\n",
    "\n",
    "    # Only show ticks on the left and bottom spines\n",
    "    ax.yaxis.set_ticks_position('left')\n",
    "    plt.tick_params(\n",
    "        axis='x',          # changes apply to the x-axis\n",
    "        which='both',      # both major and minor ticks are affected\n",
    "        bottom='off')\n",
    "\n",
    "    # ax.xaxis.set_ticks_position('bottom')    \n",
    "\n",
    "    if show_flag:\n",
    "        plt.show()\n",
    "    else:\n",
    "        plt.savefig( './figures/' + ''.join([figurename, '.pdf']), format='pdf', dpi=300)\n",
    "        plt.savefig( './figures/' + ''.join([figurename, '.svg']), format='svg', dpi=300)\n",
    "        plt.savefig( './figures/' + ''.join([figurename, '.png']), format='png', dpi=300)\n",
    "    plt.close()\n",
    "    print(\"Done with plot {}\".format(figurename))"
   ]
  },
  {
   "cell_type": "code",
   "execution_count": 43,
   "metadata": {
    "collapsed": false,
    "deletable": true,
    "editable": true
   },
   "outputs": [
    {
     "name": "stdout",
     "output_type": "stream",
     "text": [
      "defaultdict(<class 'int'>, {5: 5060, 7: 523, 6: 1662, 9: 70, 8: 183, 10: 24, 11: 6})\n",
      "defaultdict(<class 'int'>, {5: 5060, 7: 523, 6: 1662, 9: 70, 8: 183, 10: 24, 11: 6})\n"
     ]
    },
    {
     "name": "stderr",
     "output_type": "stream",
     "text": [
      "/home/kyle/anaconda3/lib/python3.6/site-packages/ipykernel/__main__.py:109: MatplotlibDeprecationWarning: The set_axis_bgcolor function was deprecated in version 2.0. Use set_facecolor instead.\n"
     ]
    },
    {
     "data": {
      "text/plain": [
       "<matplotlib.figure.Figure at 0x7fd487f25518>"
      ]
     },
     "metadata": {},
     "output_type": "display_data"
    },
    {
     "data": {
      "image/png": "[encoded data removed]",
      "text/plain": [
       "<matplotlib.figure.Figure at 0x7fd487eb9b70>"
      ]
     },
     "metadata": {},
     "output_type": "display_data"
    },
    {
     "name": "stdout",
     "output_type": "stream",
     "text": [
      "Done with plot all-recovery-stats-inset\n",
      "defaultdict(<class 'int'>, {5: 5060, 7: 523, 6: 1662, 9: 70, 8: 183, 10: 24, 11: 6})\n",
      "defaultdict(<class 'int'>, {5: 5060, 7: 523, 6: 1662, 9: 70, 8: 183, 10: 24, 11: 6})\n",
      "Done with plot all-recovery-stats-inset\n"
     ]
    }
   ],
   "source": [
    "plot_recovery_inset('all-recovery-stats-inset', combined_stats.copy(), combined_identicals.copy(), counter_cutoff, True)\n",
    "plot_recovery_inset('all-recovery-stats-inset', combined_stats.copy(), combined_identicals.copy(), counter_cutoff, False)"
   ]
  },
  {
   "cell_type": "code",
   "execution_count": 37,
   "metadata": {
    "collapsed": false,
    "deletable": true,
    "editable": true
   },
   "outputs": [
    {
     "name": "stdout",
     "output_type": "stream",
     "text": [
      "0 0 human\n",
      "1 0 human\n"
     ]
    },
    {
     "data": {
      "text/plain": [
       "<matplotlib.figure.Figure at 0x7fd4a0986ac8>"
      ]
     },
     "metadata": {},
     "output_type": "display_data"
    },
    {
     "data": {
      "image/png": "[encoded data removed]",
      "text/plain": [
       "<matplotlib.figure.Figure at 0x7fd486c1dba8>"
      ]
     },
     "metadata": {},
     "output_type": "display_data"
    },
    {
     "name": "stdout",
     "output_type": "stream",
     "text": [
      "Done with plot recovery-stats-outset-human\n",
      "Done with plot recovery-stats-outset-human\n",
      "0 1 mouse\n",
      "1 1 mouse\n"
     ]
    },
    {
     "data": {
      "text/plain": [
       "<matplotlib.figure.Figure at 0x7fd486e3c1d0>"
      ]
     },
     "metadata": {},
     "output_type": "display_data"
    },
    {
     "data": {
      "image/png": "[encoded data removed]",
      "text/plain": [
       "<matplotlib.figure.Figure at 0x7fd486eb5278>"
      ]
     },
     "metadata": {},
     "output_type": "display_data"
    },
    {
     "name": "stdout",
     "output_type": "stream",
     "text": [
      "Done with plot recovery-stats-outset-mouse\n",
      "Done with plot recovery-stats-outset-mouse\n",
      "0 2 zebra\n",
      "1 2 zebra\n"
     ]
    },
    {
     "data": {
      "text/plain": [
       "<matplotlib.figure.Figure at 0x7fd48703c2e8>"
      ]
     },
     "metadata": {},
     "output_type": "display_data"
    },
    {
     "data": {
      "image/png": "[encoded data removed]",
      "text/plain": [
       "<matplotlib.figure.Figure at 0x7fd487034860>"
      ]
     },
     "metadata": {},
     "output_type": "display_data"
    },
    {
     "name": "stdout",
     "output_type": "stream",
     "text": [
      "Done with plot recovery-stats-outset-zebra\n",
      "Done with plot recovery-stats-outset-zebra\n"
     ]
    }
   ],
   "source": [
    "# Now do species specific\n",
    "\n",
    "# combine all datasets\n",
    "counter_cutoff = 5\n",
    "alg_names = ['catfish', 'toboggan']\n",
    "for idx_froot, froot in enumerate(froots):\n",
    "    combined_stats = [[],[]]\n",
    "    combined_identicals = [[],[]]\n",
    "    for idx_alg, which_alg in enumerate(alg_names):\n",
    "        print( idx_alg, idx_froot, froot)\n",
    "        combined_stats[idx_alg].extend( [ int(x) for x in all_stats[idx_froot][idx_alg][:,0] ]  )\n",
    "        combined_identicals[idx_alg].extend( [int(x) for x in all_stats[idx_froot][idx_alg][indices_identical[idx_froot][idx_alg],0]] )\n",
    "    plot_recovery_outset( 'recovery-stats-outset-' + froot, combined_stats.copy(), combined_identicals.copy(), counter_cutoff, True)\n",
    "    plot_recovery_outset( 'recovery-stats-outset-' + froot, combined_stats.copy(), combined_identicals.copy(), counter_cutoff, False)"
   ]
  },
  {
   "cell_type": "code",
   "execution_count": 7,
   "metadata": {
    "collapsed": false,
    "deletable": true,
    "editable": true
   },
   "outputs": [
    {
     "name": "stdout",
     "output_type": "stream",
     "text": [
      "On human\n",
      "catfish has 18088\n",
      "toboggan has 38901\n",
      "On mouse\n",
      "catfish has 16660\n",
      "toboggan has 49028\n",
      "On zebra\n",
      "catfish has 9069\n",
      "toboggan has 46158\n"
     ]
    }
   ],
   "source": [
    "# NOW DO BOXPLOTS ON INSTANCES WHERE ALGORITHM MISSES GROUNDTRUTH\n",
    "\n",
    "def get_stats(set1, set2):\n",
    "    identical = False\n",
    "    if set1 == set2:\n",
    "        identical = True\n",
    "    len_intersect = len(set1.intersection(set2))\n",
    "    jaccard = len_intersect / ( len(set1) + len(set2) - len_intersect )\n",
    "    if len(set1) == 0:\n",
    "        recall = 1.0\n",
    "    else:\n",
    "        recall = len_intersect / len(set1)\n",
    "\n",
    "    return recall, jaccard, identical\n",
    "\n",
    "# all_path_info, all_toboggan_data = get_all_data( [0,1,2] )\n",
    "# froots = ['human', 'mouse', 'zebra']\n",
    "\n",
    "data_catfish = {}\n",
    "data_toboggan = {}\n",
    "num_nontrivials = []\n",
    "\n",
    "for froot in froots:\n",
    "    gt_pathset_dict = all_path_info['groundtruth'][froot]\n",
    "    toboggan_paths = all_path_info['toboggan'][froot]\n",
    "    catfish_paths = all_path_info['catfish'][froot]\n",
    "    \n",
    "    this_catfish = []\n",
    "    this_toboggan = []\n",
    "    this_num_nontrivial = 0\n",
    "\n",
    "    for key, gt_path in gt_pathset_dict.items():\n",
    "        gt_size = len(gt_path)\n",
    "        if gt_size == 1:  # skip trivial instances\n",
    "            continue\n",
    "        cat_recall, cat_jaccard, cat_identical = get_stats(gt_path, catfish_paths[key])\n",
    "        tob_recall, tob_jaccard, tob_identical = get_stats(gt_path, toboggan_paths[key])\n",
    "        if not cat_identical:\n",
    "            this_catfish.append( (gt_size, cat_recall, cat_jaccard, key) )\n",
    "        if not tob_identical:\n",
    "            this_toboggan.append((gt_size, tob_recall, tob_jaccard, key) )\n",
    "        this_num_nontrivial += 1\n",
    "    \n",
    "    data_catfish[froot] = this_catfish\n",
    "    data_toboggan[froot] = this_toboggan\n",
    "    num_nontrivials.append(this_num_nontrivial)\n",
    "\n",
    "    print(\"On {}\".format(froot))\n",
    "    print(\"catfish has {}\".format(len(this_catfish)))\n",
    "    print(\"toboggan has {}\".format(len(this_toboggan)))"
   ]
  },
  {
   "cell_type": "code",
   "execution_count": 8,
   "metadata": {
    "collapsed": false,
    "deletable": true,
    "editable": true
   },
   "outputs": [
    {
     "data": {
      "image/png": "[encoded data removed]",
      "text/plain": [
       "<matplotlib.figure.Figure at 0x7f4278710400>"
      ]
     },
     "metadata": {},
     "output_type": "display_data"
    },
    {
     "name": "stdout",
     "output_type": "stream",
     "text": [
      "Done with plot alg-recall-\n"
     ]
    },
    {
     "data": {
      "image/png": "[encoded data removed]",
      "text/plain": [
       "<matplotlib.figure.Figure at 0x7f4278b5b128>"
      ]
     },
     "metadata": {},
     "output_type": "display_data"
    },
    {
     "name": "stdout",
     "output_type": "stream",
     "text": [
      "Done with plot alg-recall-\n"
     ]
    },
    {
     "data": {
      "image/png": "[encoded data removed]",
      "text/plain": [
       "<matplotlib.figure.Figure at 0x7f4278c0c198>"
      ]
     },
     "metadata": {},
     "output_type": "display_data"
    },
    {
     "name": "stdout",
     "output_type": "stream",
     "text": [
      "Done with plot alg-recall-\n"
     ]
    }
   ],
   "source": [
    "# Boxplots for ground truth recovery\n",
    "\n",
    "import numpy\n",
    "import matplotlib.pyplot as plt\n",
    "import collections\n",
    "\n",
    "figurename = 'alg-recall-'\n",
    "alg_names = ['catfish', 'toboggan']\n",
    "colors = ['red', 'blue']\n",
    "\n",
    "show_flag = True\n",
    "\n",
    "for idx, froot in enumerate(froots):\n",
    "    \n",
    "    this_catfish = data_catfish[froot]\n",
    "    this_toboggan = data_toboggan[froot]\n",
    "    num_nontrivial = num_nontrivials[idx]\n",
    "\n",
    "    sizes_cat, recall_cat, jaccard_cat, keys_cat = zip(*this_catfish)\n",
    "    sizes_tob, recall_tob, jaccard_tob, keys_tob = zip(*this_toboggan)\n",
    "\n",
    "    plt.close()\n",
    "    plt.clf()\n",
    "\n",
    "    fig = plt.figure(1, figsize=(4, 3))\n",
    "    ax = fig.add_subplot(111)\n",
    "    ax.boxplot( [jaccard_cat, jaccard_tob] )\n",
    "\n",
    "    plt.title('overlap with groundtruth: {}'.format(froot), fontsize=16)\n",
    "    plt.ylabel('jaccard index', fontsize=16)\n",
    "    ylims = plt.ylim()\n",
    "    plt.ylim([ylims[0],1])\n",
    "    ax.tick_params('y', labelsize=15)\n",
    "    ax.set_xticklabels( [alg_names[0] + \" {}\".format(len(this_catfish)), alg_names[1] + \" {}\".format(len(this_toboggan))], fontsize=15 )\n",
    "    fig.tight_layout()\n",
    "\n",
    "    if show_flag:\n",
    "        plt.show()\n",
    "    else:\n",
    "        plt.savefig( './figures/' + ''.join([figurename, froot, '.pdf']), format='pdf', dpi=300)\n",
    "        plt.savefig( './figures/' + ''.join([figurename, froot, '.png']), format='png', dpi=300)\n",
    "    plt.close()\n",
    "    print(\"Done with plot {}\".format(figurename))"
   ]
  }
 ],
 "metadata": {
  "kernelspec": {
   "display_name": "Python 3",
   "language": "python",
   "name": "python3"
  },
  "language_info": {
   "codemirror_mode": {
    "name": "ipython",
    "version": 3
   },
   "file_extension": ".py",
   "mimetype": "text/x-python",
   "name": "python",
   "nbconvert_exporter": "python",
   "pygments_lexer": "ipython3",
   "version": "3.6.0"
  }
 },
 "nbformat": 4,
 "nbformat_minor": 2
}
