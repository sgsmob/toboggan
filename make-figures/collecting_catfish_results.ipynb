{
 "cells": [
  {
   "cell_type": "code",
   "execution_count": 1,
   "metadata": {
    "collapsed": true
   },
   "outputs": [],
   "source": [
    "# This notebook aggregates all output from toboggan for an input dataset\n",
    "# and then creates a runtime histogram for that dataset\n",
    "\n",
    "# CHANGE froot TO THE DATASET YOU WANT: zebra, human, mouse\n",
    "froot = 'mouse'\n",
    "which_alg = \"toboggan\""
   ]
  },
  {
   "cell_type": "code",
   "execution_count": 2,
   "metadata": {
    "collapsed": true
   },
   "outputs": [],
   "source": [
    "inputfile = \"all-\" + froot + \".txt\"\n",
    "catinputfile = 'catfish-' + froot + '-output.txt'\n",
    "\n",
    "import table_generator\n",
    "\n",
    "toboggan_dict, toboggan_matrix = table_generator.make_tables(inputfile)"
   ]
  },
  {
   "cell_type": "code",
   "execution_count": 3,
   "metadata": {
    "collapsed": false
   },
   "outputs": [],
   "source": [
    "import collections\n",
    "\n",
    "def get_catfish_tables(directory, inputfile):\n",
    "    datamatrix = []\n",
    "    datadict = collections.defaultdict(lambda:-1)\n",
    "    idx = 0\n",
    "    with open(directory + inputfile, 'r') as datafile:\n",
    "        for line in datafile:\n",
    "            temp_line = line.strip().split()\n",
    "            key = temp_line[0] + ' ' + temp_line[1]\n",
    "            row = temp_line[2::]\n",
    "            if datadict[key] == -1:  # nothing present, so add the row\n",
    "                datamatrix.append(row)\n",
    "                datadict[key] = idx\n",
    "                idx +=1\n",
    "            else:\n",
    "                datamatrix[datadict[key]] = row\n",
    "                    \n",
    "    return datadict, datamatrix"
   ]
  },
  {
   "cell_type": "code",
   "execution_count": 4,
   "metadata": {
    "collapsed": false
   },
   "outputs": [],
   "source": [
    "catinputfile = 'catfish-' + froot + '-output.txt'\n",
    "catfish_dict, catfish_matrix = get_catfish_tables( '../catfish-comparison/', catinputfile)"
   ]
  },
  {
   "cell_type": "code",
   "execution_count": 5,
   "metadata": {
    "collapsed": false,
    "scrolled": false
   },
   "outputs": [],
   "source": [
    "# create dict of graph file + graph name, from toboggan\n",
    "toboggandict_new = collections.defaultdict(lambda:-1)\n",
    "toboggandict_counter = collections.defaultdict(int)\n",
    "for key, val in toboggan_dict.items():\n",
    "    gname = toboggan_matrix[val][-1]\n",
    "    gfile = key.split()[0]\n",
    "    gfile = gfile.split('.')[0]\n",
    "    newkey = gfile +' ' + gname\n",
    "    toboggandict_counter[newkey] += 1\n",
    "    toboggandict_new[newkey] = val"
   ]
  },
  {
   "cell_type": "code",
   "execution_count": 6,
   "metadata": {
    "collapsed": false
   },
   "outputs": [
    {
     "name": "stdout",
     "output_type": "stream",
     "text": [
      "Confirm no repeats; should be 1 :  1\n",
      "Confirm toboggandict is in 1-1 with toboggan data matrix:\n",
      "\tthis should be 0 : 0 \n"
     ]
    }
   ],
   "source": [
    "# Confirm no repeats: should be == 1\n",
    "print(\"Confirm no repeats; should be 1 :  {}\".format(max(toboggandict_counter.values())) ) \n",
    "print(\"Confirm toboggandict is in 1-1 with toboggan data matrix:\\n\"\n",
    "      \"\\tthis should be 0 : {} \".format(len(toboggandict_new)-len(toboggan_dict) ) )"
   ]
  },
  {
   "cell_type": "code",
   "execution_count": 7,
   "metadata": {
    "collapsed": false
   },
   "outputs": [
    {
     "name": "stdout",
     "output_type": "stream",
     "text": [
      "Confirm that catfish contains all of toboggan instances:\n",
      "\ttoboggan size:   1316058\n",
      "\tintersect size:  1316058\n",
      "\tcatfish size:    1316058\n"
     ]
    }
   ],
   "source": [
    "# Finally, check that toboggan filename - graphname pairs are equal to toboggan\n",
    "crossrefdict = collections.defaultdict(int)\n",
    "\n",
    "for key, _ in toboggandict_new.items():\n",
    "    if key in catfish_dict:\n",
    "        crossrefdict[key] += 1\n",
    "\n",
    "print(\"Confirm that catfish contains all of toboggan instances:\\n\"\n",
    "      \"\\ttoboggan size:   {}\\n\"\n",
    "      \"\\tintersect size:  {}\\n\"\n",
    "      \"\\tcatfish size:    {}\".format( len(toboggan_dict), len(crossrefdict), len(catfish_dict) ))\n"
   ]
  },
  {
   "cell_type": "code",
   "execution_count": 9,
   "metadata": {
    "collapsed": false
   },
   "outputs": [
    {
     "name": "stdout",
     "output_type": "stream",
     "text": [
      "mouse\n"
     ]
    }
   ],
   "source": [
    "print(froot)\n",
    "for key, _ in catfish_dict.items():\n",
    "    if key not in toboggandict_new:\n",
    "        print(key)"
   ]
  }
 ],
 "metadata": {
  "kernelspec": {
   "display_name": "Python 3",
   "language": "python",
   "name": "python3"
  },
  "language_info": {
   "codemirror_mode": {
    "name": "ipython",
    "version": 3
   },
   "file_extension": ".py",
   "mimetype": "text/x-python",
   "name": "python",
   "nbconvert_exporter": "python",
   "pygments_lexer": "ipython3",
   "version": "3.6.0"
  }
 },
 "nbformat": 4,
 "nbformat_minor": 2
}
