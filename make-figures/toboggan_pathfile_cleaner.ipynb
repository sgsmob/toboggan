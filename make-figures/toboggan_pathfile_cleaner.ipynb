{
 "cells": [
  {
   "cell_type": "code",
   "execution_count": 5,
   "metadata": {
    "collapsed": false
   },
   "outputs": [
    {
     "name": "stdout",
     "output_type": "stream",
     "text": [
      "Loading paths for mouse\n",
      "\tpaths loaded\n",
      "mouse done writing\n",
      "Loading paths for human\n",
      "\tpaths loaded\n",
      "human done writing\n",
      "Loading paths for zebra\n",
      "\tpaths loaded\n",
      "zebra done writing\n"
     ]
    }
   ],
   "source": [
    "from algorithm_output_parser import toboggan_output_parser\n",
    "\n",
    "# WRITE JUST THE PATH INFO\n",
    "toboggan_paths = {}\n",
    "\n",
    "for froot in ['mouse', 'human', 'zebra']:\n",
    "    print(\"Loading paths for {}\".format(froot))\n",
    "    toboggan_results_file = './data/' + froot + '-master-file.txt'\n",
    "    toboggan_paths[froot] = toboggan_output_parser(toboggan_results_file, {}, verbose=False)\n",
    "    print(\"\\tpaths loaded\")\n",
    "\n",
    "    with open('./data/master-clean-' + froot + '.txt', 'w') as outputfile:\n",
    "        for key, pathset in toboggan_paths[froot].items():\n",
    "            outputfile.write( '# ' + key + '\\n')\n",
    "            for path in pathset:\n",
    "                line = ''\n",
    "                for node in path:\n",
    "                    line = line + str(node) + ' '\n",
    "                outputfile.write( line + '\\n' )\n",
    "    print(\"{} done writing\".format(froot))"
   ]
  },
  {
   "cell_type": "code",
   "execution_count": 8,
   "metadata": {
    "collapsed": false
   },
   "outputs": [
    {
     "name": "stdout",
     "output_type": "stream",
     "text": [
      "mouse\n",
      "470700\n",
      "470700\n",
      "human\n",
      "527050\n",
      "527050\n",
      "zebra\n",
      "445702\n",
      "445702\n"
     ]
    }
   ],
   "source": [
    "# CHECK THE NEW FILES ARE COMPLETE\n",
    "from algorithm_output_parser import toboggan_output_parser\n",
    "from algorithm_output_parser import toboggan_clean_output_parser\n",
    "\n",
    "froots = ['mouse', 'human', 'zebra']\n",
    "toboggan_paths_clean = {}\n",
    "for froot in froots:\n",
    "    print(froot)\n",
    "    # LOAD THE NEW WAY\n",
    "    toboggan_results_file = './data/master-clean-' + froot + '.txt'\n",
    "    toboggan_paths_clean[froot] = toboggan_clean_output_parser(toboggan_results_file, verbose=False)\n",
    "\n",
    "    # NOW CHECK THAT ALL PATHS WERE SCRAPED PROPERLY\n",
    "    for key, val in toboggan_paths[froot].items():\n",
    "        if key not in toboggan_paths_clean[froot]:\n",
    "            print(key, \" not in both\")\n",
    "            break\n",
    "        if val != toboggan_paths_clean[froot][key]:\n",
    "            print(key, val, toboggan_paths_clean[froot][key])\n",
    "            break\n",
    "\n",
    "    print(len(toboggan_paths[froot]))\n",
    "    print(len(toboggan_paths_clean[froot]))"
   ]
  },
  {
   "cell_type": "code",
   "execution_count": null,
   "metadata": {
    "collapsed": true
   },
   "outputs": [],
   "source": []
  }
 ],
 "metadata": {
  "kernelspec": {
   "display_name": "Python 3",
   "language": "python",
   "name": "python3"
  },
  "language_info": {
   "codemirror_mode": {
    "name": "ipython",
    "version": 3
   },
   "file_extension": ".py",
   "mimetype": "text/x-python",
   "name": "python",
   "nbconvert_exporter": "python",
   "pygments_lexer": "ipython3",
   "version": "3.6.0"
  }
 },
 "nbformat": 4,
 "nbformat_minor": 2
}
