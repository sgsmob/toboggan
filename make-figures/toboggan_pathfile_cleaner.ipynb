{
 "cells": [
  {
   "cell_type": "code",
   "execution_count": 11,
   "metadata": {
    "collapsed": false,
    "deletable": true,
    "editable": true
   },
   "outputs": [
    {
     "name": "stdout",
     "output_type": "stream",
     "text": [
      "Loading paths for mouse\n",
      "\tpaths loaded\n",
      "Loading paths for human\n",
      "\tpaths loaded\n",
      "Loading paths for zebra\n",
      "\tpaths loaded\n"
     ]
    }
   ],
   "source": [
    "from algorithm_output_parser import toboggan_output_parser\n",
    "\n",
    "# WRITE JUST THE PATH INFO\n",
    "toboggan_paths = {}\n",
    "\n",
    "for froot in ['mouse', 'human', 'zebra']:\n",
    "    print(\"Loading paths for {}\".format(froot))\n",
    "    toboggan_results_file = './data/' + froot + '-master-file.txt'\n",
    "    toboggan_paths[froot] = toboggan_output_parser(toboggan_results_file, {}, verbose=False)\n",
    "    print(\"\\tpaths loaded\")"
   ]
  },
  {
   "cell_type": "code",
   "execution_count": 5,
   "metadata": {
    "collapsed": false,
    "deletable": true,
    "editable": true
   },
   "outputs": [
    {
     "name": "stdout",
     "output_type": "stream",
     "text": [
      "Loading paths for mouse\n",
      "\tpaths loaded\n",
      "mouse done writing\n",
      "Loading paths for human\n",
      "\tpaths loaded\n",
      "human done writing\n",
      "Loading paths for zebra\n",
      "\tpaths loaded\n",
      "zebra done writing\n"
     ]
    }
   ],
   "source": [
    "# THIS WRITES THE PATHS IN A CLEANER WAY\n",
    "# for froot in ['mouse', 'human', 'zebra']:\n",
    "#     with open('./data/master-clean-' + froot + '.txt', 'w') as outputfile:\n",
    "#         for key, pathset in toboggan_paths[froot].items():\n",
    "#             outputfile.write( '# ' + key + '\\n')\n",
    "#             for path in pathset:\n",
    "#                 line = ''\n",
    "#                 for node in path:\n",
    "#                     line = line + str(node) + ' '\n",
    "#                 outputfile.write( line + '\\n' )\n",
    "#     print(\"{} done writing\".format(froot))"
   ]
  },
  {
   "cell_type": "code",
   "execution_count": 8,
   "metadata": {
    "collapsed": false,
    "deletable": true,
    "editable": true
   },
   "outputs": [
    {
     "name": "stdout",
     "output_type": "stream",
     "text": [
      "mouse\n",
      "470700\n",
      "470700\n",
      "human\n",
      "527050\n",
      "527050\n",
      "zebra\n",
      "445702\n",
      "445702\n"
     ]
    }
   ],
   "source": [
    "# CHECK THE NEW FILES ARE COMPLETE\n",
    "from algorithm_output_parser import toboggan_output_parser\n",
    "from algorithm_output_parser import toboggan_clean_output_parser\n",
    "\n",
    "def check_two_pathsets_are_equal(pathset_correct, pathset_check):\n",
    "    # NOW CHECK THAT ALL PATHS WERE SCRAPED PROPERLY\n",
    "    for key, val in pathset_correct.items():\n",
    "        if key not in pathset_check:\n",
    "            print(key, \" not in both\")\n",
    "            break\n",
    "        if val != pathset_check[key]:\n",
    "            print(key, val, pathset_check[key])\n",
    "            break\n",
    "\n",
    "froots = ['mouse', 'human', 'zebra']\n",
    "toboggan_paths_clean = {}\n",
    "for froot in froots:\n",
    "    print(froot)\n",
    "    # LOAD THE NEW WAY\n",
    "    toboggan_results_file = './data/master-clean-' + froot + '.txt'\n",
    "    toboggan_paths_clean[froot] = toboggan_clean_output_parser(toboggan_results_file, verbose=False)\n",
    "\n",
    "    # NOW CHECK THAT ALL PATHS WERE SCRAPED PROPERLY\n",
    "    check_two_pathsets_are_equal(toboggan_paths[froot], toboggan_paths_clean[froot])\n",
    "\n",
    "    print(len(toboggan_paths[froot]))\n",
    "    print(len(toboggan_paths_clean[froot]))"
   ]
  },
  {
   "cell_type": "code",
   "execution_count": 23,
   "metadata": {
    "collapsed": false,
    "deletable": true,
    "editable": true
   },
   "outputs": [
    {
     "name": "stdout",
     "output_type": "stream",
     "text": [
      "Loading corrected paths for mouse\n",
      "\tpaths loaded\n",
      "Now writing clean paths\n",
      "Loading corrected paths for zebra\n",
      "\tpaths loaded\n",
      "Now writing clean paths\n"
     ]
    }
   ],
   "source": [
    "# Re-write incorrect-[datafile] files\n",
    "# First gather the info\n",
    "\n",
    "froots = ['mouse', 'zebra']\n",
    "toboggan_reruns_paths = {}\n",
    "for froot in froots:\n",
    "    print(\"Loading corrected paths for {}\".format(froot))\n",
    "    toboggan_reruns_results_file = '../corrected-gt-recovery/reruns-incorrect-' + froot + '.txt'\n",
    "    toboggan_reruns_paths[froot] = toboggan_output_parser(toboggan_reruns_results_file, {}, verbose=False)\n",
    "    print(\"\\tpaths loaded\")\n",
    "    print(\"Now writing clean paths\")"
   ]
  },
  {
   "cell_type": "code",
   "execution_count": 24,
   "metadata": {
    "collapsed": false,
    "deletable": true,
    "editable": true
   },
   "outputs": [
    {
     "name": "stdout",
     "output_type": "stream",
     "text": [
      "mouse done writing\n",
      "zebra done writing\n"
     ]
    }
   ],
   "source": [
    "# DO THE RE-WRITING\n",
    "for froot in froots:\n",
    "    with open('./data/reruns-incorrect-clean-' + froot + '.txt', 'w') as outputfile:\n",
    "        for key, pathset in toboggan_reruns_paths[froot].items():\n",
    "            outputfile.write( '# ' + key + '\\n')\n",
    "            for path in pathset:\n",
    "                line = ''\n",
    "                for node in path:\n",
    "                    line = line + str(node) + ' '\n",
    "                outputfile.write( line + '\\n' )\n",
    "    print(\"{} done writing\".format(froot))"
   ]
  },
  {
   "cell_type": "code",
   "execution_count": 25,
   "metadata": {
    "collapsed": false,
    "deletable": true,
    "editable": true
   },
   "outputs": [
    {
     "name": "stdout",
     "output_type": "stream",
     "text": [
      "if no bad output, then all are clean\n"
     ]
    }
   ],
   "source": [
    "for froot in froots:\n",
    "    toboggan_reruns_clean_results_file = './data/reruns-incorrect-clean-' + froot + '.txt'\n",
    "    toboggan_reruns_paths_clean = toboggan_clean_output_parser(toboggan_reruns_clean_results_file, verbose=False)\n",
    "    check_two_pathsets_are_equal(toboggan_reruns_paths[froot],  toboggan_reruns_paths_clean)\n",
    "\n",
    "print(\"if no bad output, then all are clean\")"
   ]
  }
 ],
 "metadata": {
  "kernelspec": {
   "display_name": "Python 3",
   "language": "python",
   "name": "python3"
  },
  "language_info": {
   "codemirror_mode": {
    "name": "ipython",
    "version": 3
   },
   "file_extension": ".py",
   "mimetype": "text/x-python",
   "name": "python",
   "nbconvert_exporter": "python",
   "pygments_lexer": "ipython3",
   "version": "3.6.0"
  }
 },
 "nbformat": 4,
 "nbformat_minor": 2
}
