{
 "cells": [
  {
   "cell_type": "code",
   "execution_count": null,
   "metadata": {
    "collapsed": false,
    "deletable": true,
    "editable": true
   },
   "outputs": [],
   "source": [
    "# FILTER DATA\n",
    "from load_all_data import get_all_data\n",
    "\n",
    "# [1] get all data\n",
    "all_path_info, all_toboggan_data = get_all_data( [1] )\n",
    "froots = ['human', 'mouse', 'zebra']"
   ]
  },
  {
   "cell_type": "code",
   "execution_count": null,
   "metadata": {
    "collapsed": false,
    "deletable": true,
    "editable": true
   },
   "outputs": [],
   "source": []
  },
  {
   "cell_type": "code",
   "execution_count": null,
   "metadata": {
    "collapsed": false,
    "deletable": true,
    "editable": true
   },
   "outputs": [],
   "source": [
    "min_keys = []\n",
    "\n",
    "for key in indices_strange:\n",
    "    row = all_toboggan_data['mouse'][key]\n",
    "    k_true = int(row[7])\n",
    "    m_red = int(row[3])\n",
    "    temp_size = k_true * m_red\n",
    "    if temp_size <= min_size:\n",
    "        min_keys.append(key)\n"
   ]
  },
  {
   "cell_type": "code",
   "execution_count": null,
   "metadata": {
    "collapsed": false,
    "deletable": true,
    "editable": true
   },
   "outputs": [],
   "source": [
    "indices_strange[key_min]"
   ]
  },
  {
   "cell_type": "code",
   "execution_count": null,
   "metadata": {
    "collapsed": false,
    "deletable": true,
    "editable": true
   },
   "outputs": [],
   "source": [
    "x,y = indices_strange[key_min]"
   ]
  },
  {
   "cell_type": "code",
   "execution_count": null,
   "metadata": {
    "collapsed": false,
    "deletable": true,
    "editable": true
   },
   "outputs": [],
   "source": [
    "counter = 0\n",
    "\n",
    "indices_problematic = {}\n",
    "# for key, pathsets in indices_strange.items():\n",
    "for key in min_keys:\n",
    "    pathsets = indices_strange[key]\n",
    "    paths_tob, paths_gt = pathsets\n",
    "    #  build nodesets\n",
    "    nodes_tob = set()\n",
    "    nodes_gt = set()\n",
    "        print(pathsets)\n",
    "    for path in paths_tob:\n",
    "        print(path)\n",
    "        print(set(path))\n",
    "        nodes_tob = nodes_tob.union(set(path))\n",
    "    for path in paths_gt:\n",
    "        nodes_gt = nodes_gt.union(set(path))\n",
    "    print(nodes_tob)\n",
    "    print(nodes_gt)\n",
    "    print(\"\\n\\n\")\n",
    "    if nodes_tob != nodes_gt:\n",
    "        indices_problematic[key] = 1\n",
    "    counter += 1\n",
    "    if counter > 10:\n",
    "        break\n",
    "\n",
    "    "
   ]
  },
  {
   "cell_type": "code",
   "execution_count": null,
   "metadata": {
    "collapsed": false,
    "deletable": true,
    "editable": true
   },
   "outputs": [],
   "source": [
    "len(indices_problematic)"
   ]
  },
  {
   "cell_type": "code",
   "execution_count": null,
   "metadata": {
    "collapsed": true,
    "deletable": true,
    "editable": true
   },
   "outputs": [],
   "source": [
    "indices_problematic = {}\n",
    "for key, pathsets in indices_strange.items():\n",
    "    pathsets = indices_strange[key]\n",
    "    paths_tob, paths_gt = pathsets\n",
    "    #  build nodesets\n",
    "    nodes_tob = set()\n",
    "    nodes_gt = set()\n",
    "    for path in paths_tob:\n",
    "        nodes_tob = nodes_tob.union(set(path))\n",
    "    for path in paths_gt:\n",
    "        nodes_gt = nodes_gt.union(set(path))\n",
    "    if nodes_tob != nodes_gt:\n",
    "        indices_problematic[key] = 1\n",
    "\n",
    "    "
   ]
  },
  {
   "cell_type": "code",
   "execution_count": null,
   "metadata": {
    "collapsed": false,
    "deletable": true,
    "editable": true
   },
   "outputs": [],
   "source": [
    "len(indices_problematic)"
   ]
  },
  {
   "cell_type": "code",
   "execution_count": null,
   "metadata": {
    "collapsed": true,
    "deletable": true,
    "editable": true
   },
   "outputs": [],
   "source": []
  }
 ],
 "metadata": {
  "kernelspec": {
   "display_name": "Python 3",
   "language": "python",
   "name": "python3"
  },
  "language_info": {
   "codemirror_mode": {
    "name": "ipython",
    "version": 3
   },
   "file_extension": ".py",
   "mimetype": "text/x-python",
   "name": "python",
   "nbconvert_exporter": "python",
   "pygments_lexer": "ipython3",
   "version": "3.6.0"
  }
 },
 "nbformat": 4,
 "nbformat_minor": 2
}
