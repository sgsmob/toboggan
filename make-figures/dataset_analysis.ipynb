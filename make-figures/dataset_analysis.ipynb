{
 "cells": [
  {
   "cell_type": "code",
   "execution_count": 1,
   "metadata": {
    "collapsed": false,
    "deletable": true,
    "editable": true
   },
   "outputs": [],
   "source": [
    "# This notebook aggregates all output from toboggan for an input dataset\n",
    "# and then creates a runtime histogram for that dataset\n",
    "\n",
    "# CHANGE froot TO THE DATASET YOU WANT: zebra, human, mouse\n",
    "froot = 'zebra'\n",
    "\n",
    "# FILTER DATA\n",
    "import collections\n",
    "inputfile = \"all-\" + froot + \".txt\"\n",
    "\n",
    "import table_generator\n",
    "datadict, datamatrix = table_generator.make_tables(inputfile)\n"
   ]
  },
  {
   "cell_type": "code",
   "execution_count": 2,
   "metadata": {
    "collapsed": false,
    "deletable": true,
    "editable": true
   },
   "outputs": [],
   "source": [
    "# LOOKING AT DIFFERENCE BETWEEN k_groundtruth AND k_opt\n",
    "\n",
    "cutset_kgt = collections.defaultdict(int)\n",
    "improved_kgt = collections.defaultdict(int)\n",
    "cutset_improve = collections.defaultdict(int)\n",
    "kgt_fails = collections.defaultdict(int)\n",
    "trivial_kgt_fails = collections.defaultdict(int)\n",
    "kgt_fail_info = []\n",
    "total_success = 0\n",
    "\n",
    "for key, val in datadict.items():\n",
    "    row = datamatrix[val]\n",
    "    \"\"\"\n",
    "    datamatrix[j] = [ n, m, n_red, m_red,\n",
    "                      k_groundtruth, k_opt, cutset_bound, improved_bound,\n",
    "                      t_w, t_path]\n",
    "    \"\"\"\n",
    "    kgt = int(row[4])\n",
    "    kopt = row[5]\n",
    "    cutset_bound = int(row[6])\n",
    "    improved_bound = int(row[7])\n",
    "    if cutset_bound == kgt:\n",
    "        cutset_kgt[kgt] += 1\n",
    "    if improved_bound == kgt:\n",
    "        improved_kgt[kgt] += 1\n",
    "    if cutset_bound < improved_bound:\n",
    "        cutset_improve[improved_bound-cutset_bound] += 1\n",
    "    if kopt == 'None':\n",
    "        continue\n",
    "    total_success += 1\n",
    "    kopt = int(kopt)\n",
    "    if kgt > kopt:\n",
    "        k_gap = kgt-kopt\n",
    "        if int(row[2]) == 1:  # if trivial graph, take note\n",
    "            trivial_kgt_fails[k_gap] += 1\n",
    "            continue\n",
    "        kgt_fails[k_gap] += 1\n",
    "        kgt_fail_info.append([kgt, kopt])\n"
   ]
  },
  {
   "cell_type": "code",
   "execution_count": 3,
   "metadata": {
    "collapsed": false,
    "deletable": true,
    "editable": true
   },
   "outputs": [
    {
     "name": "stdout",
     "output_type": "stream",
     "text": [
      "==================================================\n",
      "zebra\n",
      "=====\n",
      "zebra has total instances                 1549373\n",
      "\n",
      "cutset / lowerbound facts\n",
      "\tk_groundtruth = max_cutset_size on        1540685\n",
      "\t                           (all but          8688)\n",
      "\tk_groundtruth = improved_bound on         1546699\n",
      "\t                           (all but          2674)\n",
      "\n",
      "k_gt / k_opt facts\n",
      "\ttoboggan has finished on                  1549195\n",
      "\tof those, k_groundtruth > k_opt on:           455\n",
      "\t                  trivial instances            53\n",
      "\t               nontrivial instances           402\n",
      "\taverage k_gt                                 5.21\n",
      "\taverage k_opt                                4.13\n"
     ]
    }
   ],
   "source": [
    "# Facts about cutsets and lowerbounds\n",
    "\n",
    "print(\"==================================================\")\n",
    "print(froot)\n",
    "print( \"\".join( [ \"=\" for g in range(len(froot)) ] ) )\n",
    "prestr = \"{} has total instances\".format(froot)\n",
    "print( \"{:35}  {:>12}\".format(prestr, len(datadict)) )\n",
    "\n",
    "\n",
    "print(\"\\ncutset / lowerbound facts\")\n",
    "prestr = \"k_groundtruth = max_cutset_size on\"\n",
    "print( \"\\t{:35}  {:>12}\".format(prestr, sum( [val for _, val in cutset_kgt.items()])) )\n",
    "print( \"\\t{:>35}  {:>12})\".format( \"(all but\", len(datadict) - sum( [val for _, val in cutset_kgt.items()])) )\n",
    "prestr = \"k_groundtruth = improved_bound on\"\n",
    "print( \"\\t{:35}  {:>12}\".format( prestr, sum( [val for _, val in improved_kgt.items()])) )\n",
    "print( \"\\t{:>35}  {:>12})\".format( \"(all but\", len(datadict) - sum( [val for _, val in improved_kgt.items()])) )\n",
    "\n",
    "\n",
    "# Facts about kgt vs kopt\n",
    "print(\"\\nk_gt / k_opt facts\")\n",
    "print( \"\\t{:35}  {:>12}\".format(\"toboggan has finished on\", total_success) )\n",
    "\n",
    "trivial_fails = sum( [val for _, val in trivial_kgt_fails.items()])\n",
    "nontrivial_fails = sum( [val for _, val in kgt_fails.items()])\n",
    "total_fails = nontrivial_fails + trivial_fails\n",
    "\n",
    "print( \"\\t{:35}  {:>12}\".format(\"of those, k_groundtruth > k_opt on:\", total_fails) )\n",
    "print( \"\\t{:>35}  {:>12}\".format(\"trivial instances\", trivial_fails ) )\n",
    "print( \"\\t{:>35}  {:>12}\".format(\"nontrivial instances\", nontrivial_fails ) )\n",
    "\n",
    "# How big are k_groundtruth and k_optimal on these instances?\n",
    "\n",
    "import numpy as np\n",
    "averages = np.average(kgt_fail_info,axis=0)\n",
    "print( \"\\t{:35}  {:12.2f}\".format(\"average k_gt\", averages[0] ) )\n",
    "print( \"\\t{:35}  {:12.2f}\".format(\"average k_opt\", averages[1] ) )"
   ]
  },
  {
   "cell_type": "code",
   "execution_count": null,
   "metadata": {
    "collapsed": true,
    "deletable": true,
    "editable": true
   },
   "outputs": [],
   "source": []
  }
 ],
 "metadata": {
  "kernelspec": {
   "display_name": "Python 3",
   "language": "python",
   "name": "python3"
  },
  "language_info": {
   "codemirror_mode": {
    "name": "ipython",
    "version": 3
   },
   "file_extension": ".py",
   "mimetype": "text/x-python",
   "name": "python",
   "nbconvert_exporter": "python",
   "pygments_lexer": "ipython3",
   "version": "3.6.0"
  }
 },
 "nbformat": 4,
 "nbformat_minor": 2
}
