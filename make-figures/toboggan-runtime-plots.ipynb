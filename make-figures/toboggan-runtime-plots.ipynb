{
 "cells": [
  {
   "cell_type": "code",
   "execution_count": 1,
   "metadata": {
    "collapsed": false,
    "deletable": true,
    "editable": true
   },
   "outputs": [],
   "source": [
    "# This notebook aggregates all output from toboggan for an input dataset\n",
    "# and then creates a runtime histogram for that dataset\n",
    "\n",
    "# CHANGE froot TO THE DATASET YOU WANT: zebra, human, mouse\n",
    "froot = 'zebra'\n",
    "timeoutexceed = 800\n",
    "which_alg = \"toboggan\""
   ]
  },
  {
   "cell_type": "code",
   "execution_count": 2,
   "metadata": {
    "collapsed": false,
    "deletable": true,
    "editable": true
   },
   "outputs": [],
   "source": [
    "inputfile = \"all-\" + froot + \".txt\"\n",
    "\n",
    "import table_generator\n",
    "\n",
    "datadict, datamatrix = table_generator.make_tables(inputfile)"
   ]
  },
  {
   "cell_type": "code",
   "execution_count": 3,
   "metadata": {
    "collapsed": false,
    "deletable": true,
    "editable": true
   },
   "outputs": [],
   "source": [
    "info_dict = table_generator.get_toboggan_timing_info(datadict, datamatrix)\n",
    "num_trivial = info_dict['num_trivial']\n",
    "num_timedout = info_dict['num_timedout']\n",
    "time_totals = info_dict['time_totals']\n",
    "total_num = info_dict['total_num']"
   ]
  },
  {
   "cell_type": "code",
   "execution_count": 4,
   "metadata": {
    "collapsed": false,
    "deletable": true,
    "editable": true
   },
   "outputs": [
    {
     "name": "stdout",
     "output_type": "stream",
     "text": [
      "zebra has \n",
      "\ttotal   instances:      1549373\n",
      "\ttrivial instances:      1103493\n",
      "\tnontriv instances:       445880\n",
      "\n",
      "toboggan with 800s timeout has\n",
      "\ttimeout instances:          178\n",
      "\tsuccess instances:       445702\n",
      "445880\n"
     ]
    }
   ],
   "source": [
    "table_generator.print_data_summary( froot, len(datadict), num_trivial )\n",
    "table_generator.print_alg_summary( which_alg, timeoutexceed, num_timedout, len(time_totals) )\n",
    "\n",
    "print(num_timedout + len(time_totals))"
   ]
  },
  {
   "cell_type": "code",
   "execution_count": 5,
   "metadata": {
    "collapsed": false
   },
   "outputs": [],
   "source": [
    "catinputfile = 'catfish-' + froot + '-output.txt'\n",
    "catfish_dict, catfish_matrix = table_generator.get_catfish_tables( '../catfish-comparison/', catinputfile)\n",
    "\n",
    "time_totals_catfish = table_generator.get_catfish_timing_info(catfish_dict, catfish_matrix)"
   ]
  },
  {
   "cell_type": "code",
   "execution_count": 7,
   "metadata": {
    "collapsed": false,
    "deletable": true,
    "editable": true
   },
   "outputs": [],
   "source": [
    "import matplotlib.pyplot as plt\n",
    "import numpy as np\n",
    "\n",
    "plt.clf()\n",
    "#logbins=np.logspace(-4, 3, 7)\n",
    "logbins = [10**-4, 10**-3, 10**-2, 10**-1, 1, 10, 100, 1000, 10000]\n",
    "log_scale_flag = True\n",
    "n, bins, patchs = plt.hist(time_totals, bins=logbins, log=log_scale_flag, alpha=0.5, label='toboggan')\n",
    "n, bins, patchs = plt.hist(time_totals_catfish, bins=logbins, log=log_scale_flag, alpha=0.5, label='catfish')\n",
    "\n",
    "plt.legend(loc='upper right')\n",
    "plt.title(\"Runtimes: {}\".format(froot))\n",
    "plt.xlabel(\"time\")\n",
    "plt.ylabel(\"Frequency\")\n",
    "plt.gca().set_xscale(\"log\")\n",
    "\n",
    "#plt.show()\n",
    "plt.savefig( ''.join(['runtime-toboggan-', froot, '.eps']), format='eps', dpi=300)\n",
    "plt.savefig( ''.join(['runtime-toboggan-', froot, '.png']), format='png', dpi=300)\n",
    "plt.close()"
   ]
  }
 ],
 "metadata": {
  "kernelspec": {
   "display_name": "Python 3",
   "language": "python",
   "name": "python3"
  },
  "language_info": {
   "codemirror_mode": {
    "name": "ipython",
    "version": 3
   },
   "file_extension": ".py",
   "mimetype": "text/x-python",
   "name": "python",
   "nbconvert_exporter": "python",
   "pygments_lexer": "ipython3",
   "version": "3.6.0"
  }
 },
 "nbformat": 4,
 "nbformat_minor": 2
}
