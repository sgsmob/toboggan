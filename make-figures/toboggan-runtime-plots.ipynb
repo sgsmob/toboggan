{
 "cells": [
  {
   "cell_type": "code",
   "execution_count": 1,
   "metadata": {
    "collapsed": false,
    "deletable": true,
    "editable": true
   },
   "outputs": [],
   "source": [
    "# This notebook aggregates all output from toboggan for an input dataset\n",
    "# and then creates a runtime histogram for that dataset\n",
    "\n",
    "# CHANGE froot TO THE DATASET YOU WANT: zebra, human, mouse\n",
    "froot = 'mouse'\n",
    "timeoutexceed = 50\n",
    "which_alg = \"toboggan\""
   ]
  },
  {
   "cell_type": "code",
   "execution_count": 2,
   "metadata": {
    "collapsed": false,
    "deletable": true,
    "editable": true
   },
   "outputs": [],
   "source": [
    "inputfile = \"all-\" + froot + \".txt\"\n",
    "\n",
    "import table_generator\n",
    "\n",
    "datadict, datamatrix = table_generator.make_tables(inputfile)"
   ]
  },
  {
   "cell_type": "code",
   "execution_count": 9,
   "metadata": {
    "collapsed": false,
    "deletable": true,
    "editable": true
   },
   "outputs": [
    {
     "ename": "NameError",
     "evalue": "name 'get_toboggan_timing_info' is not defined",
     "output_type": "error",
     "traceback": [
      "\u001b[0;31m---------------------------------------------------------------------------\u001b[0m",
      "\u001b[0;31mNameError\u001b[0m                                 Traceback (most recent call last)",
      "\u001b[0;32m<ipython-input-9-9fe0782a0be1>\u001b[0m in \u001b[0;36m<module>\u001b[0;34m()\u001b[0m\n\u001b[0;32m----> 1\u001b[0;31m \u001b[0minfo_dict\u001b[0m \u001b[0;34m=\u001b[0m \u001b[0mget_toboggan_timing_info\u001b[0m\u001b[0;34m(\u001b[0m\u001b[0mdatadict\u001b[0m\u001b[0;34m,\u001b[0m \u001b[0mdatamatrix\u001b[0m\u001b[0;34m)\u001b[0m\u001b[0;34m\u001b[0m\u001b[0m\n\u001b[0m\u001b[1;32m      2\u001b[0m \u001b[0mnum_trivial\u001b[0m \u001b[0;34m=\u001b[0m \u001b[0minfo_dict\u001b[0m\u001b[0;34m[\u001b[0m\u001b[0;34m'num_trivial'\u001b[0m\u001b[0;34m]\u001b[0m\u001b[0;34m\u001b[0m\u001b[0m\n\u001b[1;32m      3\u001b[0m \u001b[0mnum_timedout\u001b[0m \u001b[0;34m=\u001b[0m \u001b[0minfo_dict\u001b[0m\u001b[0;34m[\u001b[0m\u001b[0;34m'num_timedout'\u001b[0m\u001b[0;34m]\u001b[0m\u001b[0;34m\u001b[0m\u001b[0m\n\u001b[1;32m      4\u001b[0m \u001b[0mtime_totals\u001b[0m \u001b[0;34m=\u001b[0m \u001b[0minfo_dict\u001b[0m\u001b[0;34m[\u001b[0m\u001b[0;34m'time_totals'\u001b[0m\u001b[0;34m]\u001b[0m\u001b[0;34m\u001b[0m\u001b[0m\n\u001b[1;32m      5\u001b[0m \u001b[0mtotal_num\u001b[0m \u001b[0;34m=\u001b[0m \u001b[0minfo_dict\u001b[0m\u001b[0;34m[\u001b[0m\u001b[0;34m'total_num'\u001b[0m\u001b[0;34m]\u001b[0m\u001b[0;34m\u001b[0m\u001b[0m\n",
      "\u001b[0;31mNameError\u001b[0m: name 'get_toboggan_timing_info' is not defined"
     ]
    }
   ],
   "source": [
    "info_dict = table_generator.get_toboggan_timing_info(datadict, datamatrix)\n",
    "num_trivial = info_dict['num_trivial']\n",
    "num_timedout = info_dict['num_timedout']\n",
    "time_totals = info_dict['time_totals']\n",
    "total_num = info_dict['total_num']"
   ]
  },
  {
   "cell_type": "code",
   "execution_count": 4,
   "metadata": {
    "collapsed": false,
    "deletable": true,
    "editable": true
   },
   "outputs": [
    {
     "name": "stdout",
     "output_type": "stream",
     "text": [
      "mouse has \n",
      "\ttotal   instances:      1316056\n",
      "\ttrivial instances:       842873\n",
      "\tnontriv instances:       473183\n",
      "\n",
      "toboggan with 50s timeout has\n",
      "\ttimeout instances:         2487\n",
      "\tsuccess instances:       470696\n",
      "473183\n"
     ]
    }
   ],
   "source": [
    "table_generator.print_data_summary( froot, len(datadict), num_trivial )\n",
    "table_generator.print_alg_summary( which_alg, timeoutexceed, num_timedout, len(time_totals) )\n",
    "\n",
    "print(num_timedout + len(time_totals))"
   ]
  },
  {
   "cell_type": "code",
   "execution_count": 5,
   "metadata": {
    "collapsed": false,
    "deletable": true,
    "editable": true
   },
   "outputs": [],
   "source": [
    "import matplotlib.pyplot as plt\n",
    "import numpy as np\n",
    "\n",
    "plt.clf()\n",
    "#logbins=np.logspace(-4, 3, 7)\n",
    "logbins = [10**-4, 10**-3, 10**-2, 10**-1, 1, 10, 100, 1000, 10000]\n",
    "n, bins, patchs = plt.hist(time_totals, bins=logbins, log=True)\n",
    "plt.title(\"Runtimes: {}, {}\".format(which_alg, froot))\n",
    "plt.xlabel(\"time\")\n",
    "plt.ylabel(\"Frequency\")\n",
    "plt.gca().set_xscale(\"log\")\n",
    "\n",
    "#plt.show()\n",
    "plt.savefig( ''.join(['runtime-toboggan-', froot, '.eps']), format='eps', dpi=300)\n",
    "plt.savefig( ''.join(['runtime-toboggan-', froot, '.png']), format='png', dpi=300)\n",
    "plt.close()"
   ]
  },
  {
   "cell_type": "code",
   "execution_count": 6,
   "metadata": {
    "collapsed": false
   },
   "outputs": [
    {
     "data": {
      "text/plain": [
       "1316056"
      ]
     },
     "execution_count": 6,
     "metadata": {},
     "output_type": "execute_result"
    }
   ],
   "source": [
    "len(datamatrix)"
   ]
  },
  {
   "cell_type": "code",
   "execution_count": 7,
   "metadata": {
    "collapsed": false
   },
   "outputs": [
    {
     "data": {
      "text/plain": [
       "1316056"
      ]
     },
     "execution_count": 7,
     "metadata": {},
     "output_type": "execute_result"
    }
   ],
   "source": [
    "len(datadict)"
   ]
  }
 ],
 "metadata": {
  "kernelspec": {
   "display_name": "Python 3",
   "language": "python",
   "name": "python3"
  },
  "language_info": {
   "codemirror_mode": {
    "name": "ipython",
    "version": 3
   },
   "file_extension": ".py",
   "mimetype": "text/x-python",
   "name": "python",
   "nbconvert_exporter": "python",
   "pygments_lexer": "ipython3",
   "version": "3.6.0"
  }
 },
 "nbformat": 4,
 "nbformat_minor": 2
}
