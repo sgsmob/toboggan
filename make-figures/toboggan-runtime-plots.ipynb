{
 "cells": [
  {
   "cell_type": "code",
   "execution_count": 1,
   "metadata": {
    "collapsed": false,
    "deletable": true,
    "editable": true
   },
   "outputs": [],
   "source": [
    "# This notebook aggregates all output from toboggan for an input dataset\n",
    "# and then creates a runtime histogram for that dataset\n",
    "\n",
    "# CHANGE froot TO THE DATASET YOU WANT: zebra, human, mouse\n",
    "froot = 'zebra'\n",
    "timeoutexceed = 800\n",
    "which_alg = \"toboggan\""
   ]
  },
  {
   "cell_type": "code",
   "execution_count": 2,
   "metadata": {
    "collapsed": false,
    "deletable": true,
    "editable": true
   },
   "outputs": [],
   "source": [
    "inputfile = \"all-\" + froot + \".txt\"\n",
    "\n",
    "import table_generator\n",
    "\n",
    "datadict, datamatrix = table_generator.make_tables(inputfile)"
   ]
  },
  {
   "cell_type": "code",
   "execution_count": 3,
   "metadata": {
    "collapsed": false,
    "deletable": true,
    "editable": true
   },
   "outputs": [],
   "source": [
    "num_trivial = 0\n",
    "num_timedout = 0\n",
    "time_totals = []\n",
    "total_num = len(datamatrix)\n",
    "for key, val in datadict.items():\n",
    "    row = datamatrix[val]\n",
    "    \"\"\"\n",
    "    datamatrix[j] = [ n, m, n_red, m_red,\n",
    "                      k_groundtruth, k_opt, cutset_bound, improved_bound,\n",
    "                      t_w, t_path]\n",
    "    \"\"\"\n",
    "    if row[2] == '1':  # trivial instance because reduced graph has 1 node\n",
    "        num_trivial += 1\n",
    "        continue\n",
    "    elif row[5] == 'None':  # timedout instance\n",
    "        num_timedout += 1\n",
    "        continue\n",
    "    else:\n",
    "        time_total = float(row[8]) + float(row[9])\n",
    "        if float(row[8]) > timeoutexceed:\n",
    "            #print(\"time value exceeds timeout\")\n",
    "            print(key)\n",
    "            #print(row)\n",
    "            continue\n",
    "        if time_total == 0.0:\n",
    "            print(\"Time of 0.0, something went wrong\")\n",
    "            print(froot + \" \" + key)\n",
    "            print(row)\n",
    "        time_totals.append(time_total)"
   ]
  },
  {
   "cell_type": "code",
   "execution_count": 4,
   "metadata": {
    "collapsed": false,
    "deletable": true,
    "editable": true
   },
   "outputs": [
    {
     "name": "stdout",
     "output_type": "stream",
     "text": [
      "zebra has \n",
      "\ttotal   instances:      1549373\n",
      "\ttrivial instances:      1103493\n",
      "\tnontriv instances:       445880\n",
      "\n",
      "toboggan with 800s timeout has\n",
      "\ttimeout instances:          178\n",
      "\tsuccess instances:       445702\n"
     ]
    }
   ],
   "source": [
    "table_generator.print_data_summary( froot, len(datadict), num_trivial )\n",
    "table_generator.print_alg_summary( which_alg, timeoutexceed, num_timedout, len(time_totals) )"
   ]
  },
  {
   "cell_type": "code",
   "execution_count": 7,
   "metadata": {
    "collapsed": false,
    "deletable": true,
    "editable": true
   },
   "outputs": [],
   "source": [
    "import matplotlib.pyplot as plt\n",
    "import numpy as np\n",
    "\n",
    "plt.clf()\n",
    "#logbins=np.logspace(-4, 3, 7)\n",
    "logbins = [10**-4, 10**-3, 10**-2, 10**-1, 1, 10, 100, 1000, 10000]\n",
    "n, bins, patchs = plt.hist(time_totals, bins=logbins, log=True)\n",
    "plt.title(\"Runtimes: {}, {}\".format(which_alg, froot))\n",
    "plt.xlabel(\"time\")\n",
    "plt.ylabel(\"Frequency\")\n",
    "plt.gca().set_xscale(\"log\")\n",
    "\n",
    "#plt.show()\n",
    "plt.savefig( ''.join(['runtime-toboggan-', froot, '.eps']), format='eps', dpi=300)\n",
    "plt.savefig( ''.join(['runtime-toboggan-', froot, '.png']), format='png', dpi=300)\n",
    "plt.close()"
   ]
  },
  {
   "cell_type": "code",
   "execution_count": 6,
   "metadata": {
    "collapsed": false
   },
   "outputs": [
    {
     "data": {
      "text/plain": [
       "1546.4690294266"
      ]
     },
     "execution_count": 6,
     "metadata": {},
     "output_type": "execute_result"
    }
   ],
   "source": [
    "max(time_totals)"
   ]
  }
 ],
 "metadata": {
  "kernelspec": {
   "display_name": "Python 3",
   "language": "python",
   "name": "python3"
  },
  "language_info": {
   "codemirror_mode": {
    "name": "ipython",
    "version": 3
   },
   "file_extension": ".py",
   "mimetype": "text/x-python",
   "name": "python",
   "nbconvert_exporter": "python",
   "pygments_lexer": "ipython3",
   "version": "3.6.0"
  }
 },
 "nbformat": 4,
 "nbformat_minor": 2
}
