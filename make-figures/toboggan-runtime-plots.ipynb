{
 "cells": [
  {
   "cell_type": "code",
   "execution_count": 1,
   "metadata": {
    "collapsed": false
   },
   "outputs": [],
   "source": [
    "# Want to load in all data for a given datatype, i.e. human, zebra, mouse\n",
    "# then catalogue relevant info for each instance:\n",
    "#\n",
    "# fname inst# n m n_red m_red k_gt k_opt cutset impr_bd t_w t_path\n",
    "\n",
    "froot = 'zebra'\n",
    "timeoutexceed = 800\n",
    "which_alg = \"toboggan\""
   ]
  },
  {
   "cell_type": "code",
   "execution_count": 2,
   "metadata": {
    "collapsed": false
   },
   "outputs": [],
   "source": [
    "import collections\n",
    "inputfile = \"all-\" + froot + \".txt\"\n",
    "\n",
    "def make_tables(inputfile):\n",
    "    datamatrix = []\n",
    "    datadict = collections.defaultdict(int)\n",
    "    idx = 0\n",
    "    with open(inputfile, 'r') as datafile:\n",
    "        for line in datafile:\n",
    "            temp_line = line.strip().split()\n",
    "            key = temp_line[0] + ' ' + temp_line[1]\n",
    "            row = temp_line[2::]\n",
    "            if datadict[key] == 0:\n",
    "                datamatrix.append(row)\n",
    "                datadict[key] = idx\n",
    "                idx +=1\n",
    "            else:  # check which row has longer timeout\n",
    "                newtime = float(row[8])\n",
    "                oldtime = float(datamatrix[datadict[key]][8])\n",
    "                if newtime > oldtime:\n",
    "                    datamatrix[datadict[key]] = row\n",
    "    return datadict, datamatrix\n"
   ]
  },
  {
   "cell_type": "code",
   "execution_count": 3,
   "metadata": {
    "collapsed": false
   },
   "outputs": [],
   "source": [
    "datadict, datamatrix = make_tables(inputfile)"
   ]
  },
  {
   "cell_type": "code",
   "execution_count": 8,
   "metadata": {
    "collapsed": false
   },
   "outputs": [
    {
     "name": "stdout",
     "output_type": "stream",
     "text": [
      "zebra 23.graph 13037\n",
      "23.graph 13037\n"
     ]
    }
   ],
   "source": [
    "num_trivial = 0\n",
    "num_timedout = 0\n",
    "time_totals = []\n",
    "total_num = len(datamatrix)\n",
    "for key, val in datadict.items():\n",
    "    row = datamatrix[val]\n",
    "    if row[2] == '1':  # trivial instance\n",
    "        num_trivial += 1\n",
    "        continue\n",
    "    elif row[5] == 'None':  # timedout instance\n",
    "        num_timedout += 1\n",
    "        continue\n",
    "    else:\n",
    "        time_total = float(row[8]) + float(row[9])\n",
    "        if time_total > 590:\n",
    "            #print(\"time value exceeds timeout\")\n",
    "            print(key)\n",
    "            #print(row)\n",
    "            continue\n",
    "        if time_total == 0.0:\n",
    "            print(\"Time of 0.0, something went wrong\")\n",
    "            print(froot + \" \" + key)\n",
    "            print(row)\n",
    "        time_totals.append(time_total)"
   ]
  },
  {
   "cell_type": "code",
   "execution_count": 5,
   "metadata": {
    "collapsed": false
   },
   "outputs": [
    {
     "data": {
      "text/plain": [
       "591.556965828"
      ]
     },
     "execution_count": 5,
     "metadata": {},
     "output_type": "execute_result"
    }
   ],
   "source": [
    "max(time_totals)"
   ]
  },
  {
   "cell_type": "code",
   "execution_count": 6,
   "metadata": {
    "collapsed": false
   },
   "outputs": [],
   "source": [
    "import matplotlib.pyplot as plt\n",
    "import numpy as np\n",
    "\n",
    "plt.clf()\n",
    "#logbins=np.logspace(-4, 3, 7)\n",
    "logbins = [10**-4, 10**-3, 10**-2, 10**-1, 1, 10, 100, 1000]\n",
    "n, bins, patchs = plt.hist(time_totals, bins=logbins, log=True)\n",
    "plt.title(\"Runtimes: {}, {}\".format(which_alg, froot))\n",
    "plt.xlabel(\"time\")\n",
    "plt.ylabel(\"Frequency\")\n",
    "plt.gca().set_xscale(\"log\")\n",
    "\n",
    "#plt.show()\n",
    "plt.savefig( ''.join(['runtime-toboggan-', froot, '.eps']), format='eps', dpi=300)\n",
    "plt.savefig( ''.join(['runtime-toboggan-', froot, '.png']), format='png', dpi=300)\n",
    "plt.close()"
   ]
  }
 ],
 "metadata": {
  "kernelspec": {
   "display_name": "Python 3",
   "language": "python",
   "name": "python3"
  },
  "language_info": {
   "codemirror_mode": {
    "name": "ipython",
    "version": 3
   },
   "file_extension": ".py",
   "mimetype": "text/x-python",
   "name": "python",
   "nbconvert_exporter": "python",
   "pygments_lexer": "ipython3",
   "version": "3.6.0"
  }
 },
 "nbformat": 4,
 "nbformat_minor": 2
}
